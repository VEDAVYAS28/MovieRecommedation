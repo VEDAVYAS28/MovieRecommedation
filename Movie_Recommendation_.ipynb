{
  "nbformat": 4,
  "nbformat_minor": 0,
  "metadata": {
    "colab": {
      "name": "Movie_Recommendation_.ipynb",
      "provenance": [],
      "collapsed_sections": [],
      "include_colab_link": true
    },
    "kernelspec": {
      "name": "python3",
      "display_name": "Python 3"
    },
    "language_info": {
      "name": "python"
    }
  },
  "cells": [
    {
      "cell_type": "markdown",
      "metadata": {
        "id": "view-in-github",
        "colab_type": "text"
      },
      "source": [
        "<a href=\"https://colab.research.google.com/github/VEDAVYAS28/MovieRecommedation/blob/main/Movie_Recommendation_.ipynb\" target=\"_parent\"><img src=\"https://colab.research.google.com/assets/colab-badge.svg\" alt=\"Open In Colab\"/></a>"
      ]
    },
    {
      "cell_type": "markdown",
      "source": [
        "\n",
        "#Title of Project\n",
        "#Movie Recommendation System\n",
        "\n",
        "\n",
        "---\n",
        "\n",
        "\n",
        "\n"
      ],
      "metadata": {
        "id": "SGK2jJ9fJAuy"
      }
    },
    {
      "cell_type": "markdown",
      "source": [
        "#Import Library"
      ],
      "metadata": {
        "id": "uj2XFQMRJD_s"
      }
    },
    {
      "cell_type": "code",
      "execution_count": 1,
      "metadata": {
        "id": "UxGj3R62G9W3"
      },
      "outputs": [],
      "source": [
        "import pandas as pd\n",
        "import numpy as np\n"
      ]
    },
    {
      "cell_type": "markdown",
      "source": [
        "#Import Dataset"
      ],
      "metadata": {
        "id": "xlaolpITJixu"
      }
    },
    {
      "cell_type": "code",
      "source": [
        "df = pd.read_csv('/content/Movie Recommendation.csv')"
      ],
      "metadata": {
        "id": "2mLXlpgnJdlA"
      },
      "execution_count": 3,
      "outputs": []
    },
    {
      "cell_type": "code",
      "source": [
        "df.head()"
      ],
      "metadata": {
        "colab": {
          "base_uri": "https://localhost:8080/",
          "height": 716
        },
        "id": "9Y8dNkM7Iv98",
        "outputId": "2aa1c0a0-ff58-474a-a45e-396766952c64"
      },
      "execution_count": 4,
      "outputs": [
        {
          "output_type": "execute_result",
          "data": {
            "text/plain": [
              "   Movie_ID      Movie_Title                       Movie_Genre Movie_Language  \\\n",
              "0         1       Four Rooms                      Crime Comedy             en   \n",
              "1         2        Star Wars  Adventure Action Science Fiction             en   \n",
              "2         3     Finding Nemo                  Animation Family             en   \n",
              "3         4     Forrest Gump              Comedy Drama Romance             en   \n",
              "4         5  American Beauty                             Drama             en   \n",
              "\n",
              "   Movie_Budget  Movie_Popularity Movie_Release_Date  Movie_Revenue  \\\n",
              "0       4000000         22.876230         09-12-1995        4300000   \n",
              "1      11000000        126.393695         25-05-1977      775398007   \n",
              "2      94000000         85.688789         30-05-2003      940335536   \n",
              "3      55000000        138.133331         06-07-1994      677945399   \n",
              "4      15000000         80.878605         15-09-1999      356296601   \n",
              "\n",
              "   Movie_Runtime  Movie_Vote  ...  \\\n",
              "0           98.0         6.5  ...   \n",
              "1          121.0         8.1  ...   \n",
              "2          100.0         7.6  ...   \n",
              "3          142.0         8.2  ...   \n",
              "4          122.0         7.9  ...   \n",
              "\n",
              "                                      Movie_Homepage  \\\n",
              "0                                                NaN   \n",
              "1  http://www.starwars.com/films/star-wars-episod...   \n",
              "2              http://movies.disney.com/finding-nemo   \n",
              "3                                                NaN   \n",
              "4                      http://www.dreamworks.com/ab/   \n",
              "\n",
              "                                      Movie_Keywords  \\\n",
              "0          hotel new year's eve witch bet hotel room   \n",
              "1        android galaxy hermit death star lightsaber   \n",
              "2  father son relationship harbor underwater fish...   \n",
              "3  vietnam veteran hippie mentally disabled runni...   \n",
              "4  male nudity female nudity adultery midlife cri...   \n",
              "\n",
              "                                      Movie_Overview  \\\n",
              "0  It's Ted the Bellhop's first night on the job....   \n",
              "1  Princess Leia is captured and held hostage by ...   \n",
              "2  Nemo, an adventurous young clownfish, is unexp...   \n",
              "3  A man with a low IQ has accomplished great thi...   \n",
              "4  Lester Burnham, a depressed suburban father in...   \n",
              "\n",
              "                              Movie_Production_House  \\\n",
              "0  [{\"name\": \"Miramax Films\", \"id\": 14}, {\"name\":...   \n",
              "1  [{\"name\": \"Lucasfilm\", \"id\": 1}, {\"name\": \"Twe...   \n",
              "2     [{\"name\": \"Pixar Animation Studios\", \"id\": 3}]   \n",
              "3          [{\"name\": \"Paramount Pictures\", \"id\": 4}]   \n",
              "4  [{\"name\": \"DreamWorks SKG\", \"id\": 27}, {\"name\"...   \n",
              "\n",
              "                            Movie_Production_Country  \\\n",
              "0  [{\"iso_3166_1\": \"US\", \"name\": \"United States o...   \n",
              "1  [{\"iso_3166_1\": \"US\", \"name\": \"United States o...   \n",
              "2  [{\"iso_3166_1\": \"US\", \"name\": \"United States o...   \n",
              "3  [{\"iso_3166_1\": \"US\", \"name\": \"United States o...   \n",
              "4  [{\"iso_3166_1\": \"US\", \"name\": \"United States o...   \n",
              "\n",
              "                      Movie_Spoken_Language  \\\n",
              "0  [{\"iso_639_1\": \"en\", \"name\": \"English\"}]   \n",
              "1  [{\"iso_639_1\": \"en\", \"name\": \"English\"}]   \n",
              "2  [{\"iso_639_1\": \"en\", \"name\": \"English\"}]   \n",
              "3  [{\"iso_639_1\": \"en\", \"name\": \"English\"}]   \n",
              "4  [{\"iso_639_1\": \"en\", \"name\": \"English\"}]   \n",
              "\n",
              "                                       Movie_Tagline  \\\n",
              "0  Twelve outrageous guests. Four scandalous requ...   \n",
              "1       A long time ago in a galaxy far, far away...   \n",
              "2  There are 3.7 trillion fish in the ocean, they...   \n",
              "3  The world will never be the same, once you've ...   \n",
              "4                                       Look closer.   \n",
              "\n",
              "                                          Movie_Cast  \\\n",
              "0  Tim Roth Antonio Banderas Jennifer Beals Madon...   \n",
              "1  Mark Hamill Harrison Ford Carrie Fisher Peter ...   \n",
              "2  Albert Brooks Ellen DeGeneres Alexander Gould ...   \n",
              "3  Tom Hanks Robin Wright Gary Sinise Mykelti Wil...   \n",
              "4  Kevin Spacey Annette Bening Thora Birch Wes Be...   \n",
              "\n",
              "                                          Movie_Crew   Movie_Director  \n",
              "0  [{'name': 'Allison Anders', 'gender': 1, 'depa...   Allison Anders  \n",
              "1  [{'name': 'George Lucas', 'gender': 2, 'depart...     George Lucas  \n",
              "2  [{'name': 'Andrew Stanton', 'gender': 2, 'depa...   Andrew Stanton  \n",
              "3  [{'name': 'Alan Silvestri', 'gender': 2, 'depa...  Robert Zemeckis  \n",
              "4  [{'name': 'Thomas Newman', 'gender': 2, 'depar...       Sam Mendes  \n",
              "\n",
              "[5 rows x 21 columns]"
            ],
            "text/html": [
              "\n",
              "  <div id=\"df-e1786c64-0d32-4475-a883-dd847608903d\">\n",
              "    <div class=\"colab-df-container\">\n",
              "      <div>\n",
              "<style scoped>\n",
              "    .dataframe tbody tr th:only-of-type {\n",
              "        vertical-align: middle;\n",
              "    }\n",
              "\n",
              "    .dataframe tbody tr th {\n",
              "        vertical-align: top;\n",
              "    }\n",
              "\n",
              "    .dataframe thead th {\n",
              "        text-align: right;\n",
              "    }\n",
              "</style>\n",
              "<table border=\"1\" class=\"dataframe\">\n",
              "  <thead>\n",
              "    <tr style=\"text-align: right;\">\n",
              "      <th></th>\n",
              "      <th>Movie_ID</th>\n",
              "      <th>Movie_Title</th>\n",
              "      <th>Movie_Genre</th>\n",
              "      <th>Movie_Language</th>\n",
              "      <th>Movie_Budget</th>\n",
              "      <th>Movie_Popularity</th>\n",
              "      <th>Movie_Release_Date</th>\n",
              "      <th>Movie_Revenue</th>\n",
              "      <th>Movie_Runtime</th>\n",
              "      <th>Movie_Vote</th>\n",
              "      <th>...</th>\n",
              "      <th>Movie_Homepage</th>\n",
              "      <th>Movie_Keywords</th>\n",
              "      <th>Movie_Overview</th>\n",
              "      <th>Movie_Production_House</th>\n",
              "      <th>Movie_Production_Country</th>\n",
              "      <th>Movie_Spoken_Language</th>\n",
              "      <th>Movie_Tagline</th>\n",
              "      <th>Movie_Cast</th>\n",
              "      <th>Movie_Crew</th>\n",
              "      <th>Movie_Director</th>\n",
              "    </tr>\n",
              "  </thead>\n",
              "  <tbody>\n",
              "    <tr>\n",
              "      <th>0</th>\n",
              "      <td>1</td>\n",
              "      <td>Four Rooms</td>\n",
              "      <td>Crime Comedy</td>\n",
              "      <td>en</td>\n",
              "      <td>4000000</td>\n",
              "      <td>22.876230</td>\n",
              "      <td>09-12-1995</td>\n",
              "      <td>4300000</td>\n",
              "      <td>98.0</td>\n",
              "      <td>6.5</td>\n",
              "      <td>...</td>\n",
              "      <td>NaN</td>\n",
              "      <td>hotel new year's eve witch bet hotel room</td>\n",
              "      <td>It's Ted the Bellhop's first night on the job....</td>\n",
              "      <td>[{\"name\": \"Miramax Films\", \"id\": 14}, {\"name\":...</td>\n",
              "      <td>[{\"iso_3166_1\": \"US\", \"name\": \"United States o...</td>\n",
              "      <td>[{\"iso_639_1\": \"en\", \"name\": \"English\"}]</td>\n",
              "      <td>Twelve outrageous guests. Four scandalous requ...</td>\n",
              "      <td>Tim Roth Antonio Banderas Jennifer Beals Madon...</td>\n",
              "      <td>[{'name': 'Allison Anders', 'gender': 1, 'depa...</td>\n",
              "      <td>Allison Anders</td>\n",
              "    </tr>\n",
              "    <tr>\n",
              "      <th>1</th>\n",
              "      <td>2</td>\n",
              "      <td>Star Wars</td>\n",
              "      <td>Adventure Action Science Fiction</td>\n",
              "      <td>en</td>\n",
              "      <td>11000000</td>\n",
              "      <td>126.393695</td>\n",
              "      <td>25-05-1977</td>\n",
              "      <td>775398007</td>\n",
              "      <td>121.0</td>\n",
              "      <td>8.1</td>\n",
              "      <td>...</td>\n",
              "      <td>http://www.starwars.com/films/star-wars-episod...</td>\n",
              "      <td>android galaxy hermit death star lightsaber</td>\n",
              "      <td>Princess Leia is captured and held hostage by ...</td>\n",
              "      <td>[{\"name\": \"Lucasfilm\", \"id\": 1}, {\"name\": \"Twe...</td>\n",
              "      <td>[{\"iso_3166_1\": \"US\", \"name\": \"United States o...</td>\n",
              "      <td>[{\"iso_639_1\": \"en\", \"name\": \"English\"}]</td>\n",
              "      <td>A long time ago in a galaxy far, far away...</td>\n",
              "      <td>Mark Hamill Harrison Ford Carrie Fisher Peter ...</td>\n",
              "      <td>[{'name': 'George Lucas', 'gender': 2, 'depart...</td>\n",
              "      <td>George Lucas</td>\n",
              "    </tr>\n",
              "    <tr>\n",
              "      <th>2</th>\n",
              "      <td>3</td>\n",
              "      <td>Finding Nemo</td>\n",
              "      <td>Animation Family</td>\n",
              "      <td>en</td>\n",
              "      <td>94000000</td>\n",
              "      <td>85.688789</td>\n",
              "      <td>30-05-2003</td>\n",
              "      <td>940335536</td>\n",
              "      <td>100.0</td>\n",
              "      <td>7.6</td>\n",
              "      <td>...</td>\n",
              "      <td>http://movies.disney.com/finding-nemo</td>\n",
              "      <td>father son relationship harbor underwater fish...</td>\n",
              "      <td>Nemo, an adventurous young clownfish, is unexp...</td>\n",
              "      <td>[{\"name\": \"Pixar Animation Studios\", \"id\": 3}]</td>\n",
              "      <td>[{\"iso_3166_1\": \"US\", \"name\": \"United States o...</td>\n",
              "      <td>[{\"iso_639_1\": \"en\", \"name\": \"English\"}]</td>\n",
              "      <td>There are 3.7 trillion fish in the ocean, they...</td>\n",
              "      <td>Albert Brooks Ellen DeGeneres Alexander Gould ...</td>\n",
              "      <td>[{'name': 'Andrew Stanton', 'gender': 2, 'depa...</td>\n",
              "      <td>Andrew Stanton</td>\n",
              "    </tr>\n",
              "    <tr>\n",
              "      <th>3</th>\n",
              "      <td>4</td>\n",
              "      <td>Forrest Gump</td>\n",
              "      <td>Comedy Drama Romance</td>\n",
              "      <td>en</td>\n",
              "      <td>55000000</td>\n",
              "      <td>138.133331</td>\n",
              "      <td>06-07-1994</td>\n",
              "      <td>677945399</td>\n",
              "      <td>142.0</td>\n",
              "      <td>8.2</td>\n",
              "      <td>...</td>\n",
              "      <td>NaN</td>\n",
              "      <td>vietnam veteran hippie mentally disabled runni...</td>\n",
              "      <td>A man with a low IQ has accomplished great thi...</td>\n",
              "      <td>[{\"name\": \"Paramount Pictures\", \"id\": 4}]</td>\n",
              "      <td>[{\"iso_3166_1\": \"US\", \"name\": \"United States o...</td>\n",
              "      <td>[{\"iso_639_1\": \"en\", \"name\": \"English\"}]</td>\n",
              "      <td>The world will never be the same, once you've ...</td>\n",
              "      <td>Tom Hanks Robin Wright Gary Sinise Mykelti Wil...</td>\n",
              "      <td>[{'name': 'Alan Silvestri', 'gender': 2, 'depa...</td>\n",
              "      <td>Robert Zemeckis</td>\n",
              "    </tr>\n",
              "    <tr>\n",
              "      <th>4</th>\n",
              "      <td>5</td>\n",
              "      <td>American Beauty</td>\n",
              "      <td>Drama</td>\n",
              "      <td>en</td>\n",
              "      <td>15000000</td>\n",
              "      <td>80.878605</td>\n",
              "      <td>15-09-1999</td>\n",
              "      <td>356296601</td>\n",
              "      <td>122.0</td>\n",
              "      <td>7.9</td>\n",
              "      <td>...</td>\n",
              "      <td>http://www.dreamworks.com/ab/</td>\n",
              "      <td>male nudity female nudity adultery midlife cri...</td>\n",
              "      <td>Lester Burnham, a depressed suburban father in...</td>\n",
              "      <td>[{\"name\": \"DreamWorks SKG\", \"id\": 27}, {\"name\"...</td>\n",
              "      <td>[{\"iso_3166_1\": \"US\", \"name\": \"United States o...</td>\n",
              "      <td>[{\"iso_639_1\": \"en\", \"name\": \"English\"}]</td>\n",
              "      <td>Look closer.</td>\n",
              "      <td>Kevin Spacey Annette Bening Thora Birch Wes Be...</td>\n",
              "      <td>[{'name': 'Thomas Newman', 'gender': 2, 'depar...</td>\n",
              "      <td>Sam Mendes</td>\n",
              "    </tr>\n",
              "  </tbody>\n",
              "</table>\n",
              "<p>5 rows × 21 columns</p>\n",
              "</div>\n",
              "      <button class=\"colab-df-convert\" onclick=\"convertToInteractive('df-e1786c64-0d32-4475-a883-dd847608903d')\"\n",
              "              title=\"Convert this dataframe to an interactive table.\"\n",
              "              style=\"display:none;\">\n",
              "        \n",
              "  <svg xmlns=\"http://www.w3.org/2000/svg\" height=\"24px\"viewBox=\"0 0 24 24\"\n",
              "       width=\"24px\">\n",
              "    <path d=\"M0 0h24v24H0V0z\" fill=\"none\"/>\n",
              "    <path d=\"M18.56 5.44l.94 2.06.94-2.06 2.06-.94-2.06-.94-.94-2.06-.94 2.06-2.06.94zm-11 1L8.5 8.5l.94-2.06 2.06-.94-2.06-.94L8.5 2.5l-.94 2.06-2.06.94zm10 10l.94 2.06.94-2.06 2.06-.94-2.06-.94-.94-2.06-.94 2.06-2.06.94z\"/><path d=\"M17.41 7.96l-1.37-1.37c-.4-.4-.92-.59-1.43-.59-.52 0-1.04.2-1.43.59L10.3 9.45l-7.72 7.72c-.78.78-.78 2.05 0 2.83L4 21.41c.39.39.9.59 1.41.59.51 0 1.02-.2 1.41-.59l7.78-7.78 2.81-2.81c.8-.78.8-2.07 0-2.86zM5.41 20L4 18.59l7.72-7.72 1.47 1.35L5.41 20z\"/>\n",
              "  </svg>\n",
              "      </button>\n",
              "      \n",
              "  <style>\n",
              "    .colab-df-container {\n",
              "      display:flex;\n",
              "      flex-wrap:wrap;\n",
              "      gap: 12px;\n",
              "    }\n",
              "\n",
              "    .colab-df-convert {\n",
              "      background-color: #E8F0FE;\n",
              "      border: none;\n",
              "      border-radius: 50%;\n",
              "      cursor: pointer;\n",
              "      display: none;\n",
              "      fill: #1967D2;\n",
              "      height: 32px;\n",
              "      padding: 0 0 0 0;\n",
              "      width: 32px;\n",
              "    }\n",
              "\n",
              "    .colab-df-convert:hover {\n",
              "      background-color: #E2EBFA;\n",
              "      box-shadow: 0px 1px 2px rgba(60, 64, 67, 0.3), 0px 1px 3px 1px rgba(60, 64, 67, 0.15);\n",
              "      fill: #174EA6;\n",
              "    }\n",
              "\n",
              "    [theme=dark] .colab-df-convert {\n",
              "      background-color: #3B4455;\n",
              "      fill: #D2E3FC;\n",
              "    }\n",
              "\n",
              "    [theme=dark] .colab-df-convert:hover {\n",
              "      background-color: #434B5C;\n",
              "      box-shadow: 0px 1px 3px 1px rgba(0, 0, 0, 0.15);\n",
              "      filter: drop-shadow(0px 1px 2px rgba(0, 0, 0, 0.3));\n",
              "      fill: #FFFFFF;\n",
              "    }\n",
              "  </style>\n",
              "\n",
              "      <script>\n",
              "        const buttonEl =\n",
              "          document.querySelector('#df-e1786c64-0d32-4475-a883-dd847608903d button.colab-df-convert');\n",
              "        buttonEl.style.display =\n",
              "          google.colab.kernel.accessAllowed ? 'block' : 'none';\n",
              "\n",
              "        async function convertToInteractive(key) {\n",
              "          const element = document.querySelector('#df-e1786c64-0d32-4475-a883-dd847608903d');\n",
              "          const dataTable =\n",
              "            await google.colab.kernel.invokeFunction('convertToInteractive',\n",
              "                                                     [key], {});\n",
              "          if (!dataTable) return;\n",
              "\n",
              "          const docLinkHtml = 'Like what you see? Visit the ' +\n",
              "            '<a target=\"_blank\" href=https://colab.research.google.com/notebooks/data_table.ipynb>data table notebook</a>'\n",
              "            + ' to learn more about interactive tables.';\n",
              "          element.innerHTML = '';\n",
              "          dataTable['output_type'] = 'display_data';\n",
              "          await google.colab.output.renderOutput(dataTable, element);\n",
              "          const docLink = document.createElement('div');\n",
              "          docLink.innerHTML = docLinkHtml;\n",
              "          element.appendChild(docLink);\n",
              "        }\n",
              "      </script>\n",
              "    </div>\n",
              "  </div>\n",
              "  "
            ]
          },
          "metadata": {},
          "execution_count": 4
        }
      ]
    },
    {
      "cell_type": "code",
      "source": [
        "df.info()"
      ],
      "metadata": {
        "colab": {
          "base_uri": "https://localhost:8080/"
        },
        "id": "vlWCZLB_Iyhl",
        "outputId": "661de025-ea04-454b-fb3d-1a34411f8ef6"
      },
      "execution_count": 5,
      "outputs": [
        {
          "output_type": "stream",
          "name": "stdout",
          "text": [
            "<class 'pandas.core.frame.DataFrame'>\n",
            "RangeIndex: 4760 entries, 0 to 4759\n",
            "Data columns (total 21 columns):\n",
            " #   Column                    Non-Null Count  Dtype  \n",
            "---  ------                    --------------  -----  \n",
            " 0   Movie_ID                  4760 non-null   int64  \n",
            " 1   Movie_Title               4760 non-null   object \n",
            " 2   Movie_Genre               4760 non-null   object \n",
            " 3   Movie_Language            4760 non-null   object \n",
            " 4   Movie_Budget              4760 non-null   int64  \n",
            " 5   Movie_Popularity          4760 non-null   float64\n",
            " 6   Movie_Release_Date        4760 non-null   object \n",
            " 7   Movie_Revenue             4760 non-null   int64  \n",
            " 8   Movie_Runtime             4758 non-null   float64\n",
            " 9   Movie_Vote                4760 non-null   float64\n",
            " 10  Movie_Vote_Count          4760 non-null   int64  \n",
            " 11  Movie_Homepage            1699 non-null   object \n",
            " 12  Movie_Keywords            4373 non-null   object \n",
            " 13  Movie_Overview            4757 non-null   object \n",
            " 14  Movie_Production_House    4760 non-null   object \n",
            " 15  Movie_Production_Country  4760 non-null   object \n",
            " 16  Movie_Spoken_Language     4760 non-null   object \n",
            " 17  Movie_Tagline             3942 non-null   object \n",
            " 18  Movie_Cast                4733 non-null   object \n",
            " 19  Movie_Crew                4760 non-null   object \n",
            " 20  Movie_Director            4738 non-null   object \n",
            "dtypes: float64(3), int64(4), object(14)\n",
            "memory usage: 781.1+ KB\n"
          ]
        }
      ]
    },
    {
      "cell_type": "code",
      "source": [
        "df.shape"
      ],
      "metadata": {
        "colab": {
          "base_uri": "https://localhost:8080/"
        },
        "id": "1DpduIq4I6Gl",
        "outputId": "c8f5e977-30f2-422b-a088-57c4a178ea9c"
      },
      "execution_count": 6,
      "outputs": [
        {
          "output_type": "execute_result",
          "data": {
            "text/plain": [
              "(4760, 21)"
            ]
          },
          "metadata": {},
          "execution_count": 6
        }
      ]
    },
    {
      "cell_type": "code",
      "source": [
        "df.columns"
      ],
      "metadata": {
        "colab": {
          "base_uri": "https://localhost:8080/"
        },
        "id": "RX77ks0XI9sS",
        "outputId": "54920048-5450-4a9e-d014-4f29c40bb9f0"
      },
      "execution_count": 7,
      "outputs": [
        {
          "output_type": "execute_result",
          "data": {
            "text/plain": [
              "Index(['Movie_ID', 'Movie_Title', 'Movie_Genre', 'Movie_Language',\n",
              "       'Movie_Budget', 'Movie_Popularity', 'Movie_Release_Date',\n",
              "       'Movie_Revenue', 'Movie_Runtime', 'Movie_Vote', 'Movie_Vote_Count',\n",
              "       'Movie_Homepage', 'Movie_Keywords', 'Movie_Overview',\n",
              "       'Movie_Production_House', 'Movie_Production_Country',\n",
              "       'Movie_Spoken_Language', 'Movie_Tagline', 'Movie_Cast', 'Movie_Crew',\n",
              "       'Movie_Director'],\n",
              "      dtype='object')"
            ]
          },
          "metadata": {},
          "execution_count": 7
        }
      ]
    },
    {
      "cell_type": "markdown",
      "source": [
        "#Get Feature Selection"
      ],
      "metadata": {
        "id": "C0ViaYLbJxJ5"
      }
    },
    {
      "cell_type": "code",
      "source": [
        "\n",
        "df_features=df[['Movie_Genre','Movie_Keywords','Movie_Tagline','Movie_Cast',\n",
        "                'Movie_Director']].fillna('')"
      ],
      "metadata": {
        "id": "238rFfahJDgC"
      },
      "execution_count": 8,
      "outputs": []
    },
    {
      "cell_type": "code",
      "source": [
        "df_features.shape"
      ],
      "metadata": {
        "colab": {
          "base_uri": "https://localhost:8080/"
        },
        "id": "35lSzrhmJv1b",
        "outputId": "c428243c-3338-439d-d935-7a282fe4a09e"
      },
      "execution_count": 9,
      "outputs": [
        {
          "output_type": "execute_result",
          "data": {
            "text/plain": [
              "(4760, 5)"
            ]
          },
          "metadata": {},
          "execution_count": 9
        }
      ]
    },
    {
      "cell_type": "code",
      "source": [
        "df_features"
      ],
      "metadata": {
        "colab": {
          "base_uri": "https://localhost:8080/",
          "height": 624
        },
        "id": "D1QtvzDhJ1t-",
        "outputId": "2a9d4025-6ab8-46c1-c487-36c71772914e"
      },
      "execution_count": 10,
      "outputs": [
        {
          "output_type": "execute_result",
          "data": {
            "text/plain": [
              "                           Movie_Genre  \\\n",
              "0                         Crime Comedy   \n",
              "1     Adventure Action Science Fiction   \n",
              "2                     Animation Family   \n",
              "3                 Comedy Drama Romance   \n",
              "4                                Drama   \n",
              "...                                ...   \n",
              "4755                            Horror   \n",
              "4756               Comedy Family Drama   \n",
              "4757                    Thriller Drama   \n",
              "4758                            Family   \n",
              "4759                       Documentary   \n",
              "\n",
              "                                         Movie_Keywords  \\\n",
              "0             hotel new year's eve witch bet hotel room   \n",
              "1           android galaxy hermit death star lightsaber   \n",
              "2     father son relationship harbor underwater fish...   \n",
              "3     vietnam veteran hippie mentally disabled runni...   \n",
              "4     male nudity female nudity adultery midlife cri...   \n",
              "...                                                 ...   \n",
              "4755                                                      \n",
              "4756                                                      \n",
              "4757                     christian film sex trafficking   \n",
              "4758                                                      \n",
              "4759  music actors legendary perfomer classic hollyw...   \n",
              "\n",
              "                                          Movie_Tagline  \\\n",
              "0     Twelve outrageous guests. Four scandalous requ...   \n",
              "1          A long time ago in a galaxy far, far away...   \n",
              "2     There are 3.7 trillion fish in the ocean, they...   \n",
              "3     The world will never be the same, once you've ...   \n",
              "4                                          Look closer.   \n",
              "...                                                 ...   \n",
              "4755                The hot spot where Satan's waitin'.   \n",
              "4756           It’s better to stand out than to fit in.   \n",
              "4757           She never knew it could happen to her...   \n",
              "4758                                                      \n",
              "4759                                                      \n",
              "\n",
              "                                             Movie_Cast     Movie_Director  \n",
              "0     Tim Roth Antonio Banderas Jennifer Beals Madon...     Allison Anders  \n",
              "1     Mark Hamill Harrison Ford Carrie Fisher Peter ...       George Lucas  \n",
              "2     Albert Brooks Ellen DeGeneres Alexander Gould ...     Andrew Stanton  \n",
              "3     Tom Hanks Robin Wright Gary Sinise Mykelti Wil...    Robert Zemeckis  \n",
              "4     Kevin Spacey Annette Bening Thora Birch Wes Be...         Sam Mendes  \n",
              "...                                                 ...                ...  \n",
              "4755  Lisa Hart Carroll Michael Des Barres Paul Drak...         Pece Dingo  \n",
              "4756  Roni Akurati Brighton Sharbino Jason Lee Anjul...       Frank Lotito  \n",
              "4757  Nicole Smolen Kim Baldwin Ariana Stephens Brys...       Jaco Booyens  \n",
              "4758                                                                        \n",
              "4759                                    Tony Oppedisano  Simon Napier-Bell  \n",
              "\n",
              "[4760 rows x 5 columns]"
            ],
            "text/html": [
              "\n",
              "  <div id=\"df-8895da0a-49a8-470d-aacd-9e308495170a\">\n",
              "    <div class=\"colab-df-container\">\n",
              "      <div>\n",
              "<style scoped>\n",
              "    .dataframe tbody tr th:only-of-type {\n",
              "        vertical-align: middle;\n",
              "    }\n",
              "\n",
              "    .dataframe tbody tr th {\n",
              "        vertical-align: top;\n",
              "    }\n",
              "\n",
              "    .dataframe thead th {\n",
              "        text-align: right;\n",
              "    }\n",
              "</style>\n",
              "<table border=\"1\" class=\"dataframe\">\n",
              "  <thead>\n",
              "    <tr style=\"text-align: right;\">\n",
              "      <th></th>\n",
              "      <th>Movie_Genre</th>\n",
              "      <th>Movie_Keywords</th>\n",
              "      <th>Movie_Tagline</th>\n",
              "      <th>Movie_Cast</th>\n",
              "      <th>Movie_Director</th>\n",
              "    </tr>\n",
              "  </thead>\n",
              "  <tbody>\n",
              "    <tr>\n",
              "      <th>0</th>\n",
              "      <td>Crime Comedy</td>\n",
              "      <td>hotel new year's eve witch bet hotel room</td>\n",
              "      <td>Twelve outrageous guests. Four scandalous requ...</td>\n",
              "      <td>Tim Roth Antonio Banderas Jennifer Beals Madon...</td>\n",
              "      <td>Allison Anders</td>\n",
              "    </tr>\n",
              "    <tr>\n",
              "      <th>1</th>\n",
              "      <td>Adventure Action Science Fiction</td>\n",
              "      <td>android galaxy hermit death star lightsaber</td>\n",
              "      <td>A long time ago in a galaxy far, far away...</td>\n",
              "      <td>Mark Hamill Harrison Ford Carrie Fisher Peter ...</td>\n",
              "      <td>George Lucas</td>\n",
              "    </tr>\n",
              "    <tr>\n",
              "      <th>2</th>\n",
              "      <td>Animation Family</td>\n",
              "      <td>father son relationship harbor underwater fish...</td>\n",
              "      <td>There are 3.7 trillion fish in the ocean, they...</td>\n",
              "      <td>Albert Brooks Ellen DeGeneres Alexander Gould ...</td>\n",
              "      <td>Andrew Stanton</td>\n",
              "    </tr>\n",
              "    <tr>\n",
              "      <th>3</th>\n",
              "      <td>Comedy Drama Romance</td>\n",
              "      <td>vietnam veteran hippie mentally disabled runni...</td>\n",
              "      <td>The world will never be the same, once you've ...</td>\n",
              "      <td>Tom Hanks Robin Wright Gary Sinise Mykelti Wil...</td>\n",
              "      <td>Robert Zemeckis</td>\n",
              "    </tr>\n",
              "    <tr>\n",
              "      <th>4</th>\n",
              "      <td>Drama</td>\n",
              "      <td>male nudity female nudity adultery midlife cri...</td>\n",
              "      <td>Look closer.</td>\n",
              "      <td>Kevin Spacey Annette Bening Thora Birch Wes Be...</td>\n",
              "      <td>Sam Mendes</td>\n",
              "    </tr>\n",
              "    <tr>\n",
              "      <th>...</th>\n",
              "      <td>...</td>\n",
              "      <td>...</td>\n",
              "      <td>...</td>\n",
              "      <td>...</td>\n",
              "      <td>...</td>\n",
              "    </tr>\n",
              "    <tr>\n",
              "      <th>4755</th>\n",
              "      <td>Horror</td>\n",
              "      <td></td>\n",
              "      <td>The hot spot where Satan's waitin'.</td>\n",
              "      <td>Lisa Hart Carroll Michael Des Barres Paul Drak...</td>\n",
              "      <td>Pece Dingo</td>\n",
              "    </tr>\n",
              "    <tr>\n",
              "      <th>4756</th>\n",
              "      <td>Comedy Family Drama</td>\n",
              "      <td></td>\n",
              "      <td>It’s better to stand out than to fit in.</td>\n",
              "      <td>Roni Akurati Brighton Sharbino Jason Lee Anjul...</td>\n",
              "      <td>Frank Lotito</td>\n",
              "    </tr>\n",
              "    <tr>\n",
              "      <th>4757</th>\n",
              "      <td>Thriller Drama</td>\n",
              "      <td>christian film sex trafficking</td>\n",
              "      <td>She never knew it could happen to her...</td>\n",
              "      <td>Nicole Smolen Kim Baldwin Ariana Stephens Brys...</td>\n",
              "      <td>Jaco Booyens</td>\n",
              "    </tr>\n",
              "    <tr>\n",
              "      <th>4758</th>\n",
              "      <td>Family</td>\n",
              "      <td></td>\n",
              "      <td></td>\n",
              "      <td></td>\n",
              "      <td></td>\n",
              "    </tr>\n",
              "    <tr>\n",
              "      <th>4759</th>\n",
              "      <td>Documentary</td>\n",
              "      <td>music actors legendary perfomer classic hollyw...</td>\n",
              "      <td></td>\n",
              "      <td>Tony Oppedisano</td>\n",
              "      <td>Simon Napier-Bell</td>\n",
              "    </tr>\n",
              "  </tbody>\n",
              "</table>\n",
              "<p>4760 rows × 5 columns</p>\n",
              "</div>\n",
              "      <button class=\"colab-df-convert\" onclick=\"convertToInteractive('df-8895da0a-49a8-470d-aacd-9e308495170a')\"\n",
              "              title=\"Convert this dataframe to an interactive table.\"\n",
              "              style=\"display:none;\">\n",
              "        \n",
              "  <svg xmlns=\"http://www.w3.org/2000/svg\" height=\"24px\"viewBox=\"0 0 24 24\"\n",
              "       width=\"24px\">\n",
              "    <path d=\"M0 0h24v24H0V0z\" fill=\"none\"/>\n",
              "    <path d=\"M18.56 5.44l.94 2.06.94-2.06 2.06-.94-2.06-.94-.94-2.06-.94 2.06-2.06.94zm-11 1L8.5 8.5l.94-2.06 2.06-.94-2.06-.94L8.5 2.5l-.94 2.06-2.06.94zm10 10l.94 2.06.94-2.06 2.06-.94-2.06-.94-.94-2.06-.94 2.06-2.06.94z\"/><path d=\"M17.41 7.96l-1.37-1.37c-.4-.4-.92-.59-1.43-.59-.52 0-1.04.2-1.43.59L10.3 9.45l-7.72 7.72c-.78.78-.78 2.05 0 2.83L4 21.41c.39.39.9.59 1.41.59.51 0 1.02-.2 1.41-.59l7.78-7.78 2.81-2.81c.8-.78.8-2.07 0-2.86zM5.41 20L4 18.59l7.72-7.72 1.47 1.35L5.41 20z\"/>\n",
              "  </svg>\n",
              "      </button>\n",
              "      \n",
              "  <style>\n",
              "    .colab-df-container {\n",
              "      display:flex;\n",
              "      flex-wrap:wrap;\n",
              "      gap: 12px;\n",
              "    }\n",
              "\n",
              "    .colab-df-convert {\n",
              "      background-color: #E8F0FE;\n",
              "      border: none;\n",
              "      border-radius: 50%;\n",
              "      cursor: pointer;\n",
              "      display: none;\n",
              "      fill: #1967D2;\n",
              "      height: 32px;\n",
              "      padding: 0 0 0 0;\n",
              "      width: 32px;\n",
              "    }\n",
              "\n",
              "    .colab-df-convert:hover {\n",
              "      background-color: #E2EBFA;\n",
              "      box-shadow: 0px 1px 2px rgba(60, 64, 67, 0.3), 0px 1px 3px 1px rgba(60, 64, 67, 0.15);\n",
              "      fill: #174EA6;\n",
              "    }\n",
              "\n",
              "    [theme=dark] .colab-df-convert {\n",
              "      background-color: #3B4455;\n",
              "      fill: #D2E3FC;\n",
              "    }\n",
              "\n",
              "    [theme=dark] .colab-df-convert:hover {\n",
              "      background-color: #434B5C;\n",
              "      box-shadow: 0px 1px 3px 1px rgba(0, 0, 0, 0.15);\n",
              "      filter: drop-shadow(0px 1px 2px rgba(0, 0, 0, 0.3));\n",
              "      fill: #FFFFFF;\n",
              "    }\n",
              "  </style>\n",
              "\n",
              "      <script>\n",
              "        const buttonEl =\n",
              "          document.querySelector('#df-8895da0a-49a8-470d-aacd-9e308495170a button.colab-df-convert');\n",
              "        buttonEl.style.display =\n",
              "          google.colab.kernel.accessAllowed ? 'block' : 'none';\n",
              "\n",
              "        async function convertToInteractive(key) {\n",
              "          const element = document.querySelector('#df-8895da0a-49a8-470d-aacd-9e308495170a');\n",
              "          const dataTable =\n",
              "            await google.colab.kernel.invokeFunction('convertToInteractive',\n",
              "                                                     [key], {});\n",
              "          if (!dataTable) return;\n",
              "\n",
              "          const docLinkHtml = 'Like what you see? Visit the ' +\n",
              "            '<a target=\"_blank\" href=https://colab.research.google.com/notebooks/data_table.ipynb>data table notebook</a>'\n",
              "            + ' to learn more about interactive tables.';\n",
              "          element.innerHTML = '';\n",
              "          dataTable['output_type'] = 'display_data';\n",
              "          await google.colab.output.renderOutput(dataTable, element);\n",
              "          const docLink = document.createElement('div');\n",
              "          docLink.innerHTML = docLinkHtml;\n",
              "          element.appendChild(docLink);\n",
              "        }\n",
              "      </script>\n",
              "    </div>\n",
              "  </div>\n",
              "  "
            ]
          },
          "metadata": {},
          "execution_count": 10
        }
      ]
    },
    {
      "cell_type": "code",
      "source": [
        "X=df_features['Movie_Genre']+''+df_features['Movie_Keywords']+''+df_features['Movie_Tagline']+''+df_features['Movie_Cast']+''+df_features['Movie_Director']"
      ],
      "metadata": {
        "id": "bvwJVLH-J6qE"
      },
      "execution_count": 11,
      "outputs": []
    },
    {
      "cell_type": "code",
      "source": [
        "X"
      ],
      "metadata": {
        "colab": {
          "base_uri": "https://localhost:8080/"
        },
        "id": "mZr6P3ESKv4Z",
        "outputId": "d865baca-ae82-4422-dd50-eb7e2725a430"
      },
      "execution_count": 12,
      "outputs": [
        {
          "output_type": "execute_result",
          "data": {
            "text/plain": [
              "0       Crime Comedyhotel new year's eve witch bet hot...\n",
              "1       Adventure Action Science Fictionandroid galaxy...\n",
              "2       Animation Familyfather son relationship harbor...\n",
              "3       Comedy Drama Romancevietnam veteran hippie men...\n",
              "4       Dramamale nudity female nudity adultery midlif...\n",
              "                              ...                        \n",
              "4755    HorrorThe hot spot where Satan's waitin'.Lisa ...\n",
              "4756    Comedy Family DramaIt’s better to stand out th...\n",
              "4757    Thriller Dramachristian film sex traffickingSh...\n",
              "4758                                               Family\n",
              "4759    Documentarymusic actors legendary perfomer cla...\n",
              "Length: 4760, dtype: object"
            ]
          },
          "metadata": {},
          "execution_count": 12
        }
      ]
    },
    {
      "cell_type": "code",
      "source": [
        "X.shape"
      ],
      "metadata": {
        "colab": {
          "base_uri": "https://localhost:8080/"
        },
        "id": "9AScv44MKxev",
        "outputId": "4bbe8647-02e2-4941-e9ee-0bb1344d7747"
      },
      "execution_count": 13,
      "outputs": [
        {
          "output_type": "execute_result",
          "data": {
            "text/plain": [
              "(4760,)"
            ]
          },
          "metadata": {},
          "execution_count": 13
        }
      ]
    },
    {
      "cell_type": "markdown",
      "source": [
        "#Get Feature Text Conversion To Tokens"
      ],
      "metadata": {
        "id": "FGYhVb9PKEed"
      }
    },
    {
      "cell_type": "code",
      "source": [
        "from sklearn.feature_extraction.text import TfidfVectorizer\n",
        "tfidf=TfidfVectorizer()\n",
        "X=tfidf.fit_transform(X)\n",
        "X.shape"
      ],
      "metadata": {
        "colab": {
          "base_uri": "https://localhost:8080/"
        },
        "id": "NGDAQ2uJK065",
        "outputId": "ce619d43-07f8-4fd2-b8c5-e690a967ac22"
      },
      "execution_count": 14,
      "outputs": [
        {
          "output_type": "execute_result",
          "data": {
            "text/plain": [
              "(4760, 27466)"
            ]
          },
          "metadata": {},
          "execution_count": 14
        }
      ]
    },
    {
      "cell_type": "code",
      "source": [
        "print(X)"
      ],
      "metadata": {
        "colab": {
          "base_uri": "https://localhost:8080/"
        },
        "id": "0-EVSvA3LOj7",
        "outputId": "deb97341-35a1-4760-f863-c8255c2b7d24"
      },
      "execution_count": 15,
      "outputs": [
        {
          "output_type": "stream",
          "name": "stdout",
          "text": [
            "  (0, 1028)\t0.16196019146631543\n",
            "  (0, 24785)\t0.1954632929283795\n",
            "  (0, 15844)\t0.14205053053187272\n",
            "  (0, 15553)\t0.17099186675469502\n",
            "  (0, 2132)\t0.18002354204307464\n",
            "  (0, 13312)\t0.09914387783149516\n",
            "  (0, 1887)\t0.14106037409792174\n",
            "  (0, 1216)\t0.13920306109638164\n",
            "  (0, 21158)\t0.14205053053187272\n",
            "  (0, 24701)\t0.11357423942624927\n",
            "  (0, 14943)\t0.091376722056839\n",
            "  (0, 18098)\t0.06200430666985742\n",
            "  (0, 26738)\t0.175053052455033\n",
            "  (0, 9790)\t0.08712552095655665\n",
            "  (0, 26675)\t0.1116831168780693\n",
            "  (0, 13401)\t0.13748876529263096\n",
            "  (0, 24105)\t0.10726395493180996\n",
            "  (0, 18192)\t0.07278761942152372\n",
            "  (0, 6172)\t0.11970212451073885\n",
            "  (0, 9626)\t0.11757910435818826\n",
            "  (0, 11960)\t0.20134029899961134\n",
            "  (0, 12801)\t0.1530338818199682\n",
            "  (0, 2292)\t0.1954632929283795\n",
            "  (0, 15172)\t0.1537691763994982\n",
            "  (0, 18196)\t0.08579029869987485\n",
            "  :\t:\n",
            "  (4757, 1839)\t0.19327629083107672\n",
            "  (4757, 5410)\t0.19734759150400596\n",
            "  (4757, 11350)\t0.21582294886514122\n",
            "  (4757, 22017)\t0.1646400247918531\n",
            "  (4757, 17789)\t0.18881341937258544\n",
            "  (4757, 9484)\t0.1411164779725638\n",
            "  (4757, 14176)\t0.2330831990045816\n",
            "  (4757, 11762)\t0.17321388936472645\n",
            "  (4757, 14052)\t0.1776312353410007\n",
            "  (4757, 24232)\t0.10947784435203887\n",
            "  (4757, 24746)\t0.09744940789814222\n",
            "  (4757, 13079)\t0.12400374714145113\n",
            "  (4757, 17721)\t0.1489085353667712\n",
            "  (4758, 8651)\t1.0\n",
            "  (4759, 18229)\t0.33527342183765224\n",
            "  (4759, 22434)\t0.33527342183765224\n",
            "  (4759, 18841)\t0.33527342183765224\n",
            "  (4759, 6950)\t0.33527342183765224\n",
            "  (4759, 345)\t0.31978160936741457\n",
            "  (4759, 14742)\t0.31978160936741457\n",
            "  (4759, 12139)\t0.2778063685558062\n",
            "  (4759, 4446)\t0.282306565154911\n",
            "  (4759, 17552)\t0.3087899934962816\n",
            "  (4759, 9955)\t0.21805075638656476\n",
            "  (4759, 2285)\t0.21465229435984196\n"
          ]
        }
      ]
    },
    {
      "cell_type": "markdown",
      "source": [
        "#Get Similarity Score Using Cosine Similarity"
      ],
      "metadata": {
        "id": "49OfQPblKUpE"
      }
    },
    {
      "cell_type": "code",
      "source": [
        "from sklearn.metrics.pairwise import cosine_similarity"
      ],
      "metadata": {
        "id": "a4F-Qt-zMM5I"
      },
      "execution_count": 16,
      "outputs": []
    },
    {
      "cell_type": "code",
      "source": [
        "Similarity_Score =cosine_similarity(X)"
      ],
      "metadata": {
        "id": "wKQn9OzfNSyb"
      },
      "execution_count": 17,
      "outputs": []
    },
    {
      "cell_type": "code",
      "source": [
        "Similarity_Score"
      ],
      "metadata": {
        "colab": {
          "base_uri": "https://localhost:8080/"
        },
        "id": "WSPImX2SNlC7",
        "outputId": "563e1477-95b5-4704-e260-5f85a77b33fa"
      },
      "execution_count": 18,
      "outputs": [
        {
          "output_type": "execute_result",
          "data": {
            "text/plain": [
              "array([[1.        , 0.01438634, 0.03807033, ..., 0.        , 0.        ,\n",
              "        0.        ],\n",
              "       [0.01438634, 1.        , 0.00844858, ..., 0.        , 0.        ,\n",
              "        0.        ],\n",
              "       [0.03807033, 0.00844858, 1.        , ..., 0.        , 0.        ,\n",
              "        0.        ],\n",
              "       ...,\n",
              "       [0.        , 0.        , 0.        , ..., 1.        , 0.        ,\n",
              "        0.        ],\n",
              "       [0.        , 0.        , 0.        , ..., 0.        , 1.        ,\n",
              "        0.        ],\n",
              "       [0.        , 0.        , 0.        , ..., 0.        , 0.        ,\n",
              "        1.        ]])"
            ]
          },
          "metadata": {},
          "execution_count": 18
        }
      ]
    },
    {
      "cell_type": "code",
      "source": [
        "Similarity_Score.shape"
      ],
      "metadata": {
        "colab": {
          "base_uri": "https://localhost:8080/"
        },
        "id": "s8kWXw-sNoQ8",
        "outputId": "e8c5b640-251c-4164-97b5-1c38004f8e12"
      },
      "execution_count": 19,
      "outputs": [
        {
          "output_type": "execute_result",
          "data": {
            "text/plain": [
              "(4760, 4760)"
            ]
          },
          "metadata": {},
          "execution_count": 19
        }
      ]
    },
    {
      "cell_type": "markdown",
      "source": [
        "#Get Movie Name as Input from User and Validte for Closet Spelling"
      ],
      "metadata": {
        "id": "P-PdDxC0KiSc"
      }
    },
    {
      "cell_type": "code",
      "source": [
        "Favourit_Movie_Name=input('Enter Your favourite movie name:')"
      ],
      "metadata": {
        "colab": {
          "base_uri": "https://localhost:8080/"
        },
        "id": "kWLzQv7oN2Q0",
        "outputId": "e43d43bf-0cfa-4b58-e576-5753048da25a"
      },
      "execution_count": 20,
      "outputs": [
        {
          "name": "stdout",
          "output_type": "stream",
          "text": [
            "Enter Your favourite movie name:spiderman\n"
          ]
        }
      ]
    },
    {
      "cell_type": "code",
      "source": [
        "All_Movies_Title_List=df['Movie_Title'].tolist()"
      ],
      "metadata": {
        "id": "A81uj4lSOKWn"
      },
      "execution_count": 21,
      "outputs": []
    },
    {
      "cell_type": "code",
      "source": [
        "import difflib"
      ],
      "metadata": {
        "id": "3P38UzavOhFV"
      },
      "execution_count": 22,
      "outputs": []
    },
    {
      "cell_type": "code",
      "source": [
        "Movie_Recommendation=difflib.get_close_matches(Favourit_Movie_Name, All_Movies_Title_List)\n",
        "print(Movie_Recommendation)"
      ],
      "metadata": {
        "colab": {
          "base_uri": "https://localhost:8080/"
        },
        "id": "q5nRLIQVOlCx",
        "outputId": "4354f06a-7a12-41b0-fbda-0a395e5ace37"
      },
      "execution_count": 23,
      "outputs": [
        {
          "output_type": "stream",
          "name": "stdout",
          "text": [
            "['Spider-Man', 'Superman', 'Spider-Man 3']\n"
          ]
        }
      ]
    },
    {
      "cell_type": "code",
      "source": [
        "Close_Match = Movie_Recommendation[0]\n",
        "print(Close_Match)"
      ],
      "metadata": {
        "colab": {
          "base_uri": "https://localhost:8080/"
        },
        "id": "9Zjn5HnrPA4I",
        "outputId": "8c071706-a72b-4f1f-8ed9-120be67bf87f"
      },
      "execution_count": 24,
      "outputs": [
        {
          "output_type": "stream",
          "name": "stdout",
          "text": [
            "Spider-Man\n"
          ]
        }
      ]
    },
    {
      "cell_type": "code",
      "source": [
        "index_of_Close_Match_Movie = df[df.Movie_Title == Close_Match]['Movie_ID'].values[0]\n",
        "print(index_of_Close_Match_Movie)"
      ],
      "metadata": {
        "id": "riy1vIGNPMkR",
        "colab": {
          "base_uri": "https://localhost:8080/"
        },
        "outputId": "bf09bfca-8e24-46cb-d8a9-00eaedf7c4bf"
      },
      "execution_count": 25,
      "outputs": [
        {
          "output_type": "stream",
          "name": "stdout",
          "text": [
            "231\n"
          ]
        }
      ]
    },
    {
      "cell_type": "code",
      "source": [
        "Recommendation_Score = list(enumerate(Similarity_Score[index_of_Close_Match_Movie]))\n",
        "print(Recommendation_Score)"
      ],
      "metadata": {
        "id": "Oc_J4i-4NFud",
        "colab": {
          "base_uri": "https://localhost:8080/"
        },
        "outputId": "a0e7f7d3-c838-4d0a-e96e-9cb283ca8a7d"
      },
      "execution_count": 26,
      "outputs": [
        {
          "output_type": "stream",
          "name": "stdout",
          "text": [
            "[(0, 0.049237591175557434), (1, 0.02278382536811411), (2, 0.02176756963148615), (3, 0.012612419358631138), (4, 0.0), (5, 0.0), (6, 0.015468146566940115), (7, 0.030428149886708396), (8, 0.0), (9, 0.0214822014674882), (10, 0.0064708139503917685), (11, 0.0), (12, 0.0), (13, 0.0), (14, 0.0), (15, 0.08477414047458431), (16, 0.011655124983975204), (17, 0.008473757950284856), (18, 0.07949894567051255), (19, 0.022719688575778323), (20, 0.0), (21, 0.0), (22, 0.014477005609254624), (23, 0.0), (24, 0.009268258574446908), (25, 0.05149253765225636), (26, 0.0), (27, 0.008190464605814057), (28, 0.0), (29, 0.043423865329905796), (30, 0.0), (31, 0.01273818609589292), (32, 0.026721583891759285), (33, 0.01257052222122975), (34, 0.02160375262912157), (35, 0.04520973158424543), (36, 0.014601430403326737), (37, 0.00733380022447263), (38, 0.006682554744361549), (39, 0.005864540698261529), (40, 0.023281448999881355), (41, 0.034384387922329715), (42, 0.0), (43, 0.023060712695104756), (44, 0.03118574922274604), (45, 0.007605658437489771), (46, 0.013128754131191493), (47, 0.0), (48, 0.0066328944681947645), (49, 0.0), (50, 0.0), (51, 0.0), (52, 0.0), (53, 0.007573798035090499), (54, 0.008172065856393193), (55, 0.008177094565446992), (56, 0.02318367430077295), (57, 0.043609406075547336), (58, 0.006945823346976657), (59, 0.014041175584032204), (60, 0.026648335174907452), (61, 0.0), (62, 0.03268316925003784), (63, 0.024392872142715384), (64, 0.0), (65, 0.028946077252845134), (66, 0.0), (67, 0.051612622371277214), (68, 0.03536124075001714), (69, 0.04940061655639856), (70, 0.01175683775191335), (71, 0.013664784737279558), (72, 0.0), (73, 0.020158942339507217), (74, 0.0), (75, 0.02185588801661392), (76, 0.014706252312094216), (77, 0.0), (78, 0.03590653109325179), (79, 0.0556753318453319), (80, 0.024703278667585392), (81, 0.0), (82, 0.033866198930637054), (83, 0.014922294390936657), (84, 0.0057449567013297485), (85, 0.14090287630089582), (86, 0.034400421403386186), (87, 0.03905928262666759), (88, 0.03956744664660682), (89, 0.0), (90, 0.014098381557390207), (91, 0.007064916784942512), (92, 0.02855360976752957), (93, 0.014204050681794431), (94, 0.013041853975452848), (95, 0.014431251822232961), (96, 0.03372984685941996), (97, 0.0), (98, 0.0), (99, 0.0), (100, 0.0), (101, 0.017129435738998836), (102, 0.018643027568904205), (103, 0.0), (104, 0.027693111020762624), (105, 0.026999699898492435), (106, 0.023213149051175084), (107, 0.0), (108, 0.053189528134650034), (109, 0.04095124170085449), (110, 0.0), (111, 0.0), (112, 0.0), (113, 0.032395166586349645), (114, 0.013837061915225948), (115, 0.0), (116, 0.012718192026053622), (117, 0.0), (118, 0.042762340481300114), (119, 0.021985291468270697), (120, 0.0), (121, 0.036786042761988415), (122, 0.04960932589939014), (123, 0.006378408948406624), (124, 0.02694926933055184), (125, 0.07748023988053339), (126, 0.0), (127, 0.0), (128, 0.0066464097989245765), (129, 0.009465059925603465), (130, 0.06562571704144471), (131, 0.01532704505319288), (132, 0.010625342512606727), (133, 0.0), (134, 0.0), (135, 0.005956608539773932), (136, 0.012294541069348398), (137, 0.029505003403417395), (138, 0.019665897043143272), (139, 0.006637047962245751), (140, 0.0), (141, 0.0), (142, 0.023781249276352966), (143, 0.01918096043222109), (144, 0.019974690197885007), (145, 0.0), (146, 0.0), (147, 0.013133923345760235), (148, 0.005421322175758168), (149, 0.0), (150, 0.02710035936552415), (151, 0.01471847163214016), (152, 0.024757776040396168), (153, 0.04732340839246435), (154, 0.0), (155, 0.07310298216011876), (156, 0.021110273958927644), (157, 0.0), (158, 0.012235295130690677), (159, 0.016759429523578038), (160, 0.018373447936443126), (161, 0.03916439905557177), (162, 0.023683376559437693), (163, 0.016652746721334447), (164, 0.014282482502514007), (165, 0.005221495744710503), (166, 0.0), (167, 0.01055369314922916), (168, 0.01180202744450268), (169, 0.08389330912227796), (170, 0.0056137912251659995), (171, 0.007910155961974117), (172, 0.0), (173, 0.04522054203270202), (174, 0.015097549442461293), (175, 0.012617809371316707), (176, 0.0), (177, 0.012522349085978197), (178, 0.042534326870077535), (179, 0.007708276859423625), (180, 0.006470330419540936), (181, 0.048833749104475466), (182, 0.03893778983440614), (183, 0.013430937782747985), (184, 0.050928573615875855), (185, 0.013776228912712438), (186, 0.022106518803103572), (187, 0.0), (188, 0.0), (189, 0.014474542559056038), (190, 0.0), (191, 0.015504752115246944), (192, 0.02813566850792128), (193, 0.05924514194122963), (194, 0.033385704065719835), (195, 0.0), (196, 0.0), (197, 0.0141933707670921), (198, 0.01356746964285628), (199, 0.027856458949035073), (200, 0.0), (201, 0.014706066965264674), (202, 0.007374554864876798), (203, 0.021281468411586634), (204, 0.02829914048285279), (205, 0.0), (206, 0.014560275841787932), (207, 0.0), (208, 0.03206915375083047), (209, 0.015405039221481232), (210, 0.006540212192036407), (211, 0.013428889385832692), (212, 0.022763945321721213), (213, 0.0), (214, 0.0), (215, 0.0), (216, 0.02853245806677309), (217, 0.018686011872056436), (218, 0.09362027729786897), (219, 0.008369431317508457), (220, 0.006217923869228349), (221, 0.0), (222, 0.025981042199041116), (223, 0.010894006101764714), (224, 0.025580399394606098), (225, 0.013003639879069686), (226, 0.0), (227, 0.0), (228, 0.0), (229, 0.02579408303878088), (230, 0.26434185613412536), (231, 1.0000000000000004), (232, 0.3697667789922634), (233, 0.02012797148593152), (234, 0.01205016948249641), (235, 0.0), (236, 0.0), (237, 0.015606291757988586), (238, 0.0), (239, 0.011667631848093472), (240, 0.010506844781324975), (241, 0.007929717174568869), (242, 0.020068935139160842), (243, 0.010459642141075299), (244, 0.006160225725145527), (245, 0.014162575669897511), (246, 0.0), (247, 0.03152112485783045), (248, 0.013937117104369881), (249, 0.0), (250, 0.0), (251, 0.022898109839874444), (252, 0.03494137878015014), (253, 0.0), (254, 0.014842959971072045), (255, 0.0), (256, 0.0), (257, 0.007211865533700107), (258, 0.01438779237071542), (259, 0.0060536323834488115), (260, 0.013918033889608925), (261, 0.01377794173496686), (262, 0.0), (263, 0.053627437266438205), (264, 0.04190597546636029), (265, 0.0), (266, 0.024590453935242857), (267, 0.0), (268, 0.0), (269, 0.07729829022817401), (270, 0.0), (271, 0.035912004199959935), (272, 0.0), (273, 0.030234341917060304), (274, 0.018066881995764325), (275, 0.08536327040050118), (276, 0.013388405317436071), (277, 0.04341824717894693), (278, 0.03976471470531767), (279, 0.03511781536764134), (280, 0.014823526813358719), (281, 0.0), (282, 0.01438243631088633), (283, 0.020045658062192273), (284, 0.0426393223218547), (285, 0.010136638311275294), (286, 0.019454546041049806), (287, 0.014136664000617347), (288, 0.03472744698557098), (289, 0.01159961968752947), (290, 0.012600592592095144), (291, 0.0), (292, 0.027828562574058247), (293, 0.0), (294, 0.004754329341549746), (295, 0.023787137780657573), (296, 0.023065394662510508), (297, 0.00849071298687151), (298, 0.020220407100367925), (299, 0.008138888675053815), (300, 0.02170628870768766), (301, 0.02363069642011325), (302, 0.01213771477552194), (303, 0.021094931620034178), (304, 0.0), (305, 0.01373897804651009), (306, 0.02543227883812965), (307, 0.05588374719639215), (308, 0.0), (309, 0.031977935611491815), (310, 0.013590690010217874), (311, 0.010435980439020864), (312, 0.0), (313, 0.014968822750718749), (314, 0.012030594629289574), (315, 0.04055729025992343), (316, 0.03201940196482773), (317, 0.03607486121802094), (318, 0.0), (319, 0.014148582928354787), (320, 0.028288859888491343), (321, 0.02835849279092867), (322, 0.05515515216179298), (323, 0.03787027819547119), (324, 0.02756857127640256), (325, 0.025644920668294983), (326, 0.0), (327, 0.049200189125165564), (328, 0.03537404858840184), (329, 0.028209945387534578), (330, 0.041214608207529625), (331, 0.0), (332, 0.02694143613713875), (333, 0.00531727468032544), (334, 0.035977840990776146), (335, 0.0), (336, 0.02749061335717822), (337, 0.05048543427553071), (338, 0.05213037806199135), (339, 0.05526066543972734), (340, 0.024701773577469815), (341, 0.015850199499095233), (342, 0.044724590479041676), (343, 0.048425135955110235), (344, 0.0), (345, 0.01814091627758796), (346, 0.030294322553641548), (347, 0.0), (348, 0.0), (349, 0.0), (350, 0.0364049671095112), (351, 0.008906538120838584), (352, 0.010243451958179807), (353, 0.040325879695291514), (354, 0.0322927468299555), (355, 0.061697540200311374), (356, 0.050641263244748526), (357, 0.0), (358, 0.04150641890701981), (359, 0.05796081833993931), (360, 0.0), (361, 0.008435840003928571), (362, 0.02067569950046813), (363, 0.02418658350279273), (364, 0.007230685711013987), (365, 0.009011917409845461), (366, 0.0), (367, 0.0), (368, 0.00929157815491621), (369, 0.0), (370, 0.0), (371, 0.0), (372, 0.0), (373, 0.03742561611123618), (374, 0.04161814602713323), (375, 0.006140578064008373), (376, 0.011844280276399763), (377, 0.024763227699387734), (378, 0.0), (379, 0.005388874140037368), (380, 0.0), (381, 0.039561957268783705), (382, 0.005551442912681534), (383, 0.030699753708641944), (384, 0.0), (385, 0.1319007850129266), (386, 0.022617757189163493), (387, 0.0), (388, 0.0), (389, 0.0), (390, 0.013383473912895471), (391, 0.03971911213977689), (392, 0.02871984621497315), (393, 0.0), (394, 0.005003440808128347), (395, 0.0), (396, 0.0), (397, 0.005573442766415036), (398, 0.0), (399, 0.057796080103478115), (400, 0.020122812411657157), (401, 0.008474305580222228), (402, 0.017478910396921496), (403, 0.022480400248561468), (404, 0.011105574610380774), (405, 0.0), (406, 0.02842941036232837), (407, 0.03432170196485862), (408, 0.0), (409, 0.007661879584790866), (410, 0.0), (411, 0.0), (412, 0.01197069559727406), (413, 0.015194642417648025), (414, 0.011093885783728741), (415, 0.0), (416, 0.0), (417, 0.012932251908056708), (418, 0.0354234029851096), (419, 0.009380599482729126), (420, 0.0), (421, 0.0), (422, 0.0), (423, 0.0), (424, 0.015876435139461024), (425, 0.015898324183924988), (426, 0.012839151860362285), (427, 0.0), (428, 0.020874261415706693), (429, 0.0), (430, 0.011597728384945459), (431, 0.0), (432, 0.0), (433, 0.046216259043145594), (434, 0.026393483670019525), (435, 0.017838555455923284), (436, 0.0), (437, 0.02929416696242568), (438, 0.0), (439, 0.0), (440, 0.009081028894765572), (441, 0.012458673526886217), (442, 0.06025059545595691), (443, 0.0), (444, 0.0), (445, 0.012920148922110491), (446, 0.028024289142948775), (447, 0.0), (448, 0.029091986451670906), (449, 0.06748370534694884), (450, 0.0), (451, 0.005877618869774444), (452, 0.03341859461406723), (453, 0.0), (454, 0.0), (455, 0.038969214010112385), (456, 0.014203844173177662), (457, 0.0073128410557513285), (458, 0.006807744701170634), (459, 0.0), (460, 0.0), (461, 0.009221074712124534), (462, 0.0), (463, 0.01324433790644884), (464, 0.14199338628614416), (465, 0.037422845172525095), (466, 0.02901470562901625), (467, 0.02955892141373228), (468, 0.02677094288602471), (469, 0.011667563166558901), (470, 0.01549694093751195), (471, 0.012765293940719295), (472, 0.06994179142584266), (473, 0.0), (474, 0.0), (475, 0.07510055495340341), (476, 0.01477417361349524), (477, 0.023531954475406174), (478, 0.015591448439554175), (479, 0.0), (480, 0.022766715391697893), (481, 0.0), (482, 0.029632689810967075), (483, 0.0), (484, 0.0), (485, 0.017115252266080693), (486, 0.0), (487, 0.06104301471155967), (488, 0.0), (489, 0.0), (490, 0.10673618079709107), (491, 0.032718271329691864), (492, 0.005664993409451592), (493, 0.014246671390205074), (494, 0.011100334736193113), (495, 0.005468316856185768), (496, 0.04780896671327686), (497, 0.012427388504040422), (498, 0.025436872716086745), (499, 0.01465354425553786), (500, 0.005714544312935534), (501, 0.012973745407608976), (502, 0.0), (503, 0.0), (504, 0.0), (505, 0.0), (506, 0.05814729766850092), (507, 0.0), (508, 0.04252475777335511), (509, 0.0), (510, 0.0), (511, 0.027065150655233617), (512, 0.006820934647949438), (513, 0.00634877244147912), (514, 0.044847264391165084), (515, 0.005521878082753425), (516, 0.00602226814843427), (517, 0.027605171046375693), (518, 0.0), (519, 0.03834016944748694), (520, 0.0), (521, 0.030704407038481988), (522, 0.02621580560114385), (523, 0.01499170970888519), (524, 0.022641317908654035), (525, 0.08069484525533212), (526, 0.0), (527, 0.02359583687063936), (528, 0.014205334764264079), (529, 0.013491327199434286), (530, 0.021791149908860576), (531, 0.0), (532, 0.03043281932294544), (533, 0.02203322122481207), (534, 0.03565845407747264), (535, 0.0), (536, 0.0), (537, 0.07085595033731779), (538, 0.0617394332622884), (539, 0.013986940549610371), (540, 0.013305859802539007), (541, 0.0), (542, 0.04794587857474642), (543, 0.0), (544, 0.0), (545, 0.016819224837015864), (546, 0.007625642909026067), (547, 0.04943510784502624), (548, 0.005526397257509348), (549, 0.012648211023300385), (550, 0.029732995028487752), (551, 0.04718774907441025), (552, 0.0), (553, 0.05786602577058253), (554, 0.005884773777887513), (555, 0.038812863048117936), (556, 0.0), (557, 0.0), (558, 0.0), (559, 0.0), (560, 0.006095647637641431), (561, 0.02392885607258789), (562, 0.019671557747727435), (563, 0.012380245512217444), (564, 0.0), (565, 0.09337439589224998), (566, 0.0587656658390511), (567, 0.07033219878725816), (568, 0.027811261771448693), (569, 0.012931594020450219), (570, 0.018029101433843755), (571, 0.0), (572, 0.050403671166232504), (573, 0.0), (574, 0.0), (575, 0.0), (576, 0.0), (577, 0.012854044207527815), (578, 0.0), (579, 0.0210311516117861), (580, 0.0), (581, 0.0), (582, 0.06876551482200652), (583, 0.01333352582176685), (584, 0.0), (585, 0.0), (586, 0.0), (587, 0.0), (588, 0.0), (589, 0.012609386054618638), (590, 0.023769091202463812), (591, 0.008814766283454428), (592, 0.014241149763134002), (593, 0.0), (594, 0.11500519776053036), (595, 0.0063822127617815545), (596, 0.0), (597, 0.025711932778140982), (598, 0.07605191916409364), (599, 0.023180753333875304), (600, 0.04576174318830528), (601, 0.012452720393909503), (602, 0.023805264291457448), (603, 0.008410808862626034), (604, 0.012720622470647619), (605, 0.022941409729262403), (606, 0.0), (607, 0.0), (608, 0.007512445523428251), (609, 0.043679967684463805), (610, 0.008079841632498022), (611, 0.0), (612, 0.017309365360299145), (613, 0.013870158455771693), (614, 0.03669430551232637), (615, 0.0952502542033918), (616, 0.025472765352406834), (617, 0.011868986981056324), (618, 0.0564356850233166), (619, 0.005839717250490249), (620, 0.043206801956304386), (621, 0.01698300728077485), (622, 0.031027557731364293), (623, 0.017565293728759993), (624, 0.0), (625, 0.0), (626, 0.0), (627, 0.0), (628, 0.0), (629, 0.022861789313036174), (630, 0.04774262136413367), (631, 0.05066866910458329), (632, 0.00556638734713102), (633, 0.0), (634, 0.033163806991325234), (635, 0.03144371048040191), (636, 0.0), (637, 0.013543340580666734), (638, 0.0), (639, 0.011960622698418313), (640, 0.012325113178077753), (641, 0.017396221211011892), (642, 0.0), (643, 0.014018725270046486), (644, 0.006114231792466763), (645, 0.0), (646, 0.0), (647, 0.01014257110047206), (648, 0.07987625449542265), (649, 0.0), (650, 0.0), (651, 0.014262781202294565), (652, 0.0), (653, 0.005278178035258261), (654, 0.0), (655, 0.0), (656, 0.020235732486703), (657, 0.030679370867524078), (658, 0.0), (659, 0.0), (660, 0.02718452461122883), (661, 0.020922656097171474), (662, 0.0), (663, 0.01757403422825281), (664, 0.02329052202605587), (665, 0.013184956557098011), (666, 0.05591673105731898), (667, 0.0), (668, 0.0047918702464777654), (669, 0.019083111170875577), (670, 0.04022071850297039), (671, 0.014983480137981344), (672, 0.02263012207193673), (673, 0.006412971499181377), (674, 0.014228937175652458), (675, 0.0), (676, 0.01298932502409976), (677, 0.0), (678, 0.0), (679, 0.0), (680, 0.0), (681, 0.0396766430512965), (682, 0.006770361277836229), (683, 0.021972857017576612), (684, 0.028585511223071257), (685, 0.0), (686, 0.008999060822849538), (687, 0.013275314992398228), (688, 0.0065615216355668), (689, 0.014398366928094776), (690, 0.005790136312452577), (691, 0.021329882498416), (692, 0.03795484316128914), (693, 0.013376707006547042), (694, 0.0), (695, 0.0), (696, 0.0), (697, 0.07217903987124978), (698, 0.02451176640710422), (699, 0.007165025356012731), (700, 0.02286247457223404), (701, 0.015097829051998607), (702, 0.0), (703, 0.0), (704, 0.0), (705, 0.046747838429789565), (706, 0.07214348415095198), (707, 0.03106045147136213), (708, 0.0), (709, 0.0), (710, 0.042335140952119474), (711, 0.0), (712, 0.0), (713, 0.015488581164743628), (714, 0.014159601824609343), (715, 0.04534486686070671), (716, 0.015559461295410986), (717, 0.026431062763460644), (718, 0.0), (719, 0.017283073170623567), (720, 0.008108818805842006), (721, 0.0), (722, 0.0), (723, 0.00510294527208314), (724, 0.008045614181921294), (725, 0.011985641528561929), (726, 0.006824436313582263), (727, 0.005870040591621653), (728, 0.006359006389757773), (729, 0.006522677475385551), (730, 0.025987569372892844), (731, 0.0), (732, 0.01267865919524114), (733, 0.0), (734, 0.013753625809762063), (735, 0.0), (736, 0.0), (737, 0.0631576855183201), (738, 0.015926025253935716), (739, 0.0), (740, 0.0), (741, 0.012841847959423206), (742, 0.041512636677690305), (743, 0.0), (744, 0.025083156759629834), (745, 0.03222462226492689), (746, 0.0), (747, 0.0), (748, 0.03635625466498668), (749, 0.005990374965101099), (750, 0.03224586358531918), (751, 0.009443728259769147), (752, 0.031733603213619274), (753, 0.006806608766456976), (754, 0.0), (755, 0.01614626243300451), (756, 0.01957440373649129), (757, 0.023635353995121837), (758, 0.03461524704739791), (759, 0.02843296723666771), (760, 0.0), (761, 0.0), (762, 0.04916665531152331), (763, 0.04469862120125841), (764, 0.0), (765, 0.042164641744812194), (766, 0.013497332906995169), (767, 0.0), (768, 0.0), (769, 0.027323650010936718), (770, 0.0), (771, 0.0), (772, 0.02518034134032966), (773, 0.012946387534334186), (774, 0.059937351884521047), (775, 0.03824165391164), (776, 0.014845677671723033), (777, 0.0), (778, 0.03656830761473069), (779, 0.005288850898498607), (780, 0.013598302730300108), (781, 0.0), (782, 0.015253955710759126), (783, 0.0), (784, 0.0), (785, 0.0), (786, 0.0), (787, 0.018080471614337873), (788, 0.03956659467589849), (789, 0.0), (790, 0.010751582310086025), (791, 0.0), (792, 0.011826811339848406), (793, 0.028919154464323756), (794, 0.04360646618998605), (795, 0.006958324016514891), (796, 0.0), (797, 0.0), (798, 0.0), (799, 0.0), (800, 0.01840118037500782), (801, 0.0), (802, 0.0), (803, 0.005336066768097829), (804, 0.015647244368985527), (805, 0.0), (806, 0.014008313361527403), (807, 0.011282232647135987), (808, 0.03996780867267531), (809, 0.021221174043327504), (810, 0.012221660358356859), (811, 0.013507797623688832), (812, 0.05839927647130643), (813, 0.0), (814, 0.02951711482725978), (815, 0.0), (816, 0.0), (817, 0.014953969836456343), (818, 0.0), (819, 0.0), (820, 0.0), (821, 0.03974820293113692), (822, 0.026743649505623), (823, 0.018588280828195098), (824, 0.031237098175417484), (825, 0.006050488045216818), (826, 0.015079049895473168), (827, 0.005686297378550537), (828, 0.0), (829, 0.010398965278714969), (830, 0.0), (831, 0.0), (832, 0.013460291211161867), (833, 0.04032528035505893), (834, 0.04156241340729006), (835, 0.04000377705460079), (836, 0.0), (837, 0.010712171850830598), (838, 0.056111755274158875), (839, 0.012256695088309363), (840, 0.015553104370594779), (841, 0.0), (842, 0.016704146330513536), (843, 0.03460103789018995), (844, 0.015396295377225573), (845, 0.006161327038585389), (846, 0.021674516984130837), (847, 0.016466625116932237), (848, 0.006383792503102433), (849, 0.01465139305145282), (850, 0.10189389320422633), (851, 0.0054256451900453195), (852, 0.00781985440136393), (853, 0.011368836793228518), (854, 0.00582030222765307), (855, 0.0), (856, 0.017924235877643024), (857, 0.0), (858, 0.0), (859, 0.013244120764838732), (860, 0.0), (861, 0.013765131721094904), (862, 0.0), (863, 0.0), (864, 0.014672427622383492), (865, 0.016893706922522), (866, 0.0057046484545604705), (867, 0.045362639696488155), (868, 0.031664587142727296), (869, 0.006039339846278548), (870, 0.029809570938185086), (871, 0.022145941908498327), (872, 0.01489540216384229), (873, 0.0), (874, 0.02622742634553795), (875, 0.043754407759982385), (876, 0.0), (877, 0.0), (878, 0.01925156042390319), (879, 0.0), (880, 0.021536586183857204), (881, 0.008761072453055702), (882, 0.0), (883, 0.03808361493322869), (884, 0.0), (885, 0.0), (886, 0.0), (887, 0.0), (888, 0.0), (889, 0.0), (890, 0.01479782793530016), (891, 0.006354102418109452), (892, 0.03179981260235625), (893, 0.0), (894, 0.0), (895, 0.05229143721738128), (896, 0.0), (897, 0.014896126462260186), (898, 0.0), (899, 0.03948008393709675), (900, 0.026278786313360357), (901, 0.0), (902, 0.038893374803624814), (903, 0.008575230097159367), (904, 0.00733477492507263), (905, 0.006855284971381035), (906, 0.069664791489218), (907, 0.0), (908, 0.0061984480377893945), (909, 0.008098390415511046), (910, 0.0), (911, 0.025863081453939243), (912, 0.009936729043665082), (913, 0.006302119151451547), (914, 0.03187480982814322), (915, 0.026658002626974396), (916, 0.03242225713802495), (917, 0.0323060722031675), (918, 0.014554391165539414), (919, 0.04492661526595913), (920, 0.007457760907966703), (921, 0.06373883713985541), (922, 0.0304857606911398), (923, 0.0), (924, 0.03586873647853067), (925, 0.0), (926, 0.006389899760821247), (927, 0.0), (928, 0.01766067277618287), (929, 0.02449238601125971), (930, 0.0), (931, 0.03928310453243585), (932, 0.0), (933, 0.0), (934, 0.03966465527110116), (935, 0.007795328299851932), (936, 0.055029505834299365), (937, 0.0), (938, 0.01581624934328722), (939, 0.013362313528602041), (940, 0.010344149489930603), (941, 0.0), (942, 0.0), (943, 0.0), (944, 0.027543994460370945), (945, 0.024815713717290522), (946, 0.025672714659761932), (947, 0.008616732563307137), (948, 0.02404477430248316), (949, 0.03284022274995077), (950, 0.0), (951, 0.007330861858479258), (952, 0.04626503322866908), (953, 0.0), (954, 0.013457565455401756), (955, 0.0), (956, 0.014988544825577179), (957, 0.07952211913285044), (958, 0.039626265715120824), (959, 0.0), (960, 0.0), (961, 0.0), (962, 0.014243299251480136), (963, 0.03430901120163801), (964, 0.0), (965, 0.014477953873230396), (966, 0.04127766274742195), (967, 0.0), (968, 0.0390672193725967), (969, 0.02035943727616932), (970, 0.04246158439435197), (971, 0.013730297123102864), (972, 0.010521684938226613), (973, 0.013163860834609846), (974, 0.005664838535469267), (975, 0.0252895066159216), (976, 0.0), (977, 0.0), (978, 0.0), (979, 0.013034151227192495), (980, 0.0), (981, 0.015528777336684438), (982, 0.0), (983, 0.0), (984, 0.0), (985, 0.0), (986, 0.006395691752684475), (987, 0.0), (988, 0.013102568909724287), (989, 0.0), (990, 0.029172283193183685), (991, 0.0), (992, 0.006426186162711941), (993, 0.0), (994, 0.006149575014283554), (995, 0.04235065949638903), (996, 0.008297925118046296), (997, 0.00545115003285056), (998, 0.02937700592401237), (999, 0.030772903542504004), (1000, 0.01576433346154907), (1001, 0.013429281079868918), (1002, 0.0), (1003, 0.0), (1004, 0.0), (1005, 0.016441987201562844), (1006, 0.015291067667957584), (1007, 0.024109568548047362), (1008, 0.010145043420809354), (1009, 0.12720298126534735), (1010, 0.0050429187171683355), (1011, 0.01544026296047931), (1012, 0.028315935480280396), (1013, 0.008456797252647827), (1014, 0.023668381977594664), (1015, 0.02149056596991726), (1016, 0.04369905697558224), (1017, 0.020735996584470548), (1018, 0.012763960350433869), (1019, 0.014925498858998706), (1020, 0.014799144643128797), (1021, 0.02802873566554866), (1022, 0.007999653953016753), (1023, 0.023286041758520264), (1024, 0.0062626746639577), (1025, 0.012903423587994216), (1026, 0.050802923693782975), (1027, 0.0), (1028, 0.0), (1029, 0.01046309453401049), (1030, 0.0), (1031, 0.0062703995125810204), (1032, 0.0), (1033, 0.04125467495086139), (1034, 0.0), (1035, 0.0), (1036, 0.0), (1037, 0.012485381600871363), (1038, 0.01227319445762789), (1039, 0.0), (1040, 0.011704083745107676), (1041, 0.0), (1042, 0.009558572249828787), (1043, 0.03258431501803892), (1044, 0.005846671385519017), (1045, 0.028776945774074143), (1046, 0.01738391115824345), (1047, 0.0), (1048, 0.015048062818011632), (1049, 0.0), (1050, 0.007174334761850807), (1051, 0.009643647617283445), (1052, 0.0), (1053, 0.0), (1054, 0.005542576881216598), (1055, 0.0), (1056, 0.006169549023025705), (1057, 0.0), (1058, 0.0), (1059, 0.0), (1060, 0.0), (1061, 0.014942745675761721), (1062, 0.0), (1063, 0.005808019272897424), (1064, 0.0), (1065, 0.005597707097046139), (1066, 0.005658761012357282), (1067, 0.00746431214630051), (1068, 0.027027329581800853), (1069, 0.026010032006895677), (1070, 0.0), (1071, 0.0), (1072, 0.0), (1073, 0.0), (1074, 0.09680954649113413), (1075, 0.014739646767838522), (1076, 0.0055903876297280905), (1077, 0.014856837465907831), (1078, 0.0), (1079, 0.007457925138736984), (1080, 0.0), (1081, 0.013378255363813256), (1082, 0.005725863733858461), (1083, 0.0), (1084, 0.0), (1085, 0.0), (1086, 0.0), (1087, 0.022403949064871382), (1088, 0.0), (1089, 0.01520030613834124), (1090, 0.06698137158079798), (1091, 0.006601518191566928), (1092, 0.0054546190055627455), (1093, 0.018782357030923902), (1094, 0.07403067523409285), (1095, 0.013182748093267055), (1096, 0.01985158997384968), (1097, 0.0), (1098, 0.0), (1099, 0.03130422515350843), (1100, 0.011190308140022864), (1101, 0.0), (1102, 0.0), (1103, 0.0), (1104, 0.0), (1105, 0.014298719588114576), (1106, 0.0), (1107, 0.0), (1108, 0.014569435914280632), (1109, 0.015031048024771284), (1110, 0.0), (1111, 0.05917612708667111), (1112, 0.0), (1113, 0.013619931352021532), (1114, 0.07178040396935947), (1115, 0.03818507572887401), (1116, 0.015341479348452392), (1117, 0.026641136328913316), (1118, 0.03832039534549654), (1119, 0.0), (1120, 0.0), (1121, 0.01966744631681373), (1122, 0.006186564000338382), (1123, 0.025278102591881794), (1124, 0.029259662922235988), (1125, 0.0), (1126, 0.013160294801132223), (1127, 0.006055102674667055), (1128, 0.014521777983251116), (1129, 0.04866764554463592), (1130, 0.01074661589123277), (1131, 0.0), (1132, 0.019574798753695857), (1133, 0.010975951349624676), (1134, 0.043211134409453386), (1135, 0.026951562420257674), (1136, 0.013116144858669262), (1137, 0.004872372984094609), (1138, 0.005932989063703966), (1139, 0.0), (1140, 0.0), (1141, 0.02268885958015155), (1142, 0.0), (1143, 0.0), (1144, 0.01187477161356592), (1145, 0.0), (1146, 0.014914282907871574), (1147, 0.0), (1148, 0.015393458618219938), (1149, 0.012203470056721014), (1150, 0.014587139760729381), (1151, 0.005947498323732266), (1152, 0.0), (1153, 0.004466342352899981), (1154, 0.005738004263943784), (1155, 0.025171394854325027), (1156, 0.0), (1157, 0.10592736407196177), (1158, 0.0), (1159, 0.0), (1160, 0.0), (1161, 0.0), (1162, 0.05354363469282155), (1163, 0.0), (1164, 0.005343194583127354), (1165, 0.03479027349740679), (1166, 0.013588837577729268), (1167, 0.0), (1168, 0.0), (1169, 0.0), (1170, 0.0), (1171, 0.03052669320360587), (1172, 0.1000745304334972), (1173, 0.026613747825879046), (1174, 0.006396773444623926), (1175, 0.021547920502316163), (1176, 0.0), (1177, 0.0), (1178, 0.030788594301122886), (1179, 0.014345037665493485), (1180, 0.0), (1181, 0.0), (1182, 0.01566859401925977), (1183, 0.005728509132913336), (1184, 0.0), (1185, 0.01448778345910148), (1186, 0.0), (1187, 0.0), (1188, 0.0), (1189, 0.0), (1190, 0.0), (1191, 0.0), (1192, 0.014910754876468828), (1193, 0.0), (1194, 0.01988444159617242), (1195, 0.035030349195304386), (1196, 0.0), (1197, 0.0), (1198, 0.048103777483936454), (1199, 0.03636320497708691), (1200, 0.012419402159268346), (1201, 0.0), (1202, 0.0), (1203, 0.0), (1204, 0.0), (1205, 0.0), (1206, 0.02893778064997111), (1207, 0.013531009178989101), (1208, 0.0), (1209, 0.012967617218594919), (1210, 0.010488680555415275), (1211, 0.013698857471242932), (1212, 0.0051545807705148374), (1213, 0.009964044420322718), (1214, 0.0377771811997028), (1215, 0.0364748687056417), (1216, 0.034854158563191906), (1217, 0.0), (1218, 0.0), (1219, 0.02008061953779964), (1220, 0.013925233348987617), (1221, 0.0), (1222, 0.0), (1223, 0.0), (1224, 0.0), (1225, 0.014982057619177723), (1226, 0.020393628994319794), (1227, 0.014474905000785014), (1228, 0.01489514381741765), (1229, 0.03462164723369379), (1230, 0.005781584368012804), (1231, 0.0), (1232, 0.0), (1233, 0.0), (1234, 0.021255902756362997), (1235, 0.013600951204368167), (1236, 0.025003902504986117), (1237, 0.03947178377398036), (1238, 0.03476737140714188), (1239, 0.0295025655732457), (1240, 0.015810681428454286), (1241, 0.005179875552138312), (1242, 0.01758851951586995), (1243, 0.0), (1244, 0.02827938121232297), (1245, 0.026401058491184425), (1246, 0.0), (1247, 0.013756542964586912), (1248, 0.0), (1249, 0.05051335328299973), (1250, 0.015092950239100872), (1251, 0.0), (1252, 0.006069733576675542), (1253, 0.016657606085022973), (1254, 0.08183216408485929), (1255, 0.01391508817617777), (1256, 0.013477870995150092), (1257, 0.03481013832432399), (1258, 0.0073010863410772195), (1259, 0.026307241606494693), (1260, 0.0), (1261, 0.0), (1262, 0.029503160984816243), (1263, 0.0446398910236854), (1264, 0.0), (1265, 0.08991848498774369), (1266, 0.038537848392479694), (1267, 0.024246897645066184), (1268, 0.021712471474336904), (1269, 0.028297582737157975), (1270, 0.0299182784753533), (1271, 0.0), (1272, 0.00791331686479598), (1273, 0.048740904081635804), (1274, 0.00579466766032016), (1275, 0.015087632563034145), (1276, 0.00452119543563), (1277, 0.008870699570796677), (1278, 0.05691314212469558), (1279, 0.08403092907581591), (1280, 0.015348221944713905), (1281, 0.00541863910090323), (1282, 0.0), (1283, 0.020452034461232234), (1284, 0.0), (1285, 0.033037948777907375), (1286, 0.0), (1287, 0.008066526265197558), (1288, 0.007256591969977463), (1289, 0.0), (1290, 0.00534526814728739), (1291, 0.012641901472794918), (1292, 0.07722523959461083), (1293, 0.041925945624817), (1294, 0.0), (1295, 0.012952921041992188), (1296, 0.03828990644907734), (1297, 0.0), (1298, 0.0), (1299, 0.01643212832474632), (1300, 0.0), (1301, 0.012104942854303632), (1302, 0.02077076542967341), (1303, 0.0), (1304, 0.0), (1305, 0.0), (1306, 0.010818444882882635), (1307, 0.021695810496054038), (1308, 0.0337662001633184), (1309, 0.012125311940817247), (1310, 0.04036932316339184), (1311, 0.0), (1312, 0.013119708202475362), (1313, 0.0), (1314, 0.020673098942415924), (1315, 0.013719368447681464), (1316, 0.038000330162369915), (1317, 0.012378847423642028), (1318, 0.0), (1319, 0.0), (1320, 0.004959897108447825), (1321, 0.046374602259146976), (1322, 0.017726208142788216), (1323, 0.0), (1324, 0.00852148578865597), (1325, 0.0), (1326, 0.03300652253266593), (1327, 0.02151810220603921), (1328, 0.015021633379175708), (1329, 0.043045435327755135), (1330, 0.0), (1331, 0.0), (1332, 0.02203969581534891), (1333, 0.008582801348673478), (1334, 0.03156977206122851), (1335, 0.006128203913351411), (1336, 0.0255387058312279), (1337, 0.005895534096304092), (1338, 0.005981519425984275), (1339, 0.0), (1340, 0.0), (1341, 0.058214359283227615), (1342, 0.0), (1343, 0.0), (1344, 0.009227921444479098), (1345, 0.035836045958412145), (1346, 0.1008106838378737), (1347, 0.0), (1348, 0.00538790462089538), (1349, 0.0), (1350, 0.015001755603413467), (1351, 0.008202547232610198), (1352, 0.012539168444642201), (1353, 0.0), (1354, 0.012864644289602704), (1355, 0.014095674894324334), (1356, 0.01179897724844671), (1357, 0.029780812629305355), (1358, 0.007745980973862032), (1359, 0.015318488346727435), (1360, 0.0), (1361, 0.0), (1362, 0.010006674700703736), (1363, 0.04509908608531618), (1364, 0.014303602372993607), (1365, 0.04322522044119041), (1366, 0.02274299996108833), (1367, 0.013339523475295368), (1368, 0.023933236686153294), (1369, 0.038836231720116986), (1370, 0.0), (1371, 0.0), (1372, 0.0), (1373, 0.008008480589027249), (1374, 0.06131837335357915), (1375, 0.0), (1376, 0.028760235625438745), (1377, 0.017750670395112043), (1378, 0.0), (1379, 0.024903641656592132), (1380, 0.014680638285820875), (1381, 0.016263141034579542), (1382, 0.11182688347744132), (1383, 0.015278758992048301), (1384, 0.005440437688346503), (1385, 0.04078879348485113), (1386, 0.044186556297642836), (1387, 0.012463882961143207), (1388, 0.008570553998024776), (1389, 0.008418544566854841), (1390, 0.0), (1391, 0.0), (1392, 0.010182930441747636), (1393, 0.018289183241413536), (1394, 0.0), (1395, 0.0), (1396, 0.029355584225962083), (1397, 0.0374677136407725), (1398, 0.05604581634585151), (1399, 0.0), (1400, 0.0), (1401, 0.1055894117597278), (1402, 0.0), (1403, 0.05145436841343384), (1404, 0.010649011663899921), (1405, 0.0), (1406, 0.005957939079417682), (1407, 0.015227370089318567), (1408, 0.015749749572972423), (1409, 0.012118834430418094), (1410, 0.0), (1411, 0.011361242031495513), (1412, 0.07953727817047268), (1413, 0.02126394068757987), (1414, 0.0), (1415, 0.0), (1416, 0.0), (1417, 0.016304761811504143), (1418, 0.03411434299172864), (1419, 0.01738373057476132), (1420, 0.01449286105805), (1421, 0.0), (1422, 0.0), (1423, 0.038527721668338344), (1424, 0.0), (1425, 0.014232986743686124), (1426, 0.04030431247371237), (1427, 0.0), (1428, 0.0), (1429, 0.0), (1430, 0.013229506113579865), (1431, 0.010926455327278825), (1432, 0.0064071612383695895), (1433, 0.028069541255432314), (1434, 0.0), (1435, 0.0), (1436, 0.014329159077418344), (1437, 0.016351434463417122), (1438, 0.013029841799591173), (1439, 0.0), (1440, 0.014192169753928893), (1441, 0.0), (1442, 0.00588993838959901), (1443, 0.050676989799749925), (1444, 0.0), (1445, 0.04268308376338585), (1446, 0.014221255400705918), (1447, 0.013823479412533647), (1448, 0.0), (1449, 0.0), (1450, 0.0), (1451, 0.010562148811393468), (1452, 0.0), (1453, 0.012429169423410746), (1454, 0.006374371530700602), (1455, 0.021905375862755455), (1456, 0.02566355573779657), (1457, 0.0), (1458, 0.034903531355887946), (1459, 0.008114140293508706), (1460, 0.0761089500314674), (1461, 0.014898161722286085), (1462, 0.0), (1463, 0.0), (1464, 0.05583076221593191), (1465, 0.02576857347435189), (1466, 0.016190320254544494), (1467, 0.03275232984206554), (1468, 0.01306150321788218), (1469, 0.006115215397838486), (1470, 0.05138766802381447), (1471, 0.022383716181777674), (1472, 0.0), (1473, 0.0), (1474, 0.008857868972457258), (1475, 0.06854472863098383), (1476, 0.0), (1477, 0.013420565474460112), (1478, 0.018496780461743106), (1479, 0.015137379943295792), (1480, 0.0), (1481, 0.0), (1482, 0.0), (1483, 0.0058997102106407235), (1484, 0.006156651965800086), (1485, 0.0), (1486, 0.02269925424443614), (1487, 0.0), (1488, 0.0), (1489, 0.0), (1490, 0.007855071745833593), (1491, 0.0), (1492, 0.01278446243200306), (1493, 0.04119152268948496), (1494, 0.13712817281840442), (1495, 0.036053998613285995), (1496, 0.036132138676141616), (1497, 0.018521289359096225), (1498, 0.0), (1499, 0.0), (1500, 0.01439100175504832), (1501, 0.014746606787611983), (1502, 0.0061563959668921205), (1503, 0.023185835833846355), (1504, 0.006128583025656732), (1505, 0.015145137404542264), (1506, 0.010066115491347448), (1507, 0.012830419827580927), (1508, 0.01361436127299865), (1509, 0.020078519935051345), (1510, 0.034143195877713965), (1511, 0.006499902788816495), (1512, 0.03682038035548294), (1513, 0.006447699298086423), (1514, 0.02147027807814543), (1515, 0.028495965413172786), (1516, 0.00629827061143686), (1517, 0.05909667016904797), (1518, 0.0), (1519, 0.014030759880957677), (1520, 0.0), (1521, 0.0074355513357616644), (1522, 0.040269712100091996), (1523, 0.0), (1524, 0.03660566876490371), (1525, 0.0), (1526, 0.014562350669823957), (1527, 0.00589551088877236), (1528, 0.0), (1529, 0.01775055490443284), (1530, 0.005077755296097931), (1531, 0.014313143829399742), (1532, 0.0), (1533, 0.0), (1534, 0.0), (1535, 0.005079070422309499), (1536, 0.006033773274181843), (1537, 0.006431820316305151), (1538, 0.050750776666747696), (1539, 0.023329353314402147), (1540, 0.007002869648859577), (1541, 0.0), (1542, 0.0), (1543, 0.012854280877880033), (1544, 0.005786656800846132), (1545, 0.0057624905862562826), (1546, 0.005379343292797261), (1547, 0.016458271565375115), (1548, 0.0), (1549, 0.09137356010143682), (1550, 0.012909675459227127), (1551, 0.014695768049566401), (1552, 0.035580482735459565), (1553, 0.012863096282602378), (1554, 0.015258714804116972), (1555, 0.012513244961670285), (1556, 0.0), (1557, 0.0), (1558, 0.026525527660786828), (1559, 0.009660627799241818), (1560, 0.00681258067241318), (1561, 0.01102044292200371), (1562, 0.0), (1563, 0.011970806756253652), (1564, 0.018168284309971285), (1565, 0.0), (1566, 0.007914049039930393), (1567, 0.0260980667941368), (1568, 0.0), (1569, 0.009895560757573368), (1570, 0.015105065979417014), (1571, 0.013036062148083295), (1572, 0.03017259788770997), (1573, 0.0), (1574, 0.011236710445408757), (1575, 0.01683771007845842), (1576, 0.016023637328137694), (1577, 0.02903276521427947), (1578, 0.0), (1579, 0.1272510027337545), (1580, 0.06534607220797153), (1581, 0.006897805998099057), (1582, 0.0), (1583, 0.015926360536288868), (1584, 0.010252715672007258), (1585, 0.028161061043932584), (1586, 0.009176396296216732), (1587, 0.014758300617450936), (1588, 0.0), (1589, 0.02724803518686302), (1590, 0.0), (1591, 0.00675703188516963), (1592, 0.013550590057538522), (1593, 0.0), (1594, 0.0), (1595, 0.0), (1596, 0.0), (1597, 0.0), (1598, 0.007879218087548637), (1599, 0.06708989180456396), (1600, 0.01688193527718977), (1601, 0.009073701678674762), (1602, 0.0), (1603, 0.11944883839722775), (1604, 0.027784007103040867), (1605, 0.0), (1606, 0.01224693490074472), (1607, 0.007713030888476747), (1608, 0.0), (1609, 0.0), (1610, 0.0), (1611, 0.014044424931600975), (1612, 0.04112247207467189), (1613, 0.0), (1614, 0.0), (1615, 0.0), (1616, 0.05030213189851086), (1617, 0.0), (1618, 0.0), (1619, 0.01523557553489026), (1620, 0.0), (1621, 0.044738432037875836), (1622, 0.0), (1623, 0.0), (1624, 0.0), (1625, 0.0), (1626, 0.0), (1627, 0.005457908916475637), (1628, 0.0), (1629, 0.028835372663138487), (1630, 0.0), (1631, 0.0), (1632, 0.010624060723878136), (1633, 0.0), (1634, 0.0), (1635, 0.0), (1636, 0.0), (1637, 0.0), (1638, 0.0), (1639, 0.0), (1640, 0.027078834888499374), (1641, 0.0), (1642, 0.0), (1643, 0.0), (1644, 0.028061308043644012), (1645, 0.014460174749126076), (1646, 0.00912796541787881), (1647, 0.013476527670926414), (1648, 0.05012194171688956), (1649, 0.07611940842964168), (1650, 0.04049167508071536), (1651, 0.010904870793799435), (1652, 0.01002745737902604), (1653, 0.0059810866585251424), (1654, 0.08208055352957078), (1655, 0.05545599296162686), (1656, 0.0), (1657, 0.005820381741611884), (1658, 0.01711050567979396), (1659, 0.006393900858937966), (1660, 0.0), (1661, 0.0), (1662, 0.026295658570325117), (1663, 0.0), (1664, 0.021356728755883653), (1665, 0.005755607338398345), (1666, 0.04408253484096458), (1667, 0.0), (1668, 0.0), (1669, 0.01630820899749932), (1670, 0.0), (1671, 0.0), (1672, 0.0), (1673, 0.0), (1674, 0.0), (1675, 0.03661795480780403), (1676, 0.0), (1677, 0.024374552536474966), (1678, 0.047963363782212394), (1679, 0.011966131256212976), (1680, 0.005595702807424214), (1681, 0.00674775394847517), (1682, 0.037978759070379016), (1683, 0.0), (1684, 0.013268445143016587), (1685, 0.015812806972144863), (1686, 0.013518364052473161), (1687, 0.006469471236514425), (1688, 0.048014760832983505), (1689, 0.033807005917565774), (1690, 0.07669792550382826), (1691, 0.0), (1692, 0.0299292101741099), (1693, 0.013154954255021618), (1694, 0.0), (1695, 0.01166786792653363), (1696, 0.03591950587263318), (1697, 0.01661066210295381), (1698, 0.06875136374500262), (1699, 0.0), (1700, 0.029556587380206355), (1701, 0.0309174261052026), (1702, 0.0), (1703, 0.017051032181279933), (1704, 0.0), (1705, 0.01528084174705165), (1706, 0.03698017061648604), (1707, 0.05373157012974594), (1708, 0.023746210476763212), (1709, 0.04528005976385631), (1710, 0.014319374959645902), (1711, 0.0), (1712, 0.016276230601189778), (1713, 0.033617018835716925), (1714, 0.06961366472784819), (1715, 0.01335973793118956), (1716, 0.0), (1717, 0.0), (1718, 0.04188743362770783), (1719, 0.0), (1720, 0.0), (1721, 0.03461963068634268), (1722, 0.027590099556103236), (1723, 0.04345337233543134), (1724, 0.015659232523696272), (1725, 0.0), (1726, 0.0), (1727, 0.006358730716987108), (1728, 0.004977473700773624), (1729, 0.03119018779023157), (1730, 0.014630629076413491), (1731, 0.008578312384626474), (1732, 0.006354006830660074), (1733, 0.0), (1734, 0.00628423199728343), (1735, 0.00633828289532959), (1736, 0.006434335107904666), (1737, 0.0155169553927614), (1738, 0.007925495418402434), (1739, 0.0), (1740, 0.006041503628552896), (1741, 0.0), (1742, 0.0), (1743, 0.10198713935408794), (1744, 0.0), (1745, 0.012439773233164978), (1746, 0.01375782576895463), (1747, 0.011616765288135152), (1748, 0.0), (1749, 0.005859451911275547), (1750, 0.0), (1751, 0.0), (1752, 0.0), (1753, 0.0), (1754, 0.0), (1755, 0.0), (1756, 0.0), (1757, 0.02692311638797778), (1758, 0.009140995938664628), (1759, 0.0), (1760, 0.0), (1761, 0.028839284317228105), (1762, 0.13269862911465508), (1763, 0.012130732699069086), (1764, 0.060754347029721587), (1765, 0.0), (1766, 0.0), (1767, 0.0), (1768, 0.0), (1769, 0.01624464735165778), (1770, 0.0164378800010547), (1771, 0.013171255723905463), (1772, 0.036947853101207476), (1773, 0.014748521906880552), (1774, 0.03689655701706493), (1775, 0.0), (1776, 0.026173108248524056), (1777, 0.011471980166702993), (1778, 0.013386586611858467), (1779, 0.04915647811946498), (1780, 0.0), (1781, 0.005043605732040914), (1782, 0.015377871353543987), (1783, 0.0), (1784, 0.012743183091894055), (1785, 0.015611169934219377), (1786, 0.0), (1787, 0.08094772378188717), (1788, 0.07584425627314836), (1789, 0.026195800497733818), (1790, 0.01752701900505236), (1791, 0.026827834186199523), (1792, 0.0), (1793, 0.014062469699155079), (1794, 0.0), (1795, 0.0), (1796, 0.005733041111724563), (1797, 0.013225840865234487), (1798, 0.06251391102419082), (1799, 0.06916025703966452), (1800, 0.0), (1801, 0.0), (1802, 0.02155962726550253), (1803, 0.0), (1804, 0.01102700928197539), (1805, 0.0), (1806, 0.01541048272819721), (1807, 0.014436245136290578), (1808, 0.02047916146094437), (1809, 0.036126116163690956), (1810, 0.02357405256275473), (1811, 0.0), (1812, 0.031232963304187865), (1813, 0.0), (1814, 0.0), (1815, 0.006894910178352467), (1816, 0.01007194358630536), (1817, 0.0), (1818, 0.01940628493415164), (1819, 0.012847438847923649), (1820, 0.0), (1821, 0.021547817849700873), (1822, 0.006559336771774541), (1823, 0.0), (1824, 0.012670523778874825), (1825, 0.0), (1826, 0.0), (1827, 0.03159596984285245), (1828, 0.005134110134560873), (1829, 0.0), (1830, 0.0), (1831, 0.020527403826095313), (1832, 0.0), (1833, 0.021257932243100134), (1834, 0.0), (1835, 0.0), (1836, 0.0), (1837, 0.0), (1838, 0.0), (1839, 0.051061440075897246), (1840, 0.0), (1841, 0.030870216277986594), (1842, 0.042363831187332945), (1843, 0.033418360481579604), (1844, 0.008651795499374958), (1845, 0.02567666461823774), (1846, 0.027108681679367662), (1847, 0.02242437855678748), (1848, 0.09606123788588652), (1849, 0.014433216835728131), (1850, 0.021108020287425325), (1851, 0.014371784536506832), (1852, 0.03879148558452307), (1853, 0.006310346683958684), (1854, 0.0), (1855, 0.007683686767426178), (1856, 0.0), (1857, 0.013345620068982525), (1858, 0.0), (1859, 0.011550665942125709), (1860, 0.06977408331959639), (1861, 0.015609904371162874), (1862, 0.0), (1863, 0.012727082689981272), (1864, 0.01401522763089056), (1865, 0.010160128451756786), (1866, 0.0), (1867, 0.014469040337461372), (1868, 0.0), (1869, 0.027231157110211436), (1870, 0.03187455115546833), (1871, 0.06582041682565828), (1872, 0.0), (1873, 0.014742970191105624), (1874, 0.0), (1875, 0.0320504257938361), (1876, 0.04832829772522432), (1877, 0.0), (1878, 0.02345944249409957), (1879, 0.0), (1880, 0.04035351762000415), (1881, 0.01754092560032706), (1882, 0.0), (1883, 0.0065209092332078646), (1884, 0.0), (1885, 0.0), (1886, 0.011558993227137025), (1887, 0.0), (1888, 0.013155503813739602), (1889, 0.00829488571741568), (1890, 0.01476033760898829), (1891, 0.0), (1892, 0.0), (1893, 0.0), (1894, 0.006529795426671316), (1895, 0.013188870255048673), (1896, 0.0), (1897, 0.048577509330651386), (1898, 0.013375626885064664), (1899, 0.0), (1900, 0.0), (1901, 0.014630319273420189), (1902, 0.016591367538668533), (1903, 0.06315725086002663), (1904, 0.01534121909206863), (1905, 0.0), (1906, 0.0), (1907, 0.0), (1908, 0.023318735515687496), (1909, 0.0), (1910, 0.02188658577553059), (1911, 0.03733315114332257), (1912, 0.0), (1913, 0.04700430940510629), (1914, 0.0), (1915, 0.0), (1916, 0.0), (1917, 0.0), (1918, 0.02153559066248936), (1919, 0.014144636788465375), (1920, 0.050390216113914504), (1921, 0.01362412476645007), (1922, 0.0), (1923, 0.0), (1924, 0.0), (1925, 0.009629221189432446), (1926, 0.023980973854742058), (1927, 0.0), (1928, 0.0), (1929, 0.06161623801373411), (1930, 0.0), (1931, 0.01440697542137585), (1932, 0.008593594837292272), (1933, 0.0), (1934, 0.045159955912573366), (1935, 0.06697530989381847), (1936, 0.029043218475636047), (1937, 0.016940505509972222), (1938, 0.0), (1939, 0.01828467532197428), (1940, 0.0), (1941, 0.00692729531422827), (1942, 0.05981577975420251), (1943, 0.0), (1944, 0.0), (1945, 0.02087767574357991), (1946, 0.0), (1947, 0.0), (1948, 0.08452774002665883), (1949, 0.006233096519850975), (1950, 0.012302543849000015), (1951, 0.0297491251637435), (1952, 0.0), (1953, 0.0), (1954, 0.017845423979503387), (1955, 0.008654378737229023), (1956, 0.0), (1957, 0.03607642754026939), (1958, 0.0), (1959, 0.0), (1960, 0.0), (1961, 0.02242791879565472), (1962, 0.0), (1963, 0.0), (1964, 0.04901152303359891), (1965, 0.008284988490250134), (1966, 0.0), (1967, 0.07071127564365966), (1968, 0.006703696483472458), (1969, 0.0), (1970, 0.0), (1971, 0.0053469956906394885), (1972, 0.0), (1973, 0.005689298748212804), (1974, 0.0), (1975, 0.0), (1976, 0.006512290541539456), (1977, 0.053498840763630186), (1978, 0.009844808604662976), (1979, 0.0), (1980, 0.0), (1981, 0.0), (1982, 0.079441495463128), (1983, 0.0), (1984, 0.0), (1985, 0.021017646732491013), (1986, 0.03496569398091771), (1987, 0.012772297237530917), (1988, 0.04098583324961701), (1989, 0.006563191144805098), (1990, 0.0), (1991, 0.020297909868423107), (1992, 0.02588502196178557), (1993, 0.0), (1994, 0.026524255595592086), (1995, 0.0), (1996, 0.0), (1997, 0.0), (1998, 0.0), (1999, 0.008985900302127647), (2000, 0.035555947717550995), (2001, 0.0), (2002, 0.0), (2003, 0.0), (2004, 0.01283212144448119), (2005, 0.02712107824114652), (2006, 0.006959757890520987), (2007, 0.020137273356170583), (2008, 0.03477535036064175), (2009, 0.0), (2010, 0.011630792064821455), (2011, 0.0132626429908309), (2012, 0.006691245652338351), (2013, 0.02303947471750247), (2014, 0.013644752926800743), (2015, 0.014890345724633075), (2016, 0.014966383496510123), (2017, 0.0), (2018, 0.0), (2019, 0.02815425630245103), (2020, 0.013175704344695113), (2021, 0.006564918577377408), (2022, 0.0434168895729046), (2023, 0.0), (2024, 0.005936102513295804), (2025, 0.005100053655284603), (2026, 0.0), (2027, 0.049250634212225516), (2028, 0.02113778260551895), (2029, 0.0), (2030, 0.0), (2031, 0.0), (2032, 0.0), (2033, 0.005347526778892214), (2034, 0.0068796642047118965), (2035, 0.06650137474522874), (2036, 0.11233833726513681), (2037, 0.11217339432385869), (2038, 0.0), (2039, 0.0), (2040, 0.022310073002560653), (2041, 0.0), (2042, 0.0), (2043, 0.012336527801622223), (2044, 0.006373878863008013), (2045, 0.028636363807926855), (2046, 0.0), (2047, 0.0), (2048, 0.022693279422952312), (2049, 0.016529815397798235), (2050, 0.020732717460804247), (2051, 0.08237248014435639), (2052, 0.034799121825659474), (2053, 0.011860038452646106), (2054, 0.0), (2055, 0.053981420525659934), (2056, 0.014344723619949625), (2057, 0.0), (2058, 0.07912889753086744), (2059, 0.0), (2060, 0.0), (2061, 0.019315527374863), (2062, 0.013865220627170223), (2063, 0.0), (2064, 0.010836672232379932), (2065, 0.012446958360221139), (2066, 0.015608248524695384), (2067, 0.014928015909509821), (2068, 0.012991785806218004), (2069, 0.0), (2070, 0.012494493272580738), (2071, 0.0), (2072, 0.0), (2073, 0.0), (2074, 0.02307095498736779), (2075, 0.03496958327751443), (2076, 0.028252084267002594), (2077, 0.0071911556888635654), (2078, 0.00485422693241729), (2079, 0.0), (2080, 0.0), (2081, 0.0062292683614383285), (2082, 0.00673882476423678), (2083, 0.006264378474616925), (2084, 0.0), (2085, 0.05443841824395391), (2086, 0.0), (2087, 0.014577277860551), (2088, 0.02129457927016316), (2089, 0.0), (2090, 0.0), (2091, 0.006249510862267305), (2092, 0.0), (2093, 0.013255226529162539), (2094, 0.019413652296993416), (2095, 0.029708983990628532), (2096, 0.015701084406960237), (2097, 0.0), (2098, 0.012803857660760273), (2099, 0.0), (2100, 0.010614254660729147), (2101, 0.04963174224558457), (2102, 0.015524479061938516), (2103, 0.052019613560422895), (2104, 0.011886495994452056), (2105, 0.0), (2106, 0.0), (2107, 0.01349068027439686), (2108, 0.0), (2109, 0.027934905786353038), (2110, 0.013788394258656108), (2111, 0.044450704702621587), (2112, 0.05073326486175003), (2113, 0.01758629139924067), (2114, 0.06424050321918948), (2115, 0.0), (2116, 0.049254234572787686), (2117, 0.02643579979198566), (2118, 0.021328027518463116), (2119, 0.013699405374415566), (2120, 0.0), (2121, 0.028385390445182367), (2122, 0.011101861579532272), (2123, 0.01617155149868799), (2124, 0.04372174045473753), (2125, 0.040638578362501995), (2126, 0.0), (2127, 0.006865511491666424), (2128, 0.0), (2129, 0.0), (2130, 0.0), (2131, 0.015540699621027509), (2132, 0.01134825191191063), (2133, 0.0), (2134, 0.0), (2135, 0.0), (2136, 0.014973230936167373), (2137, 0.0), (2138, 0.0), (2139, 0.013295660284335896), (2140, 0.02350236100170963), (2141, 0.0), (2142, 0.0), (2143, 0.013826419795895275), (2144, 0.03114778674503095), (2145, 0.026910156471668202), (2146, 0.0), (2147, 0.0), (2148, 0.0), (2149, 0.014929607825627645), (2150, 0.01342056610480567), (2151, 0.0), (2152, 0.0), (2153, 0.013869014237931925), (2154, 0.017764392803846434), (2155, 0.014834135972168613), (2156, 0.027152391932572677), (2157, 0.0), (2158, 0.0354099187824211), (2159, 0.01226362468699524), (2160, 0.014439469420083185), (2161, 0.025139552821573045), (2162, 0.0), (2163, 0.0), (2164, 0.016074468621050414), (2165, 0.0), (2166, 0.0057556636843034675), (2167, 0.03793380306902268), (2168, 0.0), (2169, 0.0), (2170, 0.0), (2171, 0.013677141951432811), (2172, 0.0), (2173, 0.0), (2174, 0.07733690552362683), (2175, 0.01385909346710282), (2176, 0.0), (2177, 0.047059832189020684), (2178, 0.005901272591898718), (2179, 0.031812613266572705), (2180, 0.006815647841463725), (2181, 0.029817918182681036), (2182, 0.0), (2183, 0.0075475352028083345), (2184, 0.0058007571592195144), (2185, 0.02600768600222686), (2186, 0.0), (2187, 0.015246118248371491), (2188, 0.007060478453273552), (2189, 0.0), (2190, 0.015114093323076632), (2191, 0.024928016014955652), (2192, 0.0), (2193, 0.014810130738663158), (2194, 0.0), (2195, 0.0), (2196, 0.011903399195875313), (2197, 0.029681590919986504), (2198, 0.05157988052072301), (2199, 0.0), (2200, 0.0), (2201, 0.0), (2202, 0.014286336056050213), (2203, 0.013472202292744241), (2204, 0.009601563673381166), (2205, 0.12217096059046101), (2206, 0.01946491220051133), (2207, 0.019708430218751405), (2208, 0.014730020621162222), (2209, 0.0164578284449243), (2210, 0.019083092232621165), (2211, 0.024592773114723382), (2212, 0.0060259543137436995), (2213, 0.0), (2214, 0.0), (2215, 0.0), (2216, 0.0), (2217, 0.006131649404221573), (2218, 0.0), (2219, 0.0), (2220, 0.008719218668475274), (2221, 0.03612922363891467), (2222, 0.0), (2223, 0.0), (2224, 0.005580968069960118), (2225, 0.0), (2226, 0.013949221742038309), (2227, 0.03333304041565258), (2228, 0.0), (2229, 0.0), (2230, 0.0), (2231, 0.0), (2232, 0.005857095946488916), (2233, 0.006292723346268974), (2234, 0.027434357042855125), (2235, 0.026792471486756092), (2236, 0.025839639607220494), (2237, 0.03186324730808569), (2238, 0.0), (2239, 0.033673538050799104), (2240, 0.0), (2241, 0.0), (2242, 0.0), (2243, 0.006547901350964319), (2244, 0.01580093389557075), (2245, 0.0), (2246, 0.0), (2247, 0.0), (2248, 0.0), (2249, 0.02227425929007018), (2250, 0.04704951638585003), (2251, 0.0), (2252, 0.0), (2253, 0.0), (2254, 0.030646746967792852), (2255, 0.0), (2256, 0.0), (2257, 0.0), (2258, 0.014209168091154382), (2259, 0.01732627220774866), (2260, 0.0), (2261, 0.0), (2262, 0.010150658967057016), (2263, 0.012051370293706338), (2264, 0.0), (2265, 0.04406883885687647), (2266, 0.0), (2267, 0.0), (2268, 0.014160346398577005), (2269, 0.0), (2270, 0.014048479314922206), (2271, 0.0), (2272, 0.0), (2273, 0.0), (2274, 0.005399006668143002), (2275, 0.008023576538123597), (2276, 0.020592140723897444), (2277, 0.030077157704798244), (2278, 0.0), (2279, 0.013469854647657892), (2280, 0.0), (2281, 0.0), (2282, 0.0), (2283, 0.008371178784589818), (2284, 0.013701480384926402), (2285, 0.03987088693048697), (2286, 0.0), (2287, 0.014912473259665595), (2288, 0.0), (2289, 0.0), (2290, 0.01349976420065818), (2291, 0.013828223381098664), (2292, 0.013956881607059435), (2293, 0.0), (2294, 0.07313643264697525), (2295, 0.0), (2296, 0.0116696702179539), (2297, 0.0), (2298, 0.013759419415385145), (2299, 0.0), (2300, 0.0), (2301, 0.07394872627247104), (2302, 0.0), (2303, 0.015462104741016886), (2304, 0.0), (2305, 0.0), (2306, 0.018068206852472735), (2307, 0.0), (2308, 0.0), (2309, 0.029670692200515852), (2310, 0.0), (2311, 0.010455137209929778), (2312, 0.0), (2313, 0.029536920506386042), (2314, 0.0), (2315, 0.005484461111430229), (2316, 0.023235410653677277), (2317, 0.04285109336122125), (2318, 0.012234199547760997), (2319, 0.0), (2320, 0.0), (2321, 0.0), (2322, 0.0), (2323, 0.0), (2324, 0.01088975680683914), (2325, 0.0), (2326, 0.009442920184684117), (2327, 0.010559451297306304), (2328, 0.0), (2329, 0.010940951968390431), (2330, 0.031227237826140182), (2331, 0.0), (2332, 0.0), (2333, 0.0), (2334, 0.0), (2335, 0.014571462691475445), (2336, 0.0), (2337, 0.008645512631741322), (2338, 0.0), (2339, 0.016568568261189992), (2340, 0.0), (2341, 0.0), (2342, 0.016069246313118162), (2343, 0.0), (2344, 0.0), (2345, 0.0), (2346, 0.0), (2347, 0.01048560904169762), (2348, 0.0), (2349, 0.0), (2350, 0.0), (2351, 0.015776914375717693), (2352, 0.0071483388680223135), (2353, 0.026082200198794796), (2354, 0.013944046271925312), (2355, 0.023439207720859265), (2356, 0.015618151007807519), (2357, 0.0), (2358, 0.0), (2359, 0.04036983016537779), (2360, 0.018394159389135335), (2361, 0.006563152946077865), (2362, 0.033411593060039255), (2363, 0.007627125229247165), (2364, 0.006847099448661776), (2365, 0.0), (2366, 0.0), (2367, 0.01307426963021867), (2368, 0.016565602391849277), (2369, 0.0), (2370, 0.0), (2371, 0.0), (2372, 0.0), (2373, 0.0), (2374, 0.0), (2375, 0.0), (2376, 0.03459428656600802), (2377, 0.0), (2378, 0.020920703567591264), (2379, 0.0), (2380, 0.0), (2381, 0.030596458441060015), (2382, 0.05634181988094281), (2383, 0.006594520577672978), (2384, 0.0), (2385, 0.0), (2386, 0.0), (2387, 0.03505719753919503), (2388, 0.0), (2389, 0.012801313137703097), (2390, 0.0), (2391, 0.0), (2392, 0.0), (2393, 0.032804173244049134), (2394, 0.0), (2395, 0.0), (2396, 0.0), (2397, 0.03849179113430704), (2398, 0.03694377215489496), (2399, 0.02800237412111547), (2400, 0.0), (2401, 0.0), (2402, 0.0), (2403, 0.016850359067705094), (2404, 0.0), (2405, 0.01644996445831005), (2406, 0.0), (2407, 0.0), (2408, 0.0), (2409, 0.023663776786028507), (2410, 0.0), (2411, 0.018148892883131432), (2412, 0.005179615037219406), (2413, 0.036293807896967546), (2414, 0.0), (2415, 0.007633570652727953), (2416, 0.02091711750631652), (2417, 0.01698278897263133), (2418, 0.01595281426985935), (2419, 0.0), (2420, 0.0), (2421, 0.04246307431314306), (2422, 0.013376176340508578), (2423, 0.0), (2424, 0.005635793547606249), (2425, 0.0), (2426, 0.026279980401772943), (2427, 0.016499736783420777), (2428, 0.01683667354483178), (2429, 0.0057591145213248185), (2430, 0.030755199402757158), (2431, 0.0), (2432, 0.018943736493803525), (2433, 0.012820062782696668), (2434, 0.0), (2435, 0.0), (2436, 0.01617530532717671), (2437, 0.04049398078205682), (2438, 0.0), (2439, 0.04153208360648025), (2440, 0.0), (2441, 0.0), (2442, 0.04393754103396768), (2443, 0.02990276568626489), (2444, 0.014515306547602152), (2445, 0.0), (2446, 0.0), (2447, 0.0), (2448, 0.0), (2449, 0.0), (2450, 0.007962119723903965), (2451, 0.008623220031714231), (2452, 0.0), (2453, 0.0), (2454, 0.0), (2455, 0.0), (2456, 0.0), (2457, 0.012454850486975352), (2458, 0.0), (2459, 0.007002836506323883), (2460, 0.011577273214506821), (2461, 0.019554812496443145), (2462, 0.0), (2463, 0.014823839285056187), (2464, 0.0), (2465, 0.0), (2466, 0.0), (2467, 0.0), (2468, 0.007116308052369472), (2469, 0.024209229217812864), (2470, 0.0), (2471, 0.013876019205996697), (2472, 0.016963094741582994), (2473, 0.021853802609339182), (2474, 0.04081188264981007), (2475, 0.0), (2476, 0.00682202410665009), (2477, 0.0), (2478, 0.0), (2479, 0.016757929604698994), (2480, 0.0143724176893332), (2481, 0.04820433650106504), (2482, 0.0), (2483, 0.0), (2484, 0.0), (2485, 0.0), (2486, 0.0), (2487, 0.015413003848050087), (2488, 0.0), (2489, 0.03383042588835375), (2490, 0.0), (2491, 0.024883142265226192), (2492, 0.0), (2493, 0.0067572516450919145), (2494, 0.06454833246225652), (2495, 0.0), (2496, 0.013141846104356708), (2497, 0.0), (2498, 0.0), (2499, 0.0), (2500, 0.0), (2501, 0.014258425236408329), (2502, 0.0), (2503, 0.014646058690665948), (2504, 0.00839666117765916), (2505, 0.017217158288751623), (2506, 0.015112341379557394), (2507, 0.012083967192489015), (2508, 0.0), (2509, 0.0256611918038833), (2510, 0.06027679175211345), (2511, 0.0), (2512, 0.0), (2513, 0.04661315810795806), (2514, 0.010243710696090817), (2515, 0.0), (2516, 0.0), (2517, 0.10045641294559737), (2518, 0.0), (2519, 0.0), (2520, 0.029521765420650107), (2521, 0.007717484915869377), (2522, 0.015182142032517498), (2523, 0.0), (2524, 0.023740392056335467), (2525, 0.010200075068979748), (2526, 0.0), (2527, 0.0), (2528, 0.0), (2529, 0.0), (2530, 0.017357929352067685), (2531, 0.0), (2532, 0.009407971625698607), (2533, 0.014137851245479234), (2534, 0.0), (2535, 0.0), (2536, 0.0), (2537, 0.0), (2538, 0.07901566103528089), (2539, 0.043162933213213434), (2540, 0.016603653664798858), (2541, 0.04879293213727049), (2542, 0.012548726878390268), (2543, 0.0), (2544, 0.0041467429413015065), (2545, 0.016135902054690263), (2546, 0.04222205721465485), (2547, 0.0), (2548, 0.025215902425065956), (2549, 0.014126080595421562), (2550, 0.01103772963497678), (2551, 0.025309212503276356), (2552, 0.023058039074005617), (2553, 0.050195121033151935), (2554, 0.014624728240393504), (2555, 0.03778871138341789), (2556, 0.0), (2557, 0.0), (2558, 0.0), (2559, 0.01855102626533011), (2560, 0.055924950785250456), (2561, 0.0), (2562, 0.016754887214877286), (2563, 0.021773706639326415), (2564, 0.0), (2565, 0.015395848640857974), (2566, 0.0), (2567, 0.0585990476185418), (2568, 0.02013474851944115), (2569, 0.008305607112923873), (2570, 0.0), (2571, 0.0), (2572, 0.03062614359646007), (2573, 0.005023292225849006), (2574, 0.01548111774597644), (2575, 0.0), (2576, 0.006730588766585523), (2577, 0.0), (2578, 0.0), (2579, 0.0), (2580, 0.009946417217230519), (2581, 0.0072687722457802206), (2582, 0.12935903213835934), (2583, 0.0), (2584, 0.01297045454396634), (2585, 0.0), (2586, 0.0), (2587, 0.03916640038992755), (2588, 0.014155294433572328), (2589, 0.0), (2590, 0.00786646664036732), (2591, 0.0), (2592, 0.0), (2593, 0.0), (2594, 0.012954099338945807), (2595, 0.0), (2596, 0.0), (2597, 0.0), (2598, 0.012594247633882368), (2599, 0.0), (2600, 0.007830681355177244), (2601, 0.027612874023823453), (2602, 0.0), (2603, 0.03829193020539189), (2604, 0.014925661108013681), (2605, 0.025295120167067198), (2606, 0.0), (2607, 0.01355563610210388), (2608, 0.012394543022906932), (2609, 0.008460215151785161), (2610, 0.0), (2611, 0.0), (2612, 0.0), (2613, 0.0), (2614, 0.021542498037331687), (2615, 0.019630821816571265), (2616, 0.013686303715341134), (2617, 0.0113967144468616), (2618, 0.0), (2619, 0.0), (2620, 0.0), (2621, 0.012509961925965632), (2622, 0.005077326924591317), (2623, 0.0), (2624, 0.014852010755800896), (2625, 0.022384878313275132), (2626, 0.0064456466753389985), (2627, 0.0), (2628, 0.018073752815796606), (2629, 0.014850628760770352), (2630, 0.0), (2631, 0.0), (2632, 0.02618826153375431), (2633, 0.015552987190074363), (2634, 0.005813376758334478), (2635, 0.0), (2636, 0.010112602411343555), (2637, 0.04037746059265797), (2638, 0.01661515665487261), (2639, 0.0), (2640, 0.029099117169738738), (2641, 0.008179758887739239), (2642, 0.027333776498050737), (2643, 0.0), (2644, 0.02870658544658294), (2645, 0.007758903766502861), (2646, 0.05771733283694163), (2647, 0.014147127973323575), (2648, 0.0), (2649, 0.0), (2650, 0.0), (2651, 0.01335691424709004), (2652, 0.0), (2653, 0.013934331115031314), (2654, 0.011985336624389156), (2655, 0.0), (2656, 0.0), (2657, 0.00824354636209539), (2658, 0.0), (2659, 0.008236410975335555), (2660, 0.0172260245686268), (2661, 0.0), (2662, 0.0), (2663, 0.011000187098635955), (2664, 0.0), (2665, 0.012287145585083885), (2666, 0.013347205720279578), (2667, 0.008377685968614058), (2668, 0.04651685919319775), (2669, 0.0), (2670, 0.006884821216037999), (2671, 0.008585512130020016), (2672, 0.015837597499533854), (2673, 0.0), (2674, 0.005765954005460975), (2675, 0.0), (2676, 0.006913529849635236), (2677, 0.0), (2678, 0.0), (2679, 0.0), (2680, 0.019430078976875577), (2681, 0.0), (2682, 0.03493991478088965), (2683, 0.0), (2684, 0.019472904485781362), (2685, 0.0), (2686, 0.010119090936144933), (2687, 0.024414865744898484), (2688, 0.03274010728866684), (2689, 0.020342474075474182), (2690, 0.0), (2691, 0.029594098052298838), (2692, 0.012859412564061545), (2693, 0.020036516089820374), (2694, 0.017387823228076013), (2695, 0.0), (2696, 0.015751613546434073), (2697, 0.035203797572022716), (2698, 0.014371016609728423), (2699, 0.0), (2700, 0.0), (2701, 0.0), (2702, 0.0), (2703, 0.02575343125687193), (2704, 0.017821123471618128), (2705, 0.0), (2706, 0.02081030516379336), (2707, 0.016538121660553576), (2708, 0.015340198160180745), (2709, 0.0), (2710, 0.006687665933625928), (2711, 0.005679041368052247), (2712, 0.042773165848207166), (2713, 0.04223007395409814), (2714, 0.00639560949665895), (2715, 0.028445498550448957), (2716, 0.0), (2717, 0.0), (2718, 0.005513361823807368), (2719, 0.0), (2720, 0.006818657114671635), (2721, 0.0), (2722, 0.0), (2723, 0.0), (2724, 0.0), (2725, 0.008376831355669545), (2726, 0.015009801450742394), (2727, 0.0), (2728, 0.0), (2729, 0.014497967104628674), (2730, 0.03264553190298777), (2731, 0.0), (2732, 0.015015843976312913), (2733, 0.0), (2734, 0.026726360128221854), (2735, 0.0), (2736, 0.019305673051821994), (2737, 0.0), (2738, 0.0), (2739, 0.0), (2740, 0.04467016715303063), (2741, 0.007474355499293885), (2742, 0.018988503758097693), (2743, 0.0), (2744, 0.015058237837813706), (2745, 0.0), (2746, 0.0), (2747, 0.0), (2748, 0.0), (2749, 0.025066733585094973), (2750, 0.0), (2751, 0.03005814577221469), (2752, 0.01380289940892997), (2753, 0.011788826317469659), (2754, 0.00674060828652088), (2755, 0.008875782727657081), (2756, 0.0), (2757, 0.0), (2758, 0.0), (2759, 0.027760480524803118), (2760, 0.0), (2761, 0.011906052170432651), (2762, 0.0), (2763, 0.00792260168469007), (2764, 0.0), (2765, 0.01536802815812309), (2766, 0.06989273845908053), (2767, 0.01539446805482117), (2768, 0.00827399531444524), (2769, 0.01696505919610531), (2770, 0.0), (2771, 0.012673755809090583), (2772, 0.023125066065046197), (2773, 0.0), (2774, 0.033922715474089836), (2775, 0.0), (2776, 0.011883182825981624), (2777, 0.02001777250581528), (2778, 0.00730446319307405), (2779, 0.013138377206726316), (2780, 0.03876641167826968), (2781, 0.016211784870514962), (2782, 0.0), (2783, 0.0), (2784, 0.0), (2785, 0.0), (2786, 0.0), (2787, 0.00589738278651176), (2788, 0.006120849290342493), (2789, 0.012377314450441955), (2790, 0.02843531710757472), (2791, 0.005755532624187237), (2792, 0.0), (2793, 0.0), (2794, 0.0), (2795, 0.007765213833994033), (2796, 0.0), (2797, 0.0), (2798, 0.015393134069720368), (2799, 0.0), (2800, 0.0), (2801, 0.00982139707748854), (2802, 0.013274259460295122), (2803, 0.026602489043371993), (2804, 0.013836836355770005), (2805, 0.0), (2806, 0.009213546548163637), (2807, 0.0), (2808, 0.014489714471589707), (2809, 0.011676623882803999), (2810, 0.006913446802123182), (2811, 0.0064339611694783656), (2812, 0.01474477884059219), (2813, 0.011282714634090873), (2814, 0.0), (2815, 0.06339489223629349), (2816, 0.015349818698542659), (2817, 0.01186061905035264), (2818, 0.0), (2819, 0.006470265677079369), (2820, 0.01816087792943062), (2821, 0.0), (2822, 0.01227548375004241), (2823, 0.0), (2824, 0.0), (2825, 0.0058821559972186644), (2826, 0.024802850180042198), (2827, 0.0), (2828, 0.0), (2829, 0.010646186868567924), (2830, 0.031012524146194667), (2831, 0.02834843329000515), (2832, 0.0), (2833, 0.0), (2834, 0.024749885146572163), (2835, 0.0), (2836, 0.0), (2837, 0.0), (2838, 0.0), (2839, 0.0), (2840, 0.006682587694409901), (2841, 0.019389067700543924), (2842, 0.011580847406808292), (2843, 0.06958759964840433), (2844, 0.05325076059808119), (2845, 0.01011924215602099), (2846, 0.0), (2847, 0.013744211803295544), (2848, 0.0), (2849, 0.0), (2850, 0.1016490123014844), (2851, 0.0), (2852, 0.012547396021447315), (2853, 0.01348032805444905), (2854, 0.02202308489750712), (2855, 0.0), (2856, 0.0), (2857, 0.0), (2858, 0.0), (2859, 0.10477291679417945), (2860, 0.015180591733410746), (2861, 0.0), (2862, 0.00566464144821702), (2863, 0.0), (2864, 0.007462321562721649), (2865, 0.0), (2866, 0.0), (2867, 0.018321187635523206), (2868, 0.02745825520706534), (2869, 0.0), (2870, 0.0), (2871, 0.0), (2872, 0.0), (2873, 0.030951205492871895), (2874, 0.013364302176279775), (2875, 0.017340998827404953), (2876, 0.0), (2877, 0.0), (2878, 0.016434262038173438), (2879, 0.0), (2880, 0.00650121903456247), (2881, 0.0068906506207588505), (2882, 0.0), (2883, 0.0), (2884, 0.0), (2885, 0.005924558043028233), (2886, 0.0), (2887, 0.008132764063855635), (2888, 0.015856597391200038), (2889, 0.0), (2890, 0.0), (2891, 0.0), (2892, 0.0), (2893, 0.0), (2894, 0.0), (2895, 0.03268854135525825), (2896, 0.01622583212556696), (2897, 0.0), (2898, 0.01548473367861948), (2899, 0.005618801387054057), (2900, 0.0), (2901, 0.0), (2902, 0.048664082335154506), (2903, 0.0), (2904, 0.0161776464140174), (2905, 0.0), (2906, 0.0), (2907, 0.0), (2908, 0.025547116103827285), (2909, 0.0), (2910, 0.006229118749860303), (2911, 0.014344614790204076), (2912, 0.011062674213437103), (2913, 0.005223685425420327), (2914, 0.0), (2915, 0.016374141720444456), (2916, 0.0), (2917, 0.023588393392393252), (2918, 0.019817876416434767), (2919, 0.0), (2920, 0.02002321336045625), (2921, 0.0), (2922, 0.007951050403530514), (2923, 0.0), (2924, 0.0), (2925, 0.0), (2926, 0.0), (2927, 0.009622094663082018), (2928, 0.0), (2929, 0.01321360437957332), (2930, 0.0), (2931, 0.013350609057957364), (2932, 0.0), (2933, 0.012942745301899237), (2934, 0.0), (2935, 0.030148963313859956), (2936, 0.01685668302770921), (2937, 0.019979084210682577), (2938, 0.0), (2939, 0.0), (2940, 0.09953932341276177), (2941, 0.0), (2942, 0.022814871274297988), (2943, 0.006717729734904664), (2944, 0.036132174783433876), (2945, 0.0), (2946, 0.0), (2947, 0.006705856735227789), (2948, 0.0), (2949, 0.0), (2950, 0.014061605835697981), (2951, 0.0), (2952, 0.0), (2953, 0.0), (2954, 0.0), (2955, 0.015149380137701155), (2956, 0.0), (2957, 0.017030172172111935), (2958, 0.0), (2959, 0.006361681587639028), (2960, 0.0088060574020403), (2961, 0.0), (2962, 0.016135353314685234), (2963, 0.006353727676312378), (2964, 0.01546012000953663), (2965, 0.0), (2966, 0.0), (2967, 0.0), (2968, 0.0), (2969, 0.030240127336282754), (2970, 0.0), (2971, 0.00565520952890151), (2972, 0.0), (2973, 0.0), (2974, 0.0), (2975, 0.012921396315862761), (2976, 0.0), (2977, 0.014958306280572872), (2978, 0.0), (2979, 0.0), (2980, 0.02778809819725546), (2981, 0.036879993665110744), (2982, 0.015182581564401132), (2983, 0.0), (2984, 0.0), (2985, 0.012359800787377173), (2986, 0.0), (2987, 0.0), (2988, 0.015362768985951758), (2989, 0.0), (2990, 0.026334912009942403), (2991, 0.0), (2992, 0.019529129394408453), (2993, 0.0), (2994, 0.0), (2995, 0.012942908732324378), (2996, 0.011743830576229243), (2997, 0.0), (2998, 0.02025248644493182), (2999, 0.0), (3000, 0.02756525516990803), (3001, 0.0), (3002, 0.0), (3003, 0.0), (3004, 0.0), (3005, 0.0), (3006, 0.0), (3007, 0.0), (3008, 0.032226612086451556), (3009, 0.0), (3010, 0.010805007388018617), (3011, 0.0), (3012, 0.0), (3013, 0.014564770231324235), (3014, 0.010729177660333019), (3015, 0.0), (3016, 0.0), (3017, 0.0), (3018, 0.0), (3019, 0.0), (3020, 0.0), (3021, 0.0), (3022, 0.006899131718696215), (3023, 0.014099752578125815), (3024, 0.016864569812548687), (3025, 0.0), (3026, 0.0), (3027, 0.030491309307895082), (3028, 0.0), (3029, 0.0), (3030, 0.0), (3031, 0.01606271833224685), (3032, 0.0), (3033, 0.014708314955884136), (3034, 0.0), (3035, 0.0), (3036, 0.0), (3037, 0.0), (3038, 0.0), (3039, 0.016543731873092073), (3040, 0.0), (3041, 0.0), (3042, 0.0), (3043, 0.01477133966562208), (3044, 0.022046886127708422), (3045, 0.01425097341162665), (3046, 0.027022483805685334), (3047, 0.013165902779424685), (3048, 0.0), (3049, 0.016847479679996277), (3050, 0.0), (3051, 0.0), (3052, 0.0), (3053, 0.0), (3054, 0.0), (3055, 0.0), (3056, 0.0), (3057, 0.01268381370271983), (3058, 0.008149476528923198), (3059, 0.0068748170354423245), (3060, 0.0), (3061, 0.013916305031173247), (3062, 0.016416632850133256), (3063, 0.0), (3064, 0.007018949608371457), (3065, 0.025641170604690237), (3066, 0.04723523960302165), (3067, 0.028102308036660896), (3068, 0.0), (3069, 0.06435325078216346), (3070, 0.005523285855528545), (3071, 0.0), (3072, 0.0), (3073, 0.0), (3074, 0.0), (3075, 0.0), (3076, 0.0), (3077, 0.013290571841212313), (3078, 0.016991328716151735), (3079, 0.0), (3080, 0.0), (3081, 0.0), (3082, 0.0), (3083, 0.05794777354700387), (3084, 0.0), (3085, 0.01971234022436977), (3086, 0.0), (3087, 0.0), (3088, 0.0), (3089, 0.0), (3090, 0.03223514339370723), (3091, 0.058562309574426236), (3092, 0.0), (3093, 0.0), (3094, 0.016927075440023295), (3095, 0.015439211581725754), (3096, 0.034705008457954246), (3097, 0.033911068548893135), (3098, 0.032160155444561064), (3099, 0.012892309857794645), (3100, 0.029244829521819296), (3101, 0.0), (3102, 0.0), (3103, 0.0), (3104, 0.013843467529335025), (3105, 0.050203282565927376), (3106, 0.0), (3107, 0.0), (3108, 0.027193894240970767), (3109, 0.0), (3110, 0.0), (3111, 0.04726818855241296), (3112, 0.006519232817955565), (3113, 0.011761797359501995), (3114, 0.02704436612912898), (3115, 0.00872441641511571), (3116, 0.01568402455592913), (3117, 0.012483493539865368), (3118, 0.0), (3119, 0.0), (3120, 0.010288228965552752), (3121, 0.018667328276458377), (3122, 0.0), (3123, 0.0), (3124, 0.014392987290822508), (3125, 0.0), (3126, 0.005925432851147818), (3127, 0.0), (3128, 0.0), (3129, 0.024273533282613204), (3130, 0.07048631112629605), (3131, 0.006105288145988031), (3132, 0.1203989442422248), (3133, 0.10469436221332948), (3134, 0.11636916240075505), (3135, 0.013075806422883706), (3136, 0.02691252043916824), (3137, 0.0), (3138, 0.0), (3139, 0.0), (3140, 0.034691197603693005), (3141, 0.007818312899885183), (3142, 0.0), (3143, 0.005479684918534007), (3144, 0.011562635114519172), (3145, 0.0), (3146, 0.0), (3147, 0.044535960261516856), (3148, 0.0), (3149, 0.013445620375090145), (3150, 0.0), (3151, 0.02760008677283289), (3152, 0.027740953732472547), (3153, 0.0), (3154, 0.0), (3155, 0.0), (3156, 0.014423105668441348), (3157, 0.016646897735314994), (3158, 0.0), (3159, 0.0), (3160, 0.0), (3161, 0.05241172804635759), (3162, 0.0), (3163, 0.08771871655704805), (3164, 0.012346281817805355), (3165, 0.007118339660492347), (3166, 0.0), (3167, 0.0), (3168, 0.007257654441966652), (3169, 0.00609220294577476), (3170, 0.0), (3171, 0.0), (3172, 0.016542157761948142), (3173, 0.0), (3174, 0.03214673785213871), (3175, 0.025862239550418734), (3176, 0.0), (3177, 0.012743011604916638), (3178, 0.0), (3179, 0.0), (3180, 0.0), (3181, 0.03535676789100158), (3182, 0.0), (3183, 0.014683386799288914), (3184, 0.013933862830372108), (3185, 0.008658626266252648), (3186, 0.05480204931008572), (3187, 0.0), (3188, 0.0), (3189, 0.014286317149565252), (3190, 0.05444629860515571), (3191, 0.006574281215071673), (3192, 0.0), (3193, 0.005501023366817609), (3194, 0.0), (3195, 0.011003388762755051), (3196, 0.0), (3197, 0.0), (3198, 0.0), (3199, 0.0), (3200, 0.0), (3201, 0.02057738201266538), (3202, 0.05843483703445239), (3203, 0.0), (3204, 0.0), (3205, 0.0228841584699795), (3206, 0.03314703005731922), (3207, 0.014626665032737343), (3208, 0.008538098142317846), (3209, 0.029080812138564935), (3210, 0.00639686790606324), (3211, 0.0), (3212, 0.0), (3213, 0.005039172877393779), (3214, 0.0), (3215, 0.04146471087523533), (3216, 0.0), (3217, 0.0), (3218, 0.015905866363292744), (3219, 0.0), (3220, 0.0), (3221, 0.022462756649478853), (3222, 0.012458874302031025), (3223, 0.009417837580734634), (3224, 0.011683878986976643), (3225, 0.020831737861234663), (3226, 0.026961953527351767), (3227, 0.006268999112549243), (3228, 0.035911947055084784), (3229, 0.011807389080895774), (3230, 0.0), (3231, 0.0173775454736718), (3232, 0.013319165593710918), (3233, 0.0), (3234, 0.0), (3235, 0.0315509356760274), (3236, 0.014125201528086622), (3237, 0.02778155047428401), (3238, 0.01864199313501797), (3239, 0.0), (3240, 0.02670582221305102), (3241, 0.006221282389278528), (3242, 0.013954601679183271), (3243, 0.0), (3244, 0.023675971667553038), (3245, 0.0), (3246, 0.03967334071062183), (3247, 0.005446644079491547), (3248, 0.0), (3249, 0.0), (3250, 0.0), (3251, 0.0), (3252, 0.047100935456440764), (3253, 0.039641107581871296), (3254, 0.012246658615454117), (3255, 0.0), (3256, 0.030759409418659376), (3257, 0.0), (3258, 0.0), (3259, 0.006378726776731803), (3260, 0.0), (3261, 0.0), (3262, 0.0), (3263, 0.007000156697501576), (3264, 0.03735512210814804), (3265, 0.014871411685089004), (3266, 0.0), (3267, 0.005580564761320894), (3268, 0.0), (3269, 0.0), (3270, 0.017200202845395203), (3271, 0.0), (3272, 0.023422486743608), (3273, 0.01538351950234183), (3274, 0.0), (3275, 0.007412988653804261), (3276, 0.020413580806941067), (3277, 0.0), (3278, 0.0), (3279, 0.0), (3280, 0.0), (3281, 0.0), (3282, 0.0), (3283, 0.0), (3284, 0.03719413634423645), (3285, 0.0), (3286, 0.03793108244016552), (3287, 0.0), (3288, 0.014657744548413914), (3289, 0.0), (3290, 0.0), (3291, 0.0), (3292, 0.0), (3293, 0.01345765003561551), (3294, 0.013929670694934398), (3295, 0.0), (3296, 0.0), (3297, 0.0060725744051961334), (3298, 0.0), (3299, 0.044653572839321407), (3300, 0.0), (3301, 0.0), (3302, 0.013295524055724907), (3303, 0.014400775409480088), (3304, 0.030741255021829714), (3305, 0.0), (3306, 0.005503876812942219), (3307, 0.0), (3308, 0.015643031472786156), (3309, 0.04608829445777238), (3310, 0.006419317947213375), (3311, 0.01596864622890699), (3312, 0.006773276450182107), (3313, 0.0), (3314, 0.014146708360006923), (3315, 0.04075661549280055), (3316, 0.011518662009390593), (3317, 0.0), (3318, 0.0), (3319, 0.0), (3320, 0.021364658823444797), (3321, 0.0), (3322, 0.0), (3323, 0.03203264031602324), (3324, 0.0), (3325, 0.0), (3326, 0.0), (3327, 0.007220878598839213), (3328, 0.009227801585332145), (3329, 0.0235268835772003), (3330, 0.01419544462057263), (3331, 0.0), (3332, 0.006147384312287039), (3333, 0.0), (3334, 0.0), (3335, 0.026747614443613274), (3336, 0.005327522790704206), (3337, 0.0), (3338, 0.010633616802019547), (3339, 0.005202222016578229), (3340, 0.0), (3341, 0.0), (3342, 0.059899415703352235), (3343, 0.005863550840371348), (3344, 0.012377094010641755), (3345, 0.0), (3346, 0.03693554300908734), (3347, 0.0), (3348, 0.0), (3349, 0.0), (3350, 0.0), (3351, 0.01377771173890408), (3352, 0.0), (3353, 0.016757335415574868), (3354, 0.0), (3355, 0.0), (3356, 0.0), (3357, 0.0), (3358, 0.0), (3359, 0.0), (3360, 0.040197465471811515), (3361, 0.013086747230259679), (3362, 0.049965489854582226), (3363, 0.0), (3364, 0.0), (3365, 0.004338507166978959), (3366, 0.07038244322113825), (3367, 0.013745408965340485), (3368, 0.031981398563383716), (3369, 0.024985917608134206), (3370, 0.01050287012308499), (3371, 0.0), (3372, 0.0), (3373, 0.040213557987333594), (3374, 0.006374063354172074), (3375, 0.0), (3376, 0.056993868196487454), (3377, 0.0094091818908589), (3378, 0.0), (3379, 0.0), (3380, 0.0), (3381, 0.0), (3382, 0.0), (3383, 0.007094987095660907), (3384, 0.023748529206650666), (3385, 0.030857184481715722), (3386, 0.015283463471856369), (3387, 0.024749061163971374), (3388, 0.0), (3389, 0.026411038945109537), (3390, 0.0), (3391, 0.0), (3392, 0.014019890579823998), (3393, 0.011889166332336673), (3394, 0.007028055915358357), (3395, 0.04842442892943925), (3396, 0.0), (3397, 0.007897557348627153), (3398, 0.0), (3399, 0.013972507864041046), (3400, 0.0), (3401, 0.0), (3402, 0.0), (3403, 0.08070147252396198), (3404, 0.043014264914905724), (3405, 0.0769997819236157), (3406, 0.0), (3407, 0.014170318503605308), (3408, 0.014724559688279381), (3409, 0.0127471932838204), (3410, 0.03576162999480588), (3411, 0.01016496552791495), (3412, 0.010627503455580622), (3413, 0.0), (3414, 0.0), (3415, 0.0), (3416, 0.02062150011756307), (3417, 0.029603452806375618), (3418, 0.0), (3419, 0.03200298664030331), (3420, 0.037711100901149264), (3421, 0.0), (3422, 0.0), (3423, 0.017221984048944754), (3424, 0.021888361550047655), (3425, 0.0), (3426, 0.021755718718160004), (3427, 0.014133127726482293), (3428, 0.0), (3429, 0.004343904047728098), (3430, 0.011817799418135908), (3431, 0.0), (3432, 0.00623197423762267), (3433, 0.0), (3434, 0.014626071044473362), (3435, 0.0), (3436, 0.0), (3437, 0.0), (3438, 0.006458335753931826), (3439, 0.010917697031841863), (3440, 0.0068215625637665644), (3441, 0.006003339649324584), (3442, 0.0), (3443, 0.020486307338253986), (3444, 0.00879062199978038), (3445, 0.006052253868352994), (3446, 0.0), (3447, 0.02438902442712039), (3448, 0.01759516445724739), (3449, 0.01410689335926111), (3450, 0.037435963799345495), (3451, 0.0063411259619748864), (3452, 0.011078871686138247), (3453, 0.006900618163661769), (3454, 0.007803040233158232), (3455, 0.0), (3456, 0.04839968604813092), (3457, 0.015378508907719758), (3458, 0.0210366465086032), (3459, 0.0), (3460, 0.0), (3461, 0.008608801336671428), (3462, 0.0), (3463, 0.046465634542026235), (3464, 0.006180650828078877), (3465, 0.005697612236573031), (3466, 0.005609008422497618), (3467, 0.03673696263439401), (3468, 0.006690885427407123), (3469, 0.09446407662726819), (3470, 0.0), (3471, 0.0), (3472, 0.00789483619896509), (3473, 0.016052861647879228), (3474, 0.012643859936022466), (3475, 0.0), (3476, 0.0), (3477, 0.0), (3478, 0.0), (3479, 0.017593875698868316), (3480, 0.0), (3481, 0.0), (3482, 0.008344561972019469), (3483, 0.031536253259415975), (3484, 0.0), (3485, 0.01217446517369815), (3486, 0.0062119334505257515), (3487, 0.010925506788985663), (3488, 0.0), (3489, 0.0), (3490, 0.0), (3491, 0.0), (3492, 0.008051013659194792), (3493, 0.0), (3494, 0.0), (3495, 0.0), (3496, 0.0), (3497, 0.018114387534411042), (3498, 0.0), (3499, 0.0), (3500, 0.013303973907027904), (3501, 0.0), (3502, 0.0), (3503, 0.04243266001181825), (3504, 0.014000947564755726), (3505, 0.0), (3506, 0.0), (3507, 0.006234250555791684), (3508, 0.029286032901235107), (3509, 0.03494670144515584), (3510, 0.0), (3511, 0.01416882905155647), (3512, 0.0), (3513, 0.006158774795687674), (3514, 0.0062321762252843475), (3515, 0.01572845590051999), (3516, 0.006191376475375675), (3517, 0.013456043273010632), (3518, 0.043768545931598665), (3519, 0.0), (3520, 0.025142345379205084), (3521, 0.0), (3522, 0.02092021139455764), (3523, 0.0), (3524, 0.016827565157715774), (3525, 0.005470511795430769), (3526, 0.0), (3527, 0.0), (3528, 0.0), (3529, 0.01193810760051821), (3530, 0.0), (3531, 0.005925670291538975), (3532, 0.01570899040293847), (3533, 0.0), (3534, 0.0), (3535, 0.0), (3536, 0.04447315238257782), (3537, 0.0), (3538, 0.01113137360416759), (3539, 0.0), (3540, 0.0), (3541, 0.04282992619879178), (3542, 0.0), (3543, 0.0), (3544, 0.0), (3545, 0.0), (3546, 0.006100445722353904), (3547, 0.0), (3548, 0.0), (3549, 0.0), (3550, 0.01892975424433331), (3551, 0.0), (3552, 0.0), (3553, 0.015110716935251973), (3554, 0.030490389054853212), (3555, 0.005943812091990103), (3556, 0.01764272358461098), (3557, 0.0), (3558, 0.028290937785598713), (3559, 0.012560596709010696), (3560, 0.01606341404576208), (3561, 0.0), (3562, 0.01956700249168192), (3563, 0.0), (3564, 0.0), (3565, 0.0), (3566, 0.04248916801989608), (3567, 0.0), (3568, 0.027465117724933097), (3569, 0.014263246475824956), (3570, 0.0), (3571, 0.0), (3572, 0.0), (3573, 0.0), (3574, 0.012580136023653205), (3575, 0.0), (3576, 0.0), (3577, 0.0), (3578, 0.010100374491331636), (3579, 0.05421486020972771), (3580, 0.0), (3581, 0.0), (3582, 0.02733699368986682), (3583, 0.0), (3584, 0.014890596621154445), (3585, 0.011365352602151239), (3586, 0.015088372461813878), (3587, 0.008768722120087998), (3588, 0.00716660895374616), (3589, 0.02305375603473421), (3590, 0.0), (3591, 0.006291822576591244), (3592, 0.0), (3593, 0.006530010357941584), (3594, 0.01488870367556001), (3595, 0.005804567976583265), (3596, 0.015364676112856102), (3597, 0.10751655471836212), (3598, 0.05972156916857479), (3599, 0.03179773788122034), (3600, 0.018537463190519944), (3601, 0.0), (3602, 0.020410205979452273), (3603, 0.006231527525991578), (3604, 0.13683397060577263), (3605, 0.005867631848043539), (3606, 0.0), (3607, 0.013605480752899418), (3608, 0.0), (3609, 0.0), (3610, 0.0), (3611, 0.0), (3612, 0.02905236431428982), (3613, 0.0), (3614, 0.012476820775939085), (3615, 0.026918192691050044), (3616, 0.0), (3617, 0.0), (3618, 0.0), (3619, 0.0), (3620, 0.0), (3621, 0.0), (3622, 0.0), (3623, 0.05656222956235945), (3624, 0.0), (3625, 0.0), (3626, 0.0), (3627, 0.0), (3628, 0.00890546916627811), (3629, 0.013742273806137649), (3630, 0.12423733247622742), (3631, 0.0), (3632, 0.01485956952204016), (3633, 0.0), (3634, 0.04894698138384653), (3635, 0.00801832102107296), (3636, 0.0), (3637, 0.01542482310784535), (3638, 0.009754609914759418), (3639, 0.0), (3640, 0.0), (3641, 0.007989067453126115), (3642, 0.00624075180954155), (3643, 0.04975816734212843), (3644, 0.014121518754643425), (3645, 0.004996845039261343), (3646, 0.09159614471551969), (3647, 0.0), (3648, 0.031645549222806435), (3649, 0.0), (3650, 0.0), (3651, 0.012674955101959389), (3652, 0.0), (3653, 0.0), (3654, 0.013981038029980162), (3655, 0.0925336125014905), (3656, 0.013276310841531743), (3657, 0.012351756356649882), (3658, 0.03440960726562491), (3659, 0.014347075006770816), (3660, 0.0057224437069690395), (3661, 0.016893934619378458), (3662, 0.0), (3663, 0.0), (3664, 0.0), (3665, 0.010925827701095377), (3666, 0.0), (3667, 0.021562371717985904), (3668, 0.02681460831174763), (3669, 0.0), (3670, 0.0), (3671, 0.0), (3672, 0.0), (3673, 0.0), (3674, 0.009633675760680515), (3675, 0.0), (3676, 0.006492671761890295), (3677, 0.0), (3678, 0.01171995849608263), (3679, 0.0), (3680, 0.022557975192162974), (3681, 0.014747481184731272), (3682, 0.0), (3683, 0.0), (3684, 0.005147235284288453), (3685, 0.007960118943717637), (3686, 0.0), (3687, 0.0), (3688, 0.0), (3689, 0.0417907431553787), (3690, 0.051788116845102455), (3691, 0.0), (3692, 0.06375613770424925), (3693, 0.005384971717731629), (3694, 0.0429104405727271), (3695, 0.09585803219911625), (3696, 0.0), (3697, 0.030259612829987497), (3698, 0.01748013498437588), (3699, 0.0), (3700, 0.01387337589135076), (3701, 0.04343559853987009), (3702, 0.0), (3703, 0.00887076894727756), (3704, 0.0), (3705, 0.010303462483320107), (3706, 0.030705232212975827), (3707, 0.0), (3708, 0.007075475221823141), (3709, 0.018979786085216933), (3710, 0.006349570720729593), (3711, 0.01275474670057043), (3712, 0.0), (3713, 0.012394857863745763), (3714, 0.015041020239288064), (3715, 0.008053246646541128), (3716, 0.010152918671064912), (3717, 0.0), (3718, 0.007488529896736225), (3719, 0.0), (3720, 0.005908413413836186), (3721, 0.017867120273916737), (3722, 0.0), (3723, 0.040403958937909455), (3724, 0.0063359752153068615), (3725, 0.0), (3726, 0.007644189765939382), (3727, 0.0), (3728, 0.01518652306491), (3729, 0.0), (3730, 0.0), (3731, 0.021974439941384066), (3732, 0.027944169161488838), (3733, 0.014997331436898206), (3734, 0.018848139765232825), (3735, 0.00841015916603417), (3736, 0.0), (3737, 0.0), (3738, 0.0054894827499978455), (3739, 0.0), (3740, 0.016210493172796284), (3741, 0.0232331860846253), (3742, 0.018346882454587366), (3743, 0.014092303684852762), (3744, 0.017062062334298002), (3745, 0.0), (3746, 0.01102499873688768), (3747, 0.04443063448445467), (3748, 0.013051534877198444), (3749, 0.0), (3750, 0.0), (3751, 0.023281112469584732), (3752, 0.023323529227539427), (3753, 0.0), (3754, 0.028076718315965588), (3755, 0.0), (3756, 0.0), (3757, 0.0), (3758, 0.01598486387203538), (3759, 0.0), (3760, 0.0), (3761, 0.0), (3762, 0.0), (3763, 0.0), (3764, 0.0), (3765, 0.0), (3766, 0.01681808888763322), (3767, 0.02534251056781238), (3768, 0.0), (3769, 0.0), (3770, 0.01481927612609468), (3771, 0.006375728599461866), (3772, 0.0), (3773, 0.013642831430344619), (3774, 0.0), (3775, 0.0), (3776, 0.005261642078942845), (3777, 0.0), (3778, 0.0), (3779, 0.0), (3780, 0.014626234313235), (3781, 0.014441489792047095), (3782, 0.027952851201363073), (3783, 0.048017970145329374), (3784, 0.014479755320395669), (3785, 0.0072940206669525895), (3786, 0.073491336076314), (3787, 0.015188205204079016), (3788, 0.0), (3789, 0.0), (3790, 0.014076633606217621), (3791, 0.0), (3792, 0.0), (3793, 0.0), (3794, 0.016320520368350716), (3795, 0.01332028119844891), (3796, 0.0), (3797, 0.016258921285243307), (3798, 0.006339851584741659), (3799, 0.0), (3800, 0.0), (3801, 0.04135572381100802), (3802, 0.01899843091782563), (3803, 0.024972421702294648), (3804, 0.0), (3805, 0.008219299288943238), (3806, 0.0), (3807, 0.006066562811685363), (3808, 0.0), (3809, 0.0), (3810, 0.0), (3811, 0.0403953551241872), (3812, 0.0), (3813, 0.014671113834770157), (3814, 0.006079603787927015), (3815, 0.0), (3816, 0.0), (3817, 0.021352519710814234), (3818, 0.0), (3819, 0.0), (3820, 0.0), (3821, 0.012488589747321605), (3822, 0.015731640478103236), (3823, 0.0), (3824, 0.0), (3825, 0.013621573380718687), (3826, 0.03513295588903692), (3827, 0.0), (3828, 0.0), (3829, 0.049130741275697554), (3830, 0.0), (3831, 0.0), (3832, 0.0), (3833, 0.0), (3834, 0.032978319446321964), (3835, 0.009659445151197406), (3836, 0.0), (3837, 0.0), (3838, 0.0), (3839, 0.01338369588911192), (3840, 0.020570506378469168), (3841, 0.0), (3842, 0.0), (3843, 0.0), (3844, 0.0), (3845, 0.014374584345800108), (3846, 0.006685015654876537), (3847, 0.0), (3848, 0.0), (3849, 0.014567430709241946), (3850, 0.047433836355534255), (3851, 0.0), (3852, 0.0), (3853, 0.012538494255235028), (3854, 0.010418773949970673), (3855, 0.0), (3856, 0.0), (3857, 0.0), (3858, 0.0), (3859, 0.0), (3860, 0.005482255976382464), (3861, 0.0), (3862, 0.006513705548178156), (3863, 0.0), (3864, 0.0272569328747443), (3865, 0.013438780638531251), (3866, 0.0), (3867, 0.014727469793656594), (3868, 0.0), (3869, 0.006819386992197524), (3870, 0.014229784470300738), (3871, 0.008233242670100734), (3872, 0.0), (3873, 0.0), (3874, 0.0), (3875, 0.047094002127587214), (3876, 0.029723452632363846), (3877, 0.008929491685139903), (3878, 0.02058062280079214), (3879, 0.07777703772156981), (3880, 0.01326249598368891), (3881, 0.0), (3882, 0.011393129085996304), (3883, 0.015324480264269047), (3884, 0.018299141240733282), (3885, 0.0), (3886, 0.0), (3887, 0.0), (3888, 0.0135877437277203), (3889, 0.0), (3890, 0.0), (3891, 0.0), (3892, 0.0), (3893, 0.0), (3894, 0.055686916287091486), (3895, 0.0), (3896, 0.0), (3897, 0.014885770459474207), (3898, 0.0), (3899, 0.0), (3900, 0.0), (3901, 0.0), (3902, 0.0), (3903, 0.016859571159524647), (3904, 0.0), (3905, 0.0), (3906, 0.0), (3907, 0.00630210475696043), (3908, 0.006219605109670321), (3909, 0.013887691299744279), (3910, 0.030122886775973325), (3911, 0.0), (3912, 0.0), (3913, 0.024887400963758605), (3914, 0.0), (3915, 0.01725726886746346), (3916, 0.023096004990337572), (3917, 0.008200966241111461), (3918, 0.0), (3919, 0.015704199906242396), (3920, 0.0), (3921, 0.0), (3922, 0.0), (3923, 0.01290291284273299), (3924, 0.01216685315162351), (3925, 0.0), (3926, 0.014630172826538178), (3927, 0.012617564136977562), (3928, 0.0), (3929, 0.0), (3930, 0.0), (3931, 0.0), (3932, 0.012469926429451016), (3933, 0.07087551048963045), (3934, 0.0), (3935, 0.0), (3936, 0.0), (3937, 0.0060706735637408756), (3938, 0.014267198880446964), (3939, 0.0), (3940, 0.02129862947452394), (3941, 0.0), (3942, 0.0), (3943, 0.02579750782253735), (3944, 0.0), (3945, 0.0), (3946, 0.016799381957976835), (3947, 0.0071141272819489456), (3948, 0.0), (3949, 0.018629233909747946), (3950, 0.01440598840319594), (3951, 0.017443724777435277), (3952, 0.0), (3953, 0.0), (3954, 0.026164435497689046), (3955, 0.005999127078707158), (3956, 0.0), (3957, 0.012600233427156687), (3958, 0.0), (3959, 0.0), (3960, 0.012436968885249677), (3961, 0.0), (3962, 0.0), (3963, 0.028280527988093867), (3964, 0.0), (3965, 0.03748392558527135), (3966, 0.011047129687282121), (3967, 0.0), (3968, 0.07746924403201229), (3969, 0.0), (3970, 0.024576564093704442), (3971, 0.0), (3972, 0.08943105722302545), (3973, 0.01531077822331846), (3974, 0.0), (3975, 0.0), (3976, 0.0), (3977, 0.015149687460868198), (3978, 0.0059851063030866795), (3979, 0.11729927305199385), (3980, 0.012322917396352641), (3981, 0.0), (3982, 0.06573231029331893), (3983, 0.03233300086406932), (3984, 0.0), (3985, 0.0), (3986, 0.0), (3987, 0.0), (3988, 0.0), (3989, 0.0), (3990, 0.036258428198014635), (3991, 0.0077392612275527), (3992, 0.0), (3993, 0.005577471693401374), (3994, 0.0), (3995, 0.0), (3996, 0.0), (3997, 0.021506486681062222), (3998, 0.020248820420217674), (3999, 0.01641647358105089), (4000, 0.0), (4001, 0.0702612020191369), (4002, 0.0), (4003, 0.014548436780483105), (4004, 0.01614845625843187), (4005, 0.006342268098396579), (4006, 0.0), (4007, 0.019446536023399904), (4008, 0.01549303476028135), (4009, 0.033798595105261266), (4010, 0.01608982333382388), (4011, 0.0), (4012, 0.005902703991401449), (4013, 0.014109481031052196), (4014, 0.0), (4015, 0.014663854665247646), (4016, 0.0), (4017, 0.017927712780830787), (4018, 0.0), (4019, 0.11237375111342826), (4020, 0.015617839011086968), (4021, 0.0), (4022, 0.0), (4023, 0.01633233093287659), (4024, 0.0), (4025, 0.015095695452622342), (4026, 0.0), (4027, 0.0), (4028, 0.0), (4029, 0.0), (4030, 0.0), (4031, 0.008976096928602705), (4032, 0.01690464989943321), (4033, 0.020359997500883204), (4034, 0.00895564090436613), (4035, 0.014247761777406715), (4036, 0.00799888165430027), (4037, 0.005916217655763472), (4038, 0.006341354688535587), (4039, 0.005826814604912771), (4040, 0.0), (4041, 0.03575188223455693), (4042, 0.0), (4043, 0.0), (4044, 0.005843942851550496), (4045, 0.006243938483242227), (4046, 0.006434669478201725), (4047, 0.0), (4048, 0.0), (4049, 0.0), (4050, 0.0), (4051, 0.0), (4052, 0.015673201546192346), (4053, 0.047685384442891554), (4054, 0.027842134046773298), (4055, 0.02595229618538857), (4056, 0.014582000578814253), (4057, 0.013409433017835771), (4058, 0.016990725338463124), (4059, 0.0), (4060, 0.015362547612483148), (4061, 0.07307608573688733), (4062, 0.032876274635986205), (4063, 0.0), (4064, 0.0), (4065, 0.0), (4066, 0.0), (4067, 0.0), (4068, 0.005980903029969452), (4069, 0.0), (4070, 0.12097988908609766), (4071, 0.029071425698402667), (4072, 0.0), (4073, 0.0), (4074, 0.009963489341590363), (4075, 0.10481826582045634), (4076, 0.020343609874985822), (4077, 0.031214914648029515), (4078, 0.014457039005180285), (4079, 0.012081493667716405), (4080, 0.0), (4081, 0.0), (4082, 0.0), (4083, 0.0), (4084, 0.0), (4085, 0.0), (4086, 0.00922349576454042), (4087, 0.0), (4088, 0.0), (4089, 0.0), (4090, 0.0), (4091, 0.014862974915258053), (4092, 0.0), (4093, 0.03851082162329131), (4094, 0.006377097549201475), (4095, 0.016556667620535922), (4096, 0.0), (4097, 0.0), (4098, 0.021975378507124284), (4099, 0.028413799364986867), (4100, 0.006272790420278575), (4101, 0.01487183209742938), (4102, 0.0), (4103, 0.014207168290358384), (4104, 0.0), (4105, 0.0), (4106, 0.013642823511185129), (4107, 0.0), (4108, 0.0), (4109, 0.010083472684289458), (4110, 0.014013034338372534), (4111, 0.0), (4112, 0.013940554966757054), (4113, 0.0), (4114, 0.00517967733279767), (4115, 0.0), (4116, 0.006583105108377958), (4117, 0.013279278358640787), (4118, 0.009088067726907914), (4119, 0.006477947067760003), (4120, 0.0), (4121, 0.006775848997674813), (4122, 0.021762800675407742), (4123, 0.0), (4124, 0.0), (4125, 0.0167303022673099), (4126, 0.0), (4127, 0.0), (4128, 0.01504027448594869), (4129, 0.0), (4130, 0.009005594325026811), (4131, 0.006844757246388108), (4132, 0.03659500047992469), (4133, 0.0), (4134, 0.021040465227283853), (4135, 0.0), (4136, 0.014251131054579817), (4137, 0.0), (4138, 0.0), (4139, 0.02633038307253589), (4140, 0.0), (4141, 0.026731168729831972), (4142, 0.037982115289625834), (4143, 0.010180575500774842), (4144, 0.01987447440616409), (4145, 0.0), (4146, 0.0), (4147, 0.013429007064036855), (4148, 0.005897518544309137), (4149, 0.0), (4150, 0.0), (4151, 0.0), (4152, 0.007766246544564418), (4153, 0.02529366555219268), (4154, 0.0), (4155, 0.010487777695759377), (4156, 0.038043425651472486), (4157, 0.0523603895511799), (4158, 0.012666596610738257), (4159, 0.01311692045026463), (4160, 0.00912224060292485), (4161, 0.0), (4162, 0.0), (4163, 0.0), (4164, 0.012782455734159806), (4165, 0.018769702412259226), (4166, 0.0), (4167, 0.0), (4168, 0.008345943420000041), (4169, 0.028627171915755922), (4170, 0.0), (4171, 0.027460760513750442), (4172, 0.0), (4173, 0.01433565547177112), (4174, 0.019069880074901693), (4175, 0.0), (4176, 0.0), (4177, 0.012951408557040115), (4178, 0.0), (4179, 0.0), (4180, 0.0), (4181, 0.05563737410014218), (4182, 0.07632584340313443), (4183, 0.013929943729176848), (4184, 0.0), (4185, 0.0), (4186, 0.02622047170973947), (4187, 0.0), (4188, 0.014752845550124084), (4189, 0.034252725359163586), (4190, 0.0), (4191, 0.0), (4192, 0.0), (4193, 0.013284051062135899), (4194, 0.026489713834187203), (4195, 0.008091027390290483), (4196, 0.03396194162124086), (4197, 0.0), (4198, 0.0), (4199, 0.05044651902675171), (4200, 0.05366088746588684), (4201, 0.0), (4202, 0.008512357735395682), (4203, 0.016673765786889675), (4204, 0.0), (4205, 0.014035040209751373), (4206, 0.0), (4207, 0.0), (4208, 0.0), (4209, 0.016422986954509524), (4210, 0.055450706965821765), (4211, 0.014684099357460883), (4212, 0.0), (4213, 0.0), (4214, 0.0), (4215, 0.0), (4216, 0.0), (4217, 0.014157876502445979), (4218, 0.008099034101947247), (4219, 0.0), (4220, 0.026023505697611148), (4221, 0.007580849036855447), (4222, 0.0), (4223, 0.0), (4224, 0.006000617583765753), (4225, 0.0), (4226, 0.016074203040880655), (4227, 0.0), (4228, 0.0), (4229, 0.0), (4230, 0.0), (4231, 0.0), (4232, 0.011868491236789692), (4233, 0.036307278910869795), (4234, 0.0), (4235, 0.0), (4236, 0.020130004191819047), (4237, 0.0), (4238, 0.01610563675880034), (4239, 0.0), (4240, 0.017221509153092927), (4241, 0.011295153719790051), (4242, 0.013769769418723583), (4243, 0.0), (4244, 0.007097007430823377), (4245, 0.052466352154738626), (4246, 0.0), (4247, 0.0), (4248, 0.006129074865854187), (4249, 0.006474790393513819), (4250, 0.0), (4251, 0.0), (4252, 0.0), (4253, 0.013529286577727407), (4254, 0.0), (4255, 0.020930084955009073), (4256, 0.014074466077092344), (4257, 0.01385314435952488), (4258, 0.03921906904564871), (4259, 0.0), (4260, 0.0), (4261, 0.004457471692522565), (4262, 0.0), (4263, 0.0), (4264, 0.0058786261020912145), (4265, 0.0), (4266, 0.0), (4267, 0.0), (4268, 0.03695410708203631), (4269, 0.00924911155139221), (4270, 0.021038965068522947), (4271, 0.0), (4272, 0.019591431113658624), (4273, 0.0), (4274, 0.051056122687355314), (4275, 0.0), (4276, 0.006868991072715813), (4277, 0.0), (4278, 0.0), (4279, 0.0), (4280, 0.0), (4281, 0.0), (4282, 0.0), (4283, 0.01405874202236292), (4284, 0.0), (4285, 0.006979376268984562), (4286, 0.014402072893085436), (4287, 0.01370933626324764), (4288, 0.008430549014723414), (4289, 0.029843853177173314), (4290, 0.0), (4291, 0.0), (4292, 0.018399072015247056), (4293, 0.00698825604883545), (4294, 0.04611478771152291), (4295, 0.015569621043550629), (4296, 0.0), (4297, 0.0), (4298, 0.016796853659483753), (4299, 0.0), (4300, 0.0), (4301, 0.0), (4302, 0.0), (4303, 0.022511594216186568), (4304, 0.0), (4305, 0.0), (4306, 0.0), (4307, 0.014500899304977355), (4308, 0.0386250641557202), (4309, 0.0), (4310, 0.005915744532115522), (4311, 0.0), (4312, 0.0064017953036980295), (4313, 0.04498746266095972), (4314, 0.014125421834897248), (4315, 0.0), (4316, 0.01691988893797462), (4317, 0.0), (4318, 0.0), (4319, 0.013891855211903397), (4320, 0.013273575392065107), (4321, 0.0), (4322, 0.0), (4323, 0.008854849012633687), (4324, 0.014498468213292358), (4325, 0.020565228639958664), (4326, 0.0), (4327, 0.0), (4328, 0.0058023526831147065), (4329, 0.0), (4330, 0.014687011779216531), (4331, 0.0), (4332, 0.0), (4333, 0.0), (4334, 0.0), (4335, 0.0), (4336, 0.015217676947883799), (4337, 0.06533963264471988), (4338, 0.025929321243596332), (4339, 0.0), (4340, 0.0), (4341, 0.0), (4342, 0.04138520438845658), (4343, 0.03323563731269326), (4344, 0.02419843547066306), (4345, 0.0), (4346, 0.0), (4347, 0.008352441982469493), (4348, 0.0), (4349, 0.0), (4350, 0.025366914941978135), (4351, 0.02500052683314602), (4352, 0.0), (4353, 0.03580710252667748), (4354, 0.0), (4355, 0.014633088155820404), (4356, 0.0), (4357, 0.014245282962014997), (4358, 0.0), (4359, 0.0), (4360, 0.0), (4361, 0.0), (4362, 0.0), (4363, 0.0), (4364, 0.022621019523267803), (4365, 0.0), (4366, 0.031053766024844536), (4367, 0.015560557626848512), (4368, 0.015362763240464093), (4369, 0.030674710113093268), (4370, 0.0528049718047611), (4371, 0.015658638134398613), (4372, 0.0), (4373, 0.015881834397948304), (4374, 0.010525118186230822), (4375, 0.0), (4376, 0.0), (4377, 0.0), (4378, 0.011617036120610044), (4379, 0.006307077725134961), (4380, 0.0), (4381, 0.0), (4382, 0.012797811030198575), (4383, 0.0), (4384, 0.0064812380749501505), (4385, 0.012631601442321398), (4386, 0.0), (4387, 0.0), (4388, 0.014741944697682854), (4389, 0.0), (4390, 0.006289615203275001), (4391, 0.0), (4392, 0.020521968601608088), (4393, 0.0), (4394, 0.0), (4395, 0.0), (4396, 0.0), (4397, 0.0), (4398, 0.0), (4399, 0.0), (4400, 0.0), (4401, 0.1274771626048933), (4402, 0.0), (4403, 0.0), (4404, 0.0), (4405, 0.032958400667980545), (4406, 0.10065642537341175), (4407, 0.0), (4408, 0.0), (4409, 0.013147170572575577), (4410, 0.0305698690179426), (4411, 0.0), (4412, 0.0), (4413, 0.0), (4414, 0.0), (4415, 0.05512247768215883), (4416, 0.0), (4417, 0.0), (4418, 0.010296322296280908), (4419, 0.015170296336981488), (4420, 0.01161710705975197), (4421, 0.0), (4422, 0.0), (4423, 0.0), (4424, 0.0), (4425, 0.0), (4426, 0.010114724708809768), (4427, 0.0), (4428, 0.008028454388663103), (4429, 0.005464494407001984), (4430, 0.00636644080669501), (4431, 0.0), (4432, 0.005219730148540356), (4433, 0.0), (4434, 0.0), (4435, 0.0062769079927871415), (4436, 0.022224055143345255), (4437, 0.0), (4438, 0.0), (4439, 0.01387419331595775), (4440, 0.025093279047968448), (4441, 0.01040625706139891), (4442, 0.0), (4443, 0.1056667763591896), (4444, 0.025730464531104752), (4445, 0.008577222121540063), (4446, 0.0), (4447, 0.018804085006783152), (4448, 0.0), (4449, 0.0), (4450, 0.005612263226527331), (4451, 0.013226995364815846), (4452, 0.0), (4453, 0.006798713737035707), (4454, 0.008808835467531428), (4455, 0.010215153302498073), (4456, 0.006160549826951452), (4457, 0.008350092718608012), (4458, 0.0), (4459, 0.013623769320291702), (4460, 0.015799385494269676), (4461, 0.0), (4462, 0.0), (4463, 0.0), (4464, 0.017657601345786044), (4465, 0.0), (4466, 0.021795165307573687), (4467, 0.036822821164864274), (4468, 0.0), (4469, 0.0), (4470, 0.0), (4471, 0.0), (4472, 0.0), (4473, 0.0), (4474, 0.0), (4475, 0.013104906504996433), (4476, 0.0), (4477, 0.007221644170674015), (4478, 0.008575640284975785), (4479, 0.012576333447405733), (4480, 0.0), (4481, 0.005802690561305646), (4482, 0.00780017980681102), (4483, 0.0), (4484, 0.0), (4485, 0.0), (4486, 0.021212638181092362), (4487, 0.0), (4488, 0.0), (4489, 0.0), (4490, 0.0073015962266890925), (4491, 0.009007138024914886), (4492, 0.008435128618919605), (4493, 0.0891798155292657), (4494, 0.0), (4495, 0.0), (4496, 0.05664077601891686), (4497, 0.0), (4498, 0.035603125920357026), (4499, 0.0), (4500, 0.0), (4501, 0.03577390088435333), (4502, 0.01327414973398653), (4503, 0.005935592172821738), (4504, 0.0), (4505, 0.0), (4506, 0.0), (4507, 0.0), (4508, 0.0), (4509, 0.0058166270019486006), (4510, 0.0), (4511, 0.014537416271158737), (4512, 0.0), (4513, 0.0), (4514, 0.0), (4515, 0.0), (4516, 0.009341598092061235), (4517, 0.0), (4518, 0.015607945762838197), (4519, 0.007234763936374599), (4520, 0.0), (4521, 0.0), (4522, 0.0), (4523, 0.02075876281881726), (4524, 0.017765520638996255), (4525, 0.012930585043475305), (4526, 0.0), (4527, 0.0), (4528, 0.0), (4529, 0.0), (4530, 0.0), (4531, 0.02211368269489272), (4532, 0.0), (4533, 0.02204168188685255), (4534, 0.016403153416567774), (4535, 0.009048460132249535), (4536, 0.0), (4537, 0.0), (4538, 0.0), (4539, 0.0), (4540, 0.0), (4541, 0.0), (4542, 0.0), (4543, 0.005937826668136652), (4544, 0.0171631662925791), (4545, 0.0), (4546, 0.0), (4547, 0.0), (4548, 0.024363803986132172), (4549, 0.0), (4550, 0.013864278728990214), (4551, 0.011829112231083742), (4552, 0.0), (4553, 0.005657590055663188), (4554, 0.016692495191313633), (4555, 0.0), (4556, 0.0), (4557, 0.050885197106577296), (4558, 0.0), (4559, 0.0), (4560, 0.0), (4561, 0.0), (4562, 0.0), (4563, 0.013811645809344767), (4564, 0.14618357146447855), (4565, 0.0), (4566, 0.013946128366521798), (4567, 0.011195863721024312), (4568, 0.0), (4569, 0.00760116994704846), (4570, 0.0), (4571, 0.0), (4572, 0.0), (4573, 0.0), (4574, 0.014182046771070997), (4575, 0.0), (4576, 0.027322343780550387), (4577, 0.0), (4578, 0.0), (4579, 0.0), (4580, 0.015191018714716351), (4581, 0.04030318220251851), (4582, 0.013440444688065493), (4583, 0.0), (4584, 0.016212122853988566), (4585, 0.0), (4586, 0.006381554004684985), (4587, 0.013334674311201411), (4588, 0.007793191259788499), (4589, 0.007053064628373453), (4590, 0.0171321577757538), (4591, 0.00574620519932882), (4592, 0.0), (4593, 0.0), (4594, 0.0), (4595, 0.0), (4596, 0.05689349771270507), (4597, 0.0), (4598, 0.0), (4599, 0.0), (4600, 0.0057945729584567935), (4601, 0.0), (4602, 0.0), (4603, 0.015119291103257836), (4604, 0.0), (4605, 0.030614472046745216), (4606, 0.022420294833839848), (4607, 0.01612375110474262), (4608, 0.005586970994637938), (4609, 0.04697286484566639), (4610, 0.012390538109681453), (4611, 0.0), (4612, 0.0), (4613, 0.03126608259680895), (4614, 0.0), (4615, 0.0), (4616, 0.0), (4617, 0.0), (4618, 0.0), (4619, 0.007203770939839496), (4620, 0.0), (4621, 0.01463136295131349), (4622, 0.0), (4623, 0.011016256235544475), (4624, 0.0), (4625, 0.0), (4626, 0.012137664654613623), (4627, 0.012752621517026995), (4628, 0.027960283598467674), (4629, 0.0063276357339793685), (4630, 0.006447151827181265), (4631, 0.007584689332836829), (4632, 0.01599330676218628), (4633, 0.0), (4634, 0.0), (4635, 0.0), (4636, 0.0), (4637, 0.0), (4638, 0.0), (4639, 0.014290446844636094), (4640, 0.0), (4641, 0.0), (4642, 0.006948504064241245), (4643, 0.023092593045882303), (4644, 0.0), (4645, 0.0), (4646, 0.025802666867061563), (4647, 0.03503167063724055), (4648, 0.0), (4649, 0.031879763124884705), (4650, 0.012628278921605448), (4651, 0.0), (4652, 0.06603756390301654), (4653, 0.007149621623326427), (4654, 0.0), (4655, 0.0), (4656, 0.0), (4657, 0.0), (4658, 0.03801800157602308), (4659, 0.0), (4660, 0.0), (4661, 0.01778197155246115), (4662, 0.021115823934783735), (4663, 0.04258431581966837), (4664, 0.0), (4665, 0.0), (4666, 0.0), (4667, 0.0), (4668, 0.03428751446993723), (4669, 0.0), (4670, 0.0), (4671, 0.0), (4672, 0.0), (4673, 0.005812016185756433), (4674, 0.018114764585843164), (4675, 0.0), (4676, 0.030499870147851424), (4677, 0.01140525638624869), (4678, 0.0), (4679, 0.0), (4680, 0.0), (4681, 0.0), (4682, 0.014279729584550946), (4683, 0.0), (4684, 0.006110376659623076), (4685, 0.015576985754306945), (4686, 0.0), (4687, 0.015898821242654217), (4688, 0.024556099705263727), (4689, 0.0), (4690, 0.005635825454340063), (4691, 0.0), (4692, 0.0), (4693, 0.0), (4694, 0.0), (4695, 0.015398821559987256), (4696, 0.0), (4697, 0.0), (4698, 0.0074445775563605834), (4699, 0.0), (4700, 0.0), (4701, 0.0), (4702, 0.0), (4703, 0.008470402669691861), (4704, 0.0), (4705, 0.009275700084516404), (4706, 0.0), (4707, 0.0), (4708, 0.019640322070403903), (4709, 0.00785068021950716), (4710, 0.0), (4711, 0.0), (4712, 0.0), (4713, 0.0), (4714, 0.0), (4715, 0.0), (4716, 0.0), (4717, 0.0), (4718, 0.0), (4719, 0.0), (4720, 0.0), (4721, 0.0), (4722, 0.0), (4723, 0.007628304770592356), (4724, 0.0), (4725, 0.02635245118008706), (4726, 0.03888131111009733), (4727, 0.0), (4728, 0.0), (4729, 0.0), (4730, 0.0), (4731, 0.0), (4732, 0.015101933723529968), (4733, 0.005279253996502936), (4734, 0.0), (4735, 0.0), (4736, 0.01111802584022513), (4737, 0.0), (4738, 0.01445109586266088), (4739, 0.04298109525682192), (4740, 0.0), (4741, 0.02283899608456), (4742, 0.016037198644791844), (4743, 0.016729369824963817), (4744, 0.011378161583753633), (4745, 0.0), (4746, 0.0), (4747, 0.019452710040218268), (4748, 0.024713559239624233), (4749, 0.0), (4750, 0.0), (4751, 0.0), (4752, 0.02466088117737317), (4753, 0.0), (4754, 0.013667648781287213), (4755, 0.0), (4756, 0.011480146525303804), (4757, 0.0), (4758, 0.0), (4759, 0.0)]\n"
          ]
        }
      ]
    },
    {
      "cell_type": "code",
      "source": [
        "len(Recommendation_Score)"
      ],
      "metadata": {
        "colab": {
          "base_uri": "https://localhost:8080/"
        },
        "id": "whmiemh1Ni5n",
        "outputId": "66c371a7-a5f7-4d25-d4dc-5f3263d1f9cf"
      },
      "execution_count": 27,
      "outputs": [
        {
          "output_type": "execute_result",
          "data": {
            "text/plain": [
              "4760"
            ]
          },
          "metadata": {},
          "execution_count": 27
        }
      ]
    },
    {
      "cell_type": "markdown",
      "source": [
        "#Get All Movies Sort Based On Recommendation Score wrt Favourite Movie"
      ],
      "metadata": {
        "id": "bdJGYbm-K1Qp"
      }
    },
    {
      "cell_type": "code",
      "source": [
        "Sorted_Similar_Movies = sorted(Recommendation_Score, key = lambda x:x[1], reverse = True)\n",
        "print(Sorted_Similar_Movies)"
      ],
      "metadata": {
        "id": "CwCwbOXINm7m",
        "colab": {
          "base_uri": "https://localhost:8080/"
        },
        "outputId": "8a2224cf-41e7-4826-a5d4-451fc5da8142"
      },
      "execution_count": 28,
      "outputs": [
        {
          "output_type": "stream",
          "name": "stdout",
          "text": [
            "[(231, 1.0000000000000004), (232, 0.3697667789922634), (230, 0.26434185613412536), (4564, 0.14618357146447855), (464, 0.14199338628614416), (85, 0.14090287630089582), (1494, 0.13712817281840442), (3604, 0.13683397060577263), (1762, 0.13269862911465508), (385, 0.1319007850129266), (2582, 0.12935903213835934), (4401, 0.1274771626048933), (1579, 0.1272510027337545), (1009, 0.12720298126534735), (3630, 0.12423733247622742), (2205, 0.12217096059046101), (4070, 0.12097988908609766), (3132, 0.1203989442422248), (1603, 0.11944883839722775), (3979, 0.11729927305199385), (3134, 0.11636916240075505), (594, 0.11500519776053036), (4019, 0.11237375111342826), (2036, 0.11233833726513681), (2037, 0.11217339432385869), (1382, 0.11182688347744132), (3597, 0.10751655471836212), (490, 0.10673618079709107), (1157, 0.10592736407196177), (4443, 0.1056667763591896), (1401, 0.1055894117597278), (4075, 0.10481826582045634), (2859, 0.10477291679417945), (3133, 0.10469436221332948), (1743, 0.10198713935408794), (850, 0.10189389320422633), (2850, 0.1016490123014844), (1346, 0.1008106838378737), (4406, 0.10065642537341175), (2517, 0.10045641294559737), (1172, 0.1000745304334972), (2940, 0.09953932341276177), (1074, 0.09680954649113413), (1848, 0.09606123788588652), (3695, 0.09585803219911625), (615, 0.0952502542033918), (3469, 0.09446407662726819), (218, 0.09362027729786897), (565, 0.09337439589224998), (3655, 0.0925336125014905), (3646, 0.09159614471551969), (1549, 0.09137356010143682), (1265, 0.08991848498774369), (3972, 0.08943105722302545), (4493, 0.0891798155292657), (3163, 0.08771871655704805), (275, 0.08536327040050118), (15, 0.08477414047458431), (1948, 0.08452774002665883), (1279, 0.08403092907581591), (169, 0.08389330912227796), (2051, 0.08237248014435639), (1654, 0.08208055352957078), (1254, 0.08183216408485929), (1787, 0.08094772378188717), (3403, 0.08070147252396198), (525, 0.08069484525533212), (648, 0.07987625449542265), (1412, 0.07953727817047268), (957, 0.07952211913285044), (18, 0.07949894567051255), (1982, 0.079441495463128), (2058, 0.07912889753086744), (2538, 0.07901566103528089), (3879, 0.07777703772156981), (125, 0.07748023988053339), (3968, 0.07746924403201229), (2174, 0.07733690552362683), (269, 0.07729829022817401), (1292, 0.07722523959461083), (3405, 0.0769997819236157), (1690, 0.07669792550382826), (4182, 0.07632584340313443), (1649, 0.07611940842964168), (1460, 0.0761089500314674), (598, 0.07605191916409364), (1788, 0.07584425627314836), (475, 0.07510055495340341), (1094, 0.07403067523409285), (2301, 0.07394872627247104), (3786, 0.073491336076314), (2294, 0.07313643264697525), (155, 0.07310298216011876), (4061, 0.07307608573688733), (697, 0.07217903987124978), (706, 0.07214348415095198), (1114, 0.07178040396935947), (3933, 0.07087551048963045), (537, 0.07085595033731779), (1967, 0.07071127564365966), (3130, 0.07048631112629605), (3366, 0.07038244322113825), (567, 0.07033219878725816), (4001, 0.0702612020191369), (472, 0.06994179142584266), (2766, 0.06989273845908053), (1860, 0.06977408331959639), (906, 0.069664791489218), (1714, 0.06961366472784819), (2843, 0.06958759964840433), (1799, 0.06916025703966452), (582, 0.06876551482200652), (1698, 0.06875136374500262), (1475, 0.06854472863098383), (449, 0.06748370534694884), (1599, 0.06708989180456396), (1090, 0.06698137158079798), (1935, 0.06697530989381847), (2035, 0.06650137474522874), (4652, 0.06603756390301654), (1871, 0.06582041682565828), (3982, 0.06573231029331893), (130, 0.06562571704144471), (1580, 0.06534607220797153), (4337, 0.06533963264471988), (2494, 0.06454833246225652), (3069, 0.06435325078216346), (2114, 0.06424050321918948), (3692, 0.06375613770424925), (921, 0.06373883713985541), (2815, 0.06339489223629349), (737, 0.0631576855183201), (1903, 0.06315725086002663), (1798, 0.06251391102419082), (538, 0.0617394332622884), (355, 0.061697540200311374), (1929, 0.06161623801373411), (1374, 0.06131837335357915), (487, 0.06104301471155967), (1764, 0.060754347029721587), (2510, 0.06027679175211345), (442, 0.06025059545595691), (774, 0.059937351884521047), (3342, 0.059899415703352235), (1942, 0.05981577975420251), (3598, 0.05972156916857479), (193, 0.05924514194122963), (1111, 0.05917612708667111), (1517, 0.05909667016904797), (566, 0.0587656658390511), (2567, 0.0585990476185418), (3091, 0.058562309574426236), (3202, 0.05843483703445239), (812, 0.05839927647130643), (1341, 0.058214359283227615), (506, 0.05814729766850092), (359, 0.05796081833993931), (3083, 0.05794777354700387), (553, 0.05786602577058253), (399, 0.057796080103478115), (2646, 0.05771733283694163), (3376, 0.056993868196487454), (1278, 0.05691314212469558), (4596, 0.05689349771270507), (4496, 0.05664077601891686), (3623, 0.05656222956235945), (618, 0.0564356850233166), (2382, 0.05634181988094281), (838, 0.056111755274158875), (1398, 0.05604581634585151), (2560, 0.055924950785250456), (666, 0.05591673105731898), (307, 0.05588374719639215), (1464, 0.05583076221593191), (3894, 0.055686916287091486), (79, 0.0556753318453319), (4181, 0.05563737410014218), (1655, 0.05545599296162686), (4210, 0.055450706965821765), (339, 0.05526066543972734), (322, 0.05515515216179298), (4415, 0.05512247768215883), (936, 0.055029505834299365), (3186, 0.05480204931008572), (3190, 0.05444629860515571), (2085, 0.05443841824395391), (3579, 0.05421486020972771), (2055, 0.053981420525659934), (1707, 0.05373157012974594), (4200, 0.05366088746588684), (263, 0.053627437266438205), (1162, 0.05354363469282155), (1977, 0.053498840763630186), (2844, 0.05325076059808119), (108, 0.053189528134650034), (4370, 0.0528049718047611), (4245, 0.052466352154738626), (3161, 0.05241172804635759), (4157, 0.0523603895511799), (895, 0.05229143721738128), (338, 0.05213037806199135), (2103, 0.052019613560422895), (3690, 0.051788116845102455), (67, 0.051612622371277214), (2198, 0.05157988052072301), (25, 0.05149253765225636), (1403, 0.05145436841343384), (1470, 0.05138766802381447), (1839, 0.051061440075897246), (4274, 0.051056122687355314), (184, 0.050928573615875855), (4557, 0.050885197106577296), (1026, 0.050802923693782975), (1538, 0.050750776666747696), (2112, 0.05073326486175003), (1443, 0.050676989799749925), (631, 0.05066866910458329), (356, 0.050641263244748526), (1249, 0.05051335328299973), (337, 0.05048543427553071), (4199, 0.05044651902675171), (572, 0.050403671166232504), (1920, 0.050390216113914504), (1616, 0.05030213189851086), (3105, 0.050203282565927376), (2553, 0.050195121033151935), (1648, 0.05012194171688956), (3362, 0.049965489854582226), (3643, 0.04975816734212843), (2101, 0.04963174224558457), (122, 0.04960932589939014), (547, 0.04943510784502624), (69, 0.04940061655639856), (2116, 0.049254234572787686), (2027, 0.049250634212225516), (0, 0.049237591175557434), (327, 0.049200189125165564), (762, 0.04916665531152331), (1779, 0.04915647811946498), (3829, 0.049130741275697554), (1964, 0.04901152303359891), (3634, 0.04894698138384653), (181, 0.048833749104475466), (2541, 0.04879293213727049), (1273, 0.048740904081635804), (1129, 0.04866764554463592), (2902, 0.048664082335154506), (1897, 0.048577509330651386), (343, 0.048425135955110235), (3395, 0.04842442892943925), (3456, 0.04839968604813092), (1876, 0.04832829772522432), (2481, 0.04820433650106504), (1198, 0.048103777483936454), (3783, 0.048017970145329374), (1688, 0.048014760832983505), (1678, 0.047963363782212394), (542, 0.04794587857474642), (496, 0.04780896671327686), (630, 0.04774262136413367), (4053, 0.047685384442891554), (3850, 0.047433836355534255), (153, 0.04732340839246435), (3111, 0.04726818855241296), (3066, 0.04723523960302165), (551, 0.04718774907441025), (3252, 0.047100935456440764), (3875, 0.047094002127587214), (2177, 0.047059832189020684), (2250, 0.04704951638585003), (1913, 0.04700430940510629), (4609, 0.04697286484566639), (705, 0.046747838429789565), (2513, 0.04661315810795806), (2668, 0.04651685919319775), (3463, 0.046465634542026235), (1321, 0.046374602259146976), (952, 0.04626503322866908), (433, 0.046216259043145594), (4294, 0.04611478771152291), (3309, 0.04608829445777238), (600, 0.04576174318830528), (867, 0.045362639696488155), (715, 0.04534486686070671), (1709, 0.04528005976385631), (173, 0.04522054203270202), (35, 0.04520973158424543), (1934, 0.045159955912573366), (1363, 0.04509908608531618), (4313, 0.04498746266095972), (919, 0.04492661526595913), (514, 0.044847264391165084), (1621, 0.044738432037875836), (342, 0.044724590479041676), (763, 0.04469862120125841), (2740, 0.04467016715303063), (3299, 0.044653572839321407), (1263, 0.0446398910236854), (3147, 0.044535960261516856), (3536, 0.04447315238257782), (2111, 0.044450704702621587), (3747, 0.04443063448445467), (1386, 0.044186556297642836), (1666, 0.04408253484096458), (2265, 0.04406883885687647), (2442, 0.04393754103396768), (3518, 0.043768545931598665), (875, 0.043754407759982385), (2124, 0.04372174045473753), (1016, 0.04369905697558224), (609, 0.043679967684463805), (57, 0.043609406075547336), (794, 0.04360646618998605), (1723, 0.04345337233543134), (3701, 0.04343559853987009), (29, 0.043423865329905796), (277, 0.04341824717894693), (2022, 0.0434168895729046), (1365, 0.04322522044119041), (1134, 0.043211134409453386), (620, 0.043206801956304386), (2539, 0.043162933213213434), (1329, 0.043045435327755135), (3404, 0.043014264914905724), (4739, 0.04298109525682192), (3694, 0.0429104405727271), (2317, 0.04285109336122125), (3541, 0.04282992619879178), (2712, 0.042773165848207166), (118, 0.042762340481300114), (1445, 0.04268308376338585), (284, 0.0426393223218547), (4663, 0.04258431581966837), (178, 0.042534326870077535), (508, 0.04252475777335511), (3566, 0.04248916801989608), (2421, 0.04246307431314306), (970, 0.04246158439435197), (3503, 0.04243266001181825), (1842, 0.042363831187332945), (995, 0.04235065949638903), (710, 0.042335140952119474), (2713, 0.04223007395409814), (2546, 0.04222205721465485), (765, 0.042164641744812194), (1293, 0.041925945624817), (264, 0.04190597546636029), (1718, 0.04188743362770783), (3689, 0.0417907431553787), (374, 0.04161814602713323), (834, 0.04156241340729006), (2439, 0.04153208360648025), (742, 0.041512636677690305), (358, 0.04150641890701981), (3215, 0.04146471087523533), (4342, 0.04138520438845658), (3801, 0.04135572381100802), (966, 0.04127766274742195), (1033, 0.04125467495086139), (330, 0.041214608207529625), (1493, 0.04119152268948496), (1612, 0.04112247207467189), (1988, 0.04098583324961701), (109, 0.04095124170085449), (2474, 0.04081188264981007), (1385, 0.04078879348485113), (3315, 0.04075661549280055), (2125, 0.040638578362501995), (315, 0.04055729025992343), (2437, 0.04049398078205682), (1650, 0.04049167508071536), (3723, 0.040403958937909455), (3811, 0.0403953551241872), (2637, 0.04037746059265797), (2359, 0.04036983016537779), (1310, 0.04036932316339184), (1880, 0.04035351762000415), (353, 0.040325879695291514), (833, 0.04032528035505893), (1426, 0.04030431247371237), (4581, 0.04030318220251851), (1522, 0.040269712100091996), (670, 0.04022071850297039), (3373, 0.040213557987333594), (3360, 0.040197465471811515), (835, 0.04000377705460079), (808, 0.03996780867267531), (2285, 0.03987088693048697), (278, 0.03976471470531767), (821, 0.03974820293113692), (391, 0.03971911213977689), (681, 0.0396766430512965), (3246, 0.03967334071062183), (934, 0.03966465527110116), (3253, 0.039641107581871296), (958, 0.039626265715120824), (88, 0.03956744664660682), (788, 0.03956659467589849), (381, 0.039561957268783705), (899, 0.03948008393709675), (1237, 0.03947178377398036), (931, 0.03928310453243585), (4258, 0.03921906904564871), (2587, 0.03916640038992755), (161, 0.03916439905557177), (968, 0.0390672193725967), (87, 0.03905928262666759), (455, 0.038969214010112385), (182, 0.03893778983440614), (902, 0.038893374803624814), (4726, 0.03888131111009733), (1369, 0.038836231720116986), (555, 0.038812863048117936), (1852, 0.03879148558452307), (2780, 0.03876641167826968), (4308, 0.0386250641557202), (1266, 0.038537848392479694), (1423, 0.038527721668338344), (4093, 0.03851082162329131), (2397, 0.03849179113430704), (519, 0.03834016944748694), (1118, 0.03832039534549654), (2603, 0.03829193020539189), (1296, 0.03828990644907734), (775, 0.03824165391164), (1115, 0.03818507572887401), (883, 0.03808361493322869), (4156, 0.038043425651472486), (4658, 0.03801800157602308), (1316, 0.038000330162369915), (4142, 0.037982115289625834), (1682, 0.037978759070379016), (692, 0.03795484316128914), (2167, 0.03793380306902268), (3286, 0.03793108244016552), (323, 0.03787027819547119), (2555, 0.03778871138341789), (1214, 0.0377771811997028), (3420, 0.037711100901149264), (3965, 0.03748392558527135), (1397, 0.0374677136407725), (3450, 0.037435963799345495), (373, 0.03742561611123618), (465, 0.037422845172525095), (3264, 0.03735512210814804), (1911, 0.03733315114332257), (3284, 0.03719413634423645), (1706, 0.03698017061648604), (4268, 0.03695410708203631), (1772, 0.036947853101207476), (2398, 0.03694377215489496), (3346, 0.03693554300908734), (1774, 0.03689655701706493), (2981, 0.036879993665110744), (4467, 0.036822821164864274), (1512, 0.03682038035548294), (121, 0.036786042761988415), (3467, 0.03673696263439401), (614, 0.03669430551232637), (1675, 0.03661795480780403), (1524, 0.03660566876490371), (4132, 0.03659500047992469), (778, 0.03656830761473069), (1215, 0.0364748687056417), (350, 0.0364049671095112), (1199, 0.03636320497708691), (748, 0.03635625466498668), (4233, 0.036307278910869795), (2413, 0.036293807896967546), (3990, 0.036258428198014635), (2944, 0.036132174783433876), (1496, 0.036132138676141616), (2221, 0.03612922363891467), (1809, 0.036126116163690956), (1957, 0.03607642754026939), (317, 0.03607486121802094), (1495, 0.036053998613285995), (334, 0.035977840990776146), (1696, 0.03591950587263318), (271, 0.035912004199959935), (3228, 0.035911947055084784), (78, 0.03590653109325179), (924, 0.03586873647853067), (1345, 0.035836045958412145), (4353, 0.03580710252667748), (4501, 0.03577390088435333), (3410, 0.03576162999480588), (4041, 0.03575188223455693), (534, 0.03565845407747264), (4498, 0.035603125920357026), (1552, 0.035580482735459565), (2000, 0.035555947717550995), (418, 0.0354234029851096), (2158, 0.0354099187824211), (328, 0.03537404858840184), (68, 0.03536124075001714), (3181, 0.03535676789100158), (2697, 0.035203797572022716), (3826, 0.03513295588903692), (279, 0.03511781536764134), (2387, 0.03505719753919503), (4647, 0.03503167063724055), (1195, 0.035030349195304386), (2075, 0.03496958327751443), (1986, 0.03496569398091771), (3509, 0.03494670144515584), (252, 0.03494137878015014), (2682, 0.03493991478088965), (1458, 0.034903531355887946), (1216, 0.034854158563191906), (1257, 0.03481013832432399), (2052, 0.034799121825659474), (1165, 0.03479027349740679), (2008, 0.03477535036064175), (1238, 0.03476737140714188), (288, 0.03472744698557098), (3096, 0.034705008457954246), (3140, 0.034691197603693005), (1229, 0.03462164723369379), (1721, 0.03461963068634268), (758, 0.03461524704739791), (843, 0.03460103789018995), (2376, 0.03459428656600802), (3658, 0.03440960726562491), (86, 0.034400421403386186), (41, 0.034384387922329715), (407, 0.03432170196485862), (963, 0.03430901120163801), (4668, 0.03428751446993723), (4189, 0.034252725359163586), (1510, 0.034143195877713965), (1418, 0.03411434299172864), (4196, 0.03396194162124086), (2774, 0.033922715474089836), (3097, 0.033911068548893135), (82, 0.033866198930637054), (2489, 0.03383042588835375), (1689, 0.033807005917565774), (4009, 0.033798595105261266), (1308, 0.0337662001633184), (96, 0.03372984685941996), (2239, 0.033673538050799104), (1713, 0.033617018835716925), (452, 0.03341859461406723), (1843, 0.033418360481579604), (2362, 0.033411593060039255), (194, 0.033385704065719835), (2227, 0.03333304041565258), (4343, 0.03323563731269326), (634, 0.033163806991325234), (3206, 0.03314703005731922), (1285, 0.033037948777907375), (1326, 0.03300652253266593), (3834, 0.032978319446321964), (4405, 0.032958400667980545), (4062, 0.032876274635986205), (949, 0.03284022274995077), (2393, 0.032804173244049134), (1467, 0.03275232984206554), (2688, 0.03274010728866684), (491, 0.032718271329691864), (2895, 0.03268854135525825), (62, 0.03268316925003784), (2730, 0.03264553190298777), (1043, 0.03258431501803892), (916, 0.03242225713802495), (113, 0.032395166586349645), (3983, 0.03233300086406932), (917, 0.0323060722031675), (354, 0.0322927468299555), (750, 0.03224586358531918), (3090, 0.03223514339370723), (3008, 0.032226612086451556), (745, 0.03222462226492689), (3098, 0.032160155444561064), (3174, 0.03214673785213871), (208, 0.03206915375083047), (1875, 0.0320504257938361), (3323, 0.03203264031602324), (316, 0.03201940196482773), (3419, 0.03200298664030331), (3368, 0.031981398563383716), (309, 0.031977935611491815), (4649, 0.031879763124884705), (914, 0.03187480982814322), (1870, 0.03187455115546833), (2237, 0.03186324730808569), (2179, 0.031812613266572705), (892, 0.03179981260235625), (3599, 0.03179773788122034), (752, 0.031733603213619274), (868, 0.031664587142727296), (3648, 0.031645549222806435), (1827, 0.03159596984285245), (1334, 0.03156977206122851), (3235, 0.0315509356760274), (3483, 0.031536253259415975), (247, 0.03152112485783045), (635, 0.03144371048040191), (1099, 0.03130422515350843), (4613, 0.03126608259680895), (824, 0.031237098175417484), (1812, 0.031232963304187865), (2330, 0.031227237826140182), (4077, 0.031214914648029515), (1729, 0.03119018779023157), (44, 0.03118574922274604), (2144, 0.03114778674503095), (707, 0.03106045147136213), (4366, 0.031053766024844536), (622, 0.031027557731364293), (2830, 0.031012524146194667), (2873, 0.030951205492871895), (1701, 0.0309174261052026), (1841, 0.030870216277986594), (3385, 0.030857184481715722), (1178, 0.030788594301122886), (999, 0.030772903542504004), (3256, 0.030759409418659376), (2430, 0.030755199402757158), (3304, 0.030741255021829714), (3706, 0.030705232212975827), (521, 0.030704407038481988), (383, 0.030699753708641944), (657, 0.030679370867524078), (4369, 0.030674710113093268), (2254, 0.030646746967792852), (2572, 0.03062614359646007), (4605, 0.030614472046745216), (2381, 0.030596458441060015), (4410, 0.0305698690179426), (1171, 0.03052669320360587), (4676, 0.030499870147851424), (3027, 0.030491309307895082), (3554, 0.030490389054853212), (922, 0.0304857606911398), (532, 0.03043281932294544), (7, 0.030428149886708396), (346, 0.030294322553641548), (3697, 0.030259612829987497), (2969, 0.030240127336282754), (273, 0.030234341917060304), (1572, 0.03017259788770997), (2935, 0.030148963313859956), (3910, 0.030122886775973325), (2277, 0.030077157704798244), (2751, 0.03005814577221469), (1692, 0.0299292101741099), (1270, 0.0299182784753533), (2443, 0.02990276568626489), (4289, 0.029843853177173314), (2181, 0.029817918182681036), (870, 0.029809570938185086), (1357, 0.029780812629305355), (1951, 0.0297491251637435), (550, 0.029732995028487752), (3876, 0.029723452632363846), (2095, 0.029708983990628532), (2197, 0.029681590919986504), (2309, 0.029670692200515852), (482, 0.029632689810967075), (3417, 0.029603452806375618), (2691, 0.029594098052298838), (467, 0.02955892141373228), (1700, 0.029556587380206355), (2313, 0.029536920506386042), (2520, 0.029521765420650107), (814, 0.02951711482725978), (137, 0.029505003403417395), (1262, 0.029503160984816243), (1239, 0.0295025655732457), (998, 0.02937700592401237), (1396, 0.029355584225962083), (437, 0.02929416696242568), (3508, 0.029286032901235107), (1124, 0.029259662922235988), (3100, 0.029244829521819296), (990, 0.029172283193183685), (2640, 0.029099117169738738), (448, 0.029091986451670906), (3209, 0.029080812138564935), (4071, 0.029071425698402667), (3612, 0.02905236431428982), (1936, 0.029043218475636047), (1577, 0.02903276521427947), (466, 0.02901470562901625), (65, 0.028946077252845134), (1206, 0.02893778064997111), (793, 0.028919154464323756), (1761, 0.028839284317228105), (1629, 0.028835372663138487), (1045, 0.028776945774074143), (1376, 0.028760235625438745), (392, 0.02871984621497315), (2644, 0.02870658544658294), (2045, 0.028636363807926855), (4169, 0.028627171915755922), (684, 0.028585511223071257), (92, 0.02855360976752957), (216, 0.02853245806677309), (1515, 0.028495965413172786), (2715, 0.028445498550448957), (2790, 0.02843531710757472), (759, 0.02843296723666771), (406, 0.02842941036232837), (4099, 0.028413799364986867), (2121, 0.028385390445182367), (321, 0.02835849279092867), (2831, 0.02834843329000515), (1012, 0.028315935480280396), (204, 0.02829914048285279), (1269, 0.028297582737157975), (3558, 0.028290937785598713), (320, 0.028288859888491343), (3963, 0.028280527988093867), (1244, 0.02827938121232297), (2076, 0.028252084267002594), (329, 0.028209945387534578), (1585, 0.028161061043932584), (2019, 0.02815425630245103), (192, 0.02813566850792128), (3067, 0.028102308036660896), (3754, 0.028076718315965588), (1433, 0.028069541255432314), (1644, 0.028061308043644012), (1021, 0.02802873566554866), (446, 0.028024289142948775), (2399, 0.02800237412111547), (4628, 0.027960283598467674), (3782, 0.027952851201363073), (3732, 0.027944169161488838), (2109, 0.027934905786353038), (199, 0.027856458949035073), (4054, 0.027842134046773298), (292, 0.027828562574058247), (568, 0.027811261771448693), (2980, 0.02778809819725546), (1604, 0.027784007103040867), (3237, 0.02778155047428401), (2759, 0.027760480524803118), (3152, 0.027740953732472547), (104, 0.027693111020762624), (2601, 0.027612874023823453), (517, 0.027605171046375693), (3151, 0.02760008677283289), (1722, 0.027590099556103236), (324, 0.02756857127640256), (3000, 0.02756525516990803), (944, 0.027543994460370945), (336, 0.02749061335717822), (3568, 0.027465117724933097), (4171, 0.027460760513750442), (2868, 0.02745825520706534), (2234, 0.027434357042855125), (3582, 0.02733699368986682), (2642, 0.027333776498050737), (769, 0.027323650010936718), (4576, 0.027322343780550387), (3864, 0.0272569328747443), (1589, 0.02724803518686302), (1869, 0.027231157110211436), (3108, 0.027193894240970767), (660, 0.02718452461122883), (2156, 0.027152391932572677), (2005, 0.02712107824114652), (1846, 0.027108681679367662), (150, 0.02710035936552415), (1640, 0.027078834888499374), (511, 0.027065150655233617), (3114, 0.02704436612912898), (1068, 0.027027329581800853), (3046, 0.027022483805685334), (105, 0.026999699898492435), (3226, 0.026961953527351767), (1135, 0.026951562420257674), (124, 0.02694926933055184), (332, 0.02694143613713875), (1757, 0.02692311638797778), (3615, 0.026918192691050044), (3136, 0.02691252043916824), (2145, 0.026910156471668202), (1791, 0.026827834186199523), (3668, 0.02681460831174763), (2235, 0.026792471486756092), (468, 0.02677094288602471), (3335, 0.026747614443613274), (822, 0.026743649505623), (4141, 0.026731168729831972), (2734, 0.026726360128221854), (32, 0.026721583891759285), (3240, 0.02670582221305102), (915, 0.026658002626974396), (60, 0.026648335174907452), (1117, 0.026641136328913316), (1173, 0.026613747825879046), (2803, 0.026602489043371993), (1558, 0.026525527660786828), (1994, 0.026524255595592086), (4194, 0.026489713834187203), (2117, 0.02643579979198566), (717, 0.026431062763460644), (3389, 0.026411038945109537), (1245, 0.026401058491184425), (434, 0.026393483670019525), (4725, 0.02635245118008706), (2990, 0.026334912009942403), (4139, 0.02633038307253589), (1259, 0.026307241606494693), (1662, 0.026295658570325117), (2426, 0.026279980401772943), (900, 0.026278786313360357), (874, 0.02622742634553795), (4186, 0.02622047170973947), (522, 0.02621580560114385), (1789, 0.026195800497733818), (2632, 0.02618826153375431), (1776, 0.026173108248524056), (3954, 0.026164435497689046), (1567, 0.0260980667941368), (2353, 0.026082200198794796), (4220, 0.026023505697611148), (1069, 0.026010032006895677), (2185, 0.02600768600222686), (730, 0.025987569372892844), (222, 0.025981042199041116), (4055, 0.02595229618538857), (4338, 0.025929321243596332), (1992, 0.02588502196178557), (911, 0.025863081453939243), (3175, 0.025862239550418734), (2236, 0.025839639607220494), (4646, 0.025802666867061563), (3943, 0.02579750782253735), (229, 0.02579408303878088), (1465, 0.02576857347435189), (2703, 0.02575343125687193), (4444, 0.025730464531104752), (597, 0.025711932778140982), (1845, 0.02567666461823774), (946, 0.025672714659761932), (1456, 0.02566355573779657), (2509, 0.0256611918038833), (325, 0.025644920668294983), (3065, 0.025641170604690237), (224, 0.025580399394606098), (2908, 0.025547116103827285), (1336, 0.0255387058312279), (616, 0.025472765352406834), (498, 0.025436872716086745), (306, 0.02543227883812965), (4350, 0.025366914941978135), (3767, 0.02534251056781238), (2551, 0.025309212503276356), (2605, 0.025295120167067198), (4153, 0.02529366555219268), (975, 0.0252895066159216), (1123, 0.025278102591881794), (2548, 0.025215902425065956), (772, 0.02518034134032966), (1155, 0.025171394854325027), (3520, 0.025142345379205084), (2161, 0.025139552821573045), (4440, 0.025093279047968448), (744, 0.025083156759629834), (2749, 0.025066733585094973), (1236, 0.025003902504986117), (4351, 0.02500052683314602), (3369, 0.024985917608134206), (3803, 0.024972421702294648), (2191, 0.024928016014955652), (1379, 0.024903641656592132), (3913, 0.024887400963758605), (2491, 0.024883142265226192), (945, 0.024815713717290522), (2826, 0.024802850180042198), (377, 0.024763227699387734), (152, 0.024757776040396168), (2834, 0.024749885146572163), (3387, 0.024749061163971374), (4748, 0.024713559239624233), (80, 0.024703278667585392), (340, 0.024701773577469815), (4752, 0.02466088117737317), (2211, 0.024592773114723382), (266, 0.024590453935242857), (3970, 0.024576564093704442), (4688, 0.024556099705263727), (698, 0.02451176640710422), (929, 0.02449238601125971), (2687, 0.024414865744898484), (63, 0.024392872142715384), (3447, 0.02438902442712039), (1677, 0.024374552536474966), (4548, 0.024363803986132172), (3129, 0.024273533282613204), (1267, 0.024246897645066184), (2469, 0.024209229217812864), (4344, 0.02419843547066306), (363, 0.02418658350279273), (1007, 0.024109568548047362), (948, 0.02404477430248316), (1926, 0.023980973854742058), (1368, 0.023933236686153294), (561, 0.02392885607258789), (602, 0.023805264291457448), (295, 0.023787137780657573), (142, 0.023781249276352966), (590, 0.023769091202463812), (3384, 0.023748529206650666), (1708, 0.023746210476763212), (2524, 0.023740392056335467), (162, 0.023683376559437693), (3244, 0.023675971667553038), (1014, 0.023668381977594664), (2409, 0.023663776786028507), (757, 0.023635353995121837), (301, 0.02363069642011325), (527, 0.02359583687063936), (2917, 0.023588393392393252), (1810, 0.02357405256275473), (477, 0.023531954475406174), (3329, 0.0235268835772003), (2140, 0.02350236100170963), (1878, 0.02345944249409957), (2355, 0.023439207720859265), (3272, 0.023422486743608), (1539, 0.023329353314402147), (3752, 0.023323529227539427), (1908, 0.023318735515687496), (664, 0.02329052202605587), (1023, 0.023286041758520264), (40, 0.023281448999881355), (3751, 0.023281112469584732), (2316, 0.023235410653677277), (3741, 0.0232331860846253), (106, 0.023213149051175084), (1503, 0.023185835833846355), (56, 0.02318367430077295), (599, 0.023180753333875304), (2772, 0.023125066065046197), (3916, 0.023096004990337572), (4643, 0.023092593045882303), (2074, 0.02307095498736779), (296, 0.023065394662510508), (43, 0.023060712695104756), (2552, 0.023058039074005617), (3589, 0.02305375603473421), (2013, 0.02303947471750247), (605, 0.022941409729262403), (251, 0.022898109839874444), (3205, 0.0228841584699795), (700, 0.02286247457223404), (629, 0.022861789313036174), (4741, 0.02283899608456), (2942, 0.022814871274297988), (1, 0.02278382536811411), (480, 0.022766715391697893), (212, 0.022763945321721213), (1366, 0.02274299996108833), (19, 0.022719688575778323), (1486, 0.02269925424443614), (2048, 0.022693279422952312), (1141, 0.02268885958015155), (524, 0.022641317908654035), (672, 0.02263012207193673), (4364, 0.022621019523267803), (386, 0.022617757189163493), (3680, 0.022557975192162974), (4303, 0.022511594216186568), (403, 0.022480400248561468), (3221, 0.022462756649478853), (1961, 0.02242791879565472), (1847, 0.02242437855678748), (4606, 0.022420294833839848), (1087, 0.022403949064871382), (2625, 0.022384878313275132), (1471, 0.022383716181777674), (2040, 0.022310073002560653), (2249, 0.02227425929007018), (4436, 0.022224055143345255), (871, 0.022145941908498327), (4531, 0.02211368269489272), (186, 0.022106518803103572), (3044, 0.022046886127708422), (4533, 0.02204168188685255), (1332, 0.02203969581534891), (533, 0.02203322122481207), (2854, 0.02202308489750712), (119, 0.021985291468270697), (4098, 0.021975378507124284), (3731, 0.021974439941384066), (683, 0.021972857017576612), (1455, 0.021905375862755455), (3424, 0.021888361550047655), (1910, 0.02188658577553059), (75, 0.02185588801661392), (2473, 0.021853802609339182), (4466, 0.021795165307573687), (530, 0.021791149908860576), (2563, 0.021773706639326415), (2, 0.02176756963148615), (4122, 0.021762800675407742), (3426, 0.021755718718160004), (1268, 0.021712471474336904), (300, 0.02170628870768766), (1307, 0.021695810496054038), (846, 0.021674516984130837), (34, 0.02160375262912157), (3667, 0.021562371717985904), (1802, 0.02155962726550253), (1175, 0.021547920502316163), (1821, 0.021547817849700873), (2614, 0.021542498037331687), (880, 0.021536586183857204), (1918, 0.02153559066248936), (1327, 0.02151810220603921), (3997, 0.021506486681062222), (1015, 0.02149056596991726), (9, 0.0214822014674882), (1514, 0.02147027807814543), (3320, 0.021364658823444797), (1664, 0.021356728755883653), (3817, 0.021352519710814234), (691, 0.021329882498416), (2118, 0.021328027518463116), (3940, 0.02129862947452394), (2088, 0.02129457927016316), (203, 0.021281468411586634), (1413, 0.02126394068757987), (1833, 0.021257932243100134), (1234, 0.021255902756362997), (809, 0.021221174043327504), (4486, 0.021212638181092362), (2028, 0.02113778260551895), (4662, 0.021115823934783735), (156, 0.021110273958927644), (1850, 0.021108020287425325), (303, 0.021094931620034178), (4134, 0.021040465227283853), (4270, 0.021038965068522947), (3458, 0.0210366465086032), (579, 0.0210311516117861), (1985, 0.021017646732491013), (4255, 0.020930084955009073), (661, 0.020922656097171474), (2378, 0.020920703567591264), (3522, 0.02092021139455764), (2416, 0.02091711750631652), (1945, 0.02087767574357991), (428, 0.020874261415706693), (3225, 0.020831737861234663), (2706, 0.02081030516379336), (1302, 0.02077076542967341), (4523, 0.02075876281881726), (1017, 0.020735996584470548), (2050, 0.020732717460804247), (362, 0.02067569950046813), (1314, 0.020673098942415924), (3416, 0.02062150011756307), (2276, 0.020592140723897444), (3878, 0.02058062280079214), (3201, 0.02057738201266538), (3840, 0.020570506378469168), (4325, 0.020565228639958664), (1831, 0.020527403826095313), (4392, 0.020521968601608088), (3443, 0.020486307338253986), (1808, 0.02047916146094437), (1283, 0.020452034461232234), (3276, 0.020413580806941067), (3602, 0.020410205979452273), (1226, 0.020393628994319794), (4033, 0.020359997500883204), (969, 0.02035943727616932), (4076, 0.020343609874985822), (2689, 0.020342474075474182), (1991, 0.020297909868423107), (2998, 0.02025248644493182), (3998, 0.020248820420217674), (656, 0.020235732486703), (298, 0.020220407100367925), (73, 0.020158942339507217), (2007, 0.020137273356170583), (2568, 0.02013474851944115), (4236, 0.020130004191819047), (233, 0.02012797148593152), (400, 0.020122812411657157), (1219, 0.02008061953779964), (1509, 0.020078519935051345), (242, 0.020068935139160842), (283, 0.020045658062192273), (2693, 0.020036516089820374), (2920, 0.02002321336045625), (2777, 0.02001777250581528), (2937, 0.019979084210682577), (144, 0.019974690197885007), (1194, 0.01988444159617242), (4144, 0.01987447440616409), (1096, 0.01985158997384968), (2918, 0.019817876416434767), (3085, 0.01971234022436977), (2207, 0.019708430218751405), (562, 0.019671557747727435), (1121, 0.01966744631681373), (138, 0.019665897043143272), (4708, 0.019640322070403903), (2615, 0.019630821816571265), (4272, 0.019591431113658624), (1132, 0.019574798753695857), (756, 0.01957440373649129), (3562, 0.01956700249168192), (2461, 0.019554812496443145), (2992, 0.019529129394408453), (2684, 0.019472904485781362), (2206, 0.01946491220051133), (286, 0.019454546041049806), (4747, 0.019452710040218268), (4007, 0.019446536023399904), (2680, 0.019430078976875577), (2094, 0.019413652296993416), (1818, 0.01940628493415164), (2841, 0.019389067700543924), (2061, 0.019315527374863), (2736, 0.019305673051821994), (878, 0.01925156042390319), (143, 0.01918096043222109), (669, 0.019083111170875577), (2210, 0.019083092232621165), (4174, 0.019069880074901693), (3802, 0.01899843091782563), (2742, 0.018988503758097693), (3709, 0.018979786085216933), (2432, 0.018943736493803525), (3550, 0.01892975424433331), (3734, 0.018848139765232825), (4447, 0.018804085006783152), (1093, 0.018782357030923902), (4165, 0.018769702412259226), (217, 0.018686011872056436), (3121, 0.018667328276458377), (102, 0.018643027568904205), (3238, 0.01864199313501797), (3949, 0.018629233909747946), (823, 0.018588280828195098), (2559, 0.01855102626533011), (3600, 0.018537463190519944), (1497, 0.018521289359096225), (1478, 0.018496780461743106), (800, 0.01840118037500782), (4292, 0.018399072015247056), (2360, 0.018394159389135335), (160, 0.018373447936443126), (3742, 0.018346882454587366), (2867, 0.018321187635523206), (3884, 0.018299141240733282), (1393, 0.018289183241413536), (1939, 0.01828467532197428), (1564, 0.018168284309971285), (2820, 0.01816087792943062), (2411, 0.018148892883131432), (345, 0.01814091627758796), (4674, 0.018114764585843164), (3497, 0.018114387534411042), (787, 0.018080471614337873), (2628, 0.018073752815796606), (2306, 0.018068206852472735), (274, 0.018066881995764325), (570, 0.018029101433843755), (4017, 0.017927712780830787), (856, 0.017924235877643024), (3721, 0.017867120273916737), (1954, 0.017845423979503387), (435, 0.017838555455923284), (2704, 0.017821123471618128), (4661, 0.01778197155246115), (4524, 0.017765520638996255), (2154, 0.017764392803846434), (1377, 0.017750670395112043), (1529, 0.01775055490443284), (1322, 0.017726208142788216), (928, 0.01766067277618287), (4464, 0.017657601345786044), (3556, 0.01764272358461098), (3448, 0.01759516445724739), (3479, 0.017593875698868316), (1242, 0.01758851951586995), (2113, 0.01758629139924067), (663, 0.01757403422825281), (623, 0.017565293728759993), (1881, 0.01754092560032706), (1790, 0.01752701900505236), (3698, 0.01748013498437588), (402, 0.017478910396921496), (3951, 0.017443724777435277), (641, 0.017396221211011892), (2694, 0.017387823228076013), (1046, 0.01738391115824345), (1419, 0.01738373057476132), (3231, 0.0173775454736718), (2530, 0.017357929352067685), (2875, 0.017340998827404953), (2259, 0.01732627220774866), (612, 0.017309365360299145), (719, 0.017283073170623567), (3915, 0.01725726886746346), (2660, 0.0172260245686268), (3423, 0.017221984048944754), (4240, 0.017221509153092927), (2505, 0.017217158288751623), (3270, 0.017200202845395203), (4544, 0.0171631662925791), (4590, 0.0171321577757538), (101, 0.017129435738998836), (485, 0.017115252266080693), (1658, 0.01711050567979396), (3744, 0.017062062334298002), (1703, 0.017051032181279933), (2957, 0.017030172172111935), (3078, 0.016991328716151735), (4058, 0.016990725338463124), (621, 0.01698300728077485), (2417, 0.01698278897263133), (2769, 0.01696505919610531), (2472, 0.016963094741582994), (1937, 0.016940505509972222), (3094, 0.016927075440023295), (4316, 0.01691988893797462), (4032, 0.01690464989943321), (3661, 0.016893934619378458), (865, 0.016893706922522), (1600, 0.01688193527718977), (3024, 0.016864569812548687), (3903, 0.016859571159524647), (2936, 0.01685668302770921), (2403, 0.016850359067705094), (3049, 0.016847479679996277), (1575, 0.01683771007845842), (2428, 0.01683667354483178), (3524, 0.016827565157715774), (545, 0.016819224837015864), (3766, 0.01681808888763322), (3946, 0.016799381957976835), (4298, 0.016796853659483753), (159, 0.016759429523578038), (2479, 0.016757929604698994), (3353, 0.016757335415574868), (2562, 0.016754887214877286), (4125, 0.0167303022673099), (4743, 0.016729369824963817), (842, 0.016704146330513536), (4554, 0.016692495191313633), (4203, 0.016673765786889675), (1253, 0.016657606085022973), (163, 0.016652746721334447), (3157, 0.016646897735314994), (2638, 0.01661515665487261), (1697, 0.01661066210295381), (2540, 0.016603653664798858), (1902, 0.016591367538668533), (2339, 0.016568568261189992), (2368, 0.016565602391849277), (4095, 0.016556667620535922), (3039, 0.016543731873092073), (3172, 0.016542157761948142), (2707, 0.016538121660553576), (2049, 0.016529815397798235), (2427, 0.016499736783420777), (847, 0.016466625116932237), (1547, 0.016458271565375115), (2209, 0.0164578284449243), (2405, 0.01644996445831005), (1005, 0.016441987201562844), (1770, 0.0164378800010547), (2878, 0.016434262038173438), (1299, 0.01643212832474632), (4209, 0.016422986954509524), (3062, 0.016416632850133256), (3999, 0.01641647358105089), (4534, 0.016403153416567774), (2915, 0.016374141720444456), (1437, 0.016351434463417122), (4023, 0.01633233093287659), (3794, 0.016320520368350716), (1669, 0.01630820899749932), (1417, 0.016304761811504143), (1712, 0.016276230601189778), (1381, 0.016263141034579542), (3797, 0.016258921285243307), (1769, 0.01624464735165778), (2896, 0.01622583212556696), (4584, 0.016212122853988566), (2781, 0.016211784870514962), (3740, 0.016210493172796284), (1466, 0.016190320254544494), (2904, 0.0161776464140174), (2436, 0.01617530532717671), (2123, 0.01617155149868799), (4004, 0.01614845625843187), (755, 0.01614626243300451), (2545, 0.016135902054690263), (2962, 0.016135353314685234), (4607, 0.01612375110474262), (4238, 0.01610563675880034), (4010, 0.01608982333382388), (2164, 0.016074468621050414), (4226, 0.016074203040880655), (2342, 0.016069246313118162), (3560, 0.01606341404576208), (3031, 0.01606271833224685), (3473, 0.016052861647879228), (4742, 0.016037198644791844), (1576, 0.016023637328137694), (4632, 0.01599330676218628), (3758, 0.01598486387203538), (3311, 0.01596864622890699), (2418, 0.01595281426985935), (1583, 0.015926360536288868), (738, 0.015926025253935716), (3218, 0.015905866363292744), (4687, 0.015898821242654217), (425, 0.015898324183924988), (4373, 0.015881834397948304), (424, 0.015876435139461024), (2888, 0.015856597391200038), (341, 0.015850199499095233), (2672, 0.015837597499533854), (938, 0.01581624934328722), (1685, 0.015812806972144863), (1240, 0.015810681428454286), (2244, 0.01580093389557075), (4460, 0.015799385494269676), (2351, 0.015776914375717693), (1000, 0.01576433346154907), (2696, 0.015751613546434073), (1408, 0.015749749572972423), (3822, 0.015731640478103236), (3515, 0.01572845590051999), (3532, 0.01570899040293847), (3919, 0.015704199906242396), (2096, 0.015701084406960237), (3116, 0.01568402455592913), (4052, 0.015673201546192346), (1182, 0.01566859401925977), (1724, 0.015659232523696272), (4371, 0.015658638134398613), (804, 0.015647244368985527), (3308, 0.015643031472786156), (2356, 0.015618151007807519), (4020, 0.015617839011086968), (1785, 0.015611169934219377), (1861, 0.015609904371162874), (2066, 0.015608248524695384), (4518, 0.015607945762838197), (237, 0.015606291757988586), (478, 0.015591448439554175), (4685, 0.015576985754306945), (4295, 0.015569621043550629), (4367, 0.015560557626848512), (716, 0.015559461295410986), (840, 0.015553104370594779), (2633, 0.015552987190074363), (2131, 0.015540699621027509), (981, 0.015528777336684438), (2102, 0.015524479061938516), (1737, 0.0155169553927614), (191, 0.015504752115246944), (470, 0.01549694093751195), (4008, 0.01549303476028135), (713, 0.015488581164743628), (2898, 0.01548473367861948), (2574, 0.01548111774597644), (6, 0.015468146566940115), (2303, 0.015462104741016886), (2964, 0.01546012000953663), (1011, 0.01544026296047931), (3095, 0.015439211581725754), (3637, 0.01542482310784535), (2487, 0.015413003848050087), (1806, 0.01541048272819721), (209, 0.015405039221481232), (4695, 0.015398821559987256), (844, 0.015396295377225573), (2565, 0.015395848640857974), (2767, 0.01539446805482117), (1148, 0.015393458618219938), (2798, 0.015393134069720368), (3273, 0.01538351950234183), (3457, 0.015378508907719758), (1782, 0.015377871353543987), (2765, 0.01536802815812309), (3596, 0.015364676112856102), (2988, 0.015362768985951758), (4368, 0.015362763240464093), (4060, 0.015362547612483148), (2816, 0.015349818698542659), (1280, 0.015348221944713905), (1116, 0.015341479348452392), (1904, 0.01534121909206863), (2708, 0.015340198160180745), (131, 0.01532704505319288), (3883, 0.015324480264269047), (1359, 0.015318488346727435), (3973, 0.01531077822331846), (1006, 0.015291067667957584), (3386, 0.015283463471856369), (1705, 0.01528084174705165), (1383, 0.015278758992048301), (1554, 0.015258714804116972), (782, 0.015253955710759126), (2187, 0.015246118248371491), (1619, 0.01523557553489026), (1407, 0.015227370089318567), (4336, 0.015217676947883799), (1089, 0.01520030613834124), (413, 0.015194642417648025), (4580, 0.015191018714716351), (3787, 0.015188205204079016), (3728, 0.01518652306491), (2982, 0.015182581564401132), (2522, 0.015182142032517498), (2860, 0.015180591733410746), (4419, 0.015170296336981488), (3977, 0.015149687460868198), (2955, 0.015149380137701155), (1505, 0.015145137404542264), (1479, 0.015137379943295792), (4603, 0.015119291103257836), (2190, 0.015114093323076632), (2506, 0.015112341379557394), (3553, 0.015110716935251973), (1570, 0.015105065979417014), (4732, 0.015101933723529968), (701, 0.015097829051998607), (174, 0.015097549442461293), (4025, 0.015095695452622342), (1250, 0.015092950239100872), (3586, 0.015088372461813878), (1275, 0.015087632563034145), (826, 0.015079049895473168), (2744, 0.015058237837813706), (1048, 0.015048062818011632), (3714, 0.015041020239288064), (4128, 0.01504027448594869), (1109, 0.015031048024771284), (1328, 0.015021633379175708), (2732, 0.015015843976312913), (2726, 0.015009801450742394), (1350, 0.015001755603413467), (3733, 0.014997331436898206), (523, 0.01499170970888519), (956, 0.014988544825577179), (671, 0.014983480137981344), (1225, 0.014982057619177723), (2136, 0.014973230936167373), (313, 0.014968822750718749), (2016, 0.014966383496510123), (2977, 0.014958306280572872), (817, 0.014953969836456343), (1061, 0.014942745675761721), (2149, 0.014929607825627645), (2067, 0.014928015909509821), (2604, 0.014925661108013681), (1019, 0.014925498858998706), (83, 0.014922294390936657), (1146, 0.014914282907871574), (2287, 0.014912473259665595), (1192, 0.014910754876468828), (1461, 0.014898161722286085), (897, 0.014896126462260186), (872, 0.01489540216384229), (1228, 0.01489514381741765), (3584, 0.014890596621154445), (2015, 0.014890345724633075), (3594, 0.01488870367556001), (3897, 0.014885770459474207), (4101, 0.01487183209742938), (3265, 0.014871411685089004), (4091, 0.014862974915258053), (3632, 0.01485956952204016), (1077, 0.014856837465907831), (2624, 0.014852010755800896), (2629, 0.014850628760770352), (776, 0.014845677671723033), (254, 0.014842959971072045), (2155, 0.014834135972168613), (2463, 0.014823839285056187), (280, 0.014823526813358719), (3770, 0.01481927612609468), (2193, 0.014810130738663158), (1020, 0.014799144643128797), (890, 0.01479782793530016), (476, 0.01477417361349524), (3043, 0.01477133966562208), (1890, 0.01476033760898829), (1587, 0.014758300617450936), (4188, 0.014752845550124084), (1773, 0.014748521906880552), (3681, 0.014747481184731272), (1501, 0.014746606787611983), (2812, 0.01474477884059219), (1873, 0.014742970191105624), (4388, 0.014741944697682854), (1075, 0.014739646767838522), (2208, 0.014730020621162222), (3867, 0.014727469793656594), (3408, 0.014724559688279381), (151, 0.01471847163214016), (3033, 0.014708314955884136), (76, 0.014706252312094216), (201, 0.014706066965264674), (1551, 0.014695768049566401), (4330, 0.014687011779216531), (4211, 0.014684099357460883), (3183, 0.014683386799288914), (1380, 0.014680638285820875), (864, 0.014672427622383492), (3813, 0.014671113834770157), (4015, 0.014663854665247646), (3288, 0.014657744548413914), (499, 0.01465354425553786), (849, 0.01465139305145282), (2503, 0.014646058690665948), (4355, 0.014633088155820404), (4621, 0.01463136295131349), (1730, 0.014630629076413491), (1901, 0.014630319273420189), (3926, 0.014630172826538178), (3207, 0.014626665032737343), (3780, 0.014626234313235), (3434, 0.014626071044473362), (2554, 0.014624728240393504), (36, 0.014601430403326737), (1150, 0.014587139760729381), (4056, 0.014582000578814253), (2087, 0.014577277860551), (2335, 0.014571462691475445), (1108, 0.014569435914280632), (3849, 0.014567430709241946), (3013, 0.014564770231324235), (1526, 0.014562350669823957), (206, 0.014560275841787932), (918, 0.014554391165539414), (4003, 0.014548436780483105), (4511, 0.014537416271158737), (1128, 0.014521777983251116), (2444, 0.014515306547602152), (4307, 0.014500899304977355), (4324, 0.014498468213292358), (2729, 0.014497967104628674), (1420, 0.01449286105805), (2808, 0.014489714471589707), (1185, 0.01448778345910148), (3784, 0.014479755320395669), (965, 0.014477953873230396), (22, 0.014477005609254624), (1227, 0.014474905000785014), (189, 0.014474542559056038), (1867, 0.014469040337461372), (1645, 0.014460174749126076), (4078, 0.014457039005180285), (4738, 0.01445109586266088), (3781, 0.014441489792047095), (2160, 0.014439469420083185), (1807, 0.014436245136290578), (1849, 0.014433216835728131), (95, 0.014431251822232961), (3156, 0.014423105668441348), (1931, 0.01440697542137585), (3950, 0.01440598840319594), (4286, 0.014402072893085436), (3303, 0.014400775409480088), (689, 0.014398366928094776), (3124, 0.014392987290822508), (1500, 0.01439100175504832), (258, 0.01438779237071542), (282, 0.01438243631088633), (3845, 0.014374584345800108), (2480, 0.0143724176893332), (1851, 0.014371784536506832), (2698, 0.014371016609728423), (3659, 0.014347075006770816), (1179, 0.014345037665493485), (2056, 0.014344723619949625), (2911, 0.014344614790204076), (4173, 0.01433565547177112), (1436, 0.014329159077418344), (1710, 0.014319374959645902), (1531, 0.014313143829399742), (1364, 0.014303602372993607), (1105, 0.014298719588114576), (4639, 0.014290446844636094), (2202, 0.014286336056050213), (3189, 0.014286317149565252), (164, 0.014282482502514007), (4682, 0.014279729584550946), (3938, 0.014267198880446964), (3569, 0.014263246475824956), (651, 0.014262781202294565), (2501, 0.014258425236408329), (4136, 0.014251131054579817), (3045, 0.01425097341162665), (4035, 0.014247761777406715), (493, 0.014246671390205074), (4357, 0.014245282962014997), (962, 0.014243299251480136), (592, 0.014241149763134002), (1425, 0.014232986743686124), (3870, 0.014229784470300738), (674, 0.014228937175652458), (1446, 0.014221255400705918), (2258, 0.014209168091154382), (4103, 0.014207168290358384), (528, 0.014205334764264079), (93, 0.014204050681794431), (456, 0.014203844173177662), (3330, 0.01419544462057263), (197, 0.0141933707670921), (1440, 0.014192169753928893), (4574, 0.014182046771070997), (3407, 0.014170318503605308), (3511, 0.01416882905155647), (245, 0.014162575669897511), (2268, 0.014160346398577005), (714, 0.014159601824609343), (4217, 0.014157876502445979), (2588, 0.014155294433572328), (319, 0.014148582928354787), (2647, 0.014147127973323575), (3314, 0.014146708360006923), (1919, 0.014144636788465375), (2533, 0.014137851245479234), (287, 0.014136664000617347), (3427, 0.014133127726482293), (2549, 0.014126080595421562), (4314, 0.014125421834897248), (3236, 0.014125201528086622), (3644, 0.014121518754643425), (4013, 0.014109481031052196), (3449, 0.01410689335926111), (3023, 0.014099752578125815), (90, 0.014098381557390207), (1355, 0.014095674894324334), (3743, 0.014092303684852762), (3790, 0.014076633606217621), (4256, 0.014074466077092344), (1793, 0.014062469699155079), (2950, 0.014061605835697981), (4283, 0.01405874202236292), (2270, 0.014048479314922206), (1611, 0.014044424931600975), (59, 0.014041175584032204), (4205, 0.014035040209751373), (1519, 0.014030759880957677), (3392, 0.014019890579823998), (643, 0.014018725270046486), (1864, 0.01401522763089056), (4110, 0.014013034338372534), (806, 0.014008313361527403), (3504, 0.014000947564755726), (539, 0.013986940549610371), (3654, 0.013981038029980162), (3399, 0.013972507864041046), (2292, 0.013956881607059435), (3242, 0.013954601679183271), (2226, 0.013949221742038309), (4566, 0.013946128366521798), (2354, 0.013944046271925312), (4112, 0.013940554966757054), (248, 0.013937117104369881), (2653, 0.013934331115031314), (3184, 0.013933862830372108), (4183, 0.013929943729176848), (3294, 0.013929670694934398), (1220, 0.013925233348987617), (260, 0.013918033889608925), (3061, 0.013916305031173247), (1255, 0.01391508817617777), (4319, 0.013891855211903397), (3909, 0.013887691299744279), (2471, 0.013876019205996697), (4439, 0.01387419331595775), (3700, 0.01387337589135076), (613, 0.013870158455771693), (2153, 0.013869014237931925), (2062, 0.013865220627170223), (4550, 0.013864278728990214), (2175, 0.01385909346710282), (4257, 0.01385314435952488), (3104, 0.013843467529335025), (114, 0.013837061915225948), (2804, 0.013836836355770005), (2291, 0.013828223381098664), (2143, 0.013826419795895275), (1447, 0.013823479412533647), (4563, 0.013811645809344767), (2752, 0.01380289940892997), (2110, 0.013788394258656108), (261, 0.01377794173496686), (3351, 0.01377771173890408), (185, 0.013776228912712438), (4242, 0.013769769418723583), (861, 0.013765131721094904), (2298, 0.013759419415385145), (1746, 0.01375782576895463), (1247, 0.013756542964586912), (734, 0.013753625809762063), (3367, 0.013745408965340485), (2847, 0.013744211803295544), (3629, 0.013742273806137649), (305, 0.01373897804651009), (971, 0.013730297123102864), (1315, 0.013719368447681464), (4287, 0.01370933626324764), (2284, 0.013701480384926402), (2119, 0.013699405374415566), (1211, 0.013698857471242932), (2616, 0.013686303715341134), (2171, 0.013677141951432811), (4754, 0.013667648781287213), (71, 0.013664784737279558), (2014, 0.013644752926800743), (3773, 0.013642831430344619), (4106, 0.013642823511185129), (1921, 0.01362412476645007), (4459, 0.013623769320291702), (3825, 0.013621573380718687), (1113, 0.013619931352021532), (1508, 0.01361436127299865), (3607, 0.013605480752899418), (1235, 0.013600951204368167), (780, 0.013598302730300108), (310, 0.013590690010217874), (1166, 0.013588837577729268), (3888, 0.0135877437277203), (198, 0.01356746964285628), (2607, 0.01355563610210388), (1592, 0.013550590057538522), (637, 0.013543340580666734), (1207, 0.013531009178989101), (4253, 0.013529286577727407), (1686, 0.013518364052473161), (811, 0.013507797623688832), (2290, 0.01349976420065818), (766, 0.013497332906995169), (529, 0.013491327199434286), (2107, 0.01349068027439686), (2853, 0.01348032805444905), (1256, 0.013477870995150092), (1647, 0.013476527670926414), (2203, 0.013472202292744241), (2279, 0.013469854647657892), (832, 0.013460291211161867), (3293, 0.01345765003561551), (954, 0.013457565455401756), (3517, 0.013456043273010632), (3149, 0.013445620375090145), (4582, 0.013440444688065493), (3865, 0.013438780638531251), (183, 0.013430937782747985), (1001, 0.013429281079868918), (4147, 0.013429007064036855), (211, 0.013428889385832692), (2150, 0.01342056610480567), (1477, 0.013420565474460112), (4057, 0.013409433017835771), (276, 0.013388405317436071), (1778, 0.013386586611858467), (3839, 0.01338369588911192), (390, 0.013383473912895471), (1081, 0.013378255363813256), (693, 0.013376707006547042), (2422, 0.013376176340508578), (1898, 0.013375626885064664), (2874, 0.013364302176279775), (939, 0.013362313528602041), (1715, 0.01335973793118956), (2651, 0.01335691424709004), (2931, 0.013350609057957364), (2666, 0.013347205720279578), (1857, 0.013345620068982525), (1367, 0.013339523475295368), (4587, 0.013334674311201411), (583, 0.01333352582176685), (3795, 0.01332028119844891), (3232, 0.013319165593710918), (540, 0.013305859802539007), (3500, 0.013303973907027904), (2139, 0.013295660284335896), (3302, 0.013295524055724907), (3077, 0.013290571841212313), (4193, 0.013284051062135899), (4117, 0.013279278358640787), (3656, 0.013276310841531743), (687, 0.013275314992398228), (2802, 0.013274259460295122), (4502, 0.01327414973398653), (4320, 0.013273575392065107), (1684, 0.013268445143016587), (2011, 0.0132626429908309), (3880, 0.01326249598368891), (2093, 0.013255226529162539), (463, 0.01324433790644884), (859, 0.013244120764838732), (1430, 0.013229506113579865), (4451, 0.013226995364815846), (1797, 0.013225840865234487), (2929, 0.01321360437957332), (1895, 0.013188870255048673), (665, 0.013184956557098011), (1095, 0.013182748093267055), (2020, 0.013175704344695113), (1771, 0.013171255723905463), (3047, 0.013165902779424685), (973, 0.013163860834609846), (1126, 0.013160294801132223), (1888, 0.013155503813739602), (1693, 0.013154954255021618), (4409, 0.013147170572575577), (2496, 0.013141846104356708), (2779, 0.013138377206726316), (147, 0.013133923345760235), (46, 0.013128754131191493), (1312, 0.013119708202475362), (4159, 0.01311692045026463), (1136, 0.013116144858669262), (4475, 0.013104906504996433), (988, 0.013102568909724287), (3361, 0.013086747230259679), (3135, 0.013075806422883706), (2367, 0.01307426963021867), (1468, 0.01306150321788218), (3748, 0.013051534877198444), (94, 0.013041853975452848), (1571, 0.013036062148083295), (979, 0.013034151227192495), (1438, 0.013029841799591173), (225, 0.013003639879069686), (2068, 0.012991785806218004), (676, 0.01298932502409976), (501, 0.012973745407608976), (2584, 0.01297045454396634), (1209, 0.012967617218594919), (2594, 0.012954099338945807), (1295, 0.012952921041992188), (4177, 0.012951408557040115), (773, 0.012946387534334186), (2995, 0.012942908732324378), (2933, 0.012942745301899237), (417, 0.012932251908056708), (569, 0.012931594020450219), (4525, 0.012930585043475305), (2975, 0.012921396315862761), (445, 0.012920148922110491), (1550, 0.012909675459227127), (1025, 0.012903423587994216), (3923, 0.01290291284273299), (3099, 0.012892309857794645), (1354, 0.012864644289602704), (1553, 0.012863096282602378), (2692, 0.012859412564061545), (1543, 0.012854280877880033), (577, 0.012854044207527815), (1819, 0.012847438847923649), (741, 0.012841847959423206), (426, 0.012839151860362285), (2004, 0.01283212144448119), (1507, 0.012830419827580927), (2433, 0.012820062782696668), (2098, 0.012803857660760273), (2389, 0.012801313137703097), (4382, 0.012797811030198575), (1492, 0.01278446243200306), (4164, 0.012782455734159806), (1987, 0.012772297237530917), (471, 0.012765293940719295), (1018, 0.012763960350433869), (3711, 0.01275474670057043), (4627, 0.012752621517026995), (3409, 0.0127471932838204), (1784, 0.012743183091894055), (3177, 0.012743011604916638), (31, 0.01273818609589292), (1863, 0.012727082689981272), (604, 0.012720622470647619), (116, 0.012718192026053622), (3057, 0.01268381370271983), (732, 0.01267865919524114), (3651, 0.012674955101959389), (2771, 0.012673755809090583), (1824, 0.012670523778874825), (4158, 0.012666596610738257), (549, 0.012648211023300385), (3474, 0.012643859936022466), (1291, 0.012641901472794918), (4385, 0.012631601442321398), (4650, 0.012628278921605448), (175, 0.012617809371316707), (3927, 0.012617564136977562), (3, 0.012612419358631138), (589, 0.012609386054618638), (290, 0.012600592592095144), (3957, 0.012600233427156687), (2598, 0.012594247633882368), (3574, 0.012580136023653205), (4479, 0.012576333447405733), (33, 0.01257052222122975), (3559, 0.012560596709010696), (2542, 0.012548726878390268), (2852, 0.012547396021447315), (1352, 0.012539168444642201), (3853, 0.012538494255235028), (177, 0.012522349085978197), (1555, 0.012513244961670285), (2621, 0.012509961925965632), (2070, 0.012494493272580738), (3821, 0.012488589747321605), (1037, 0.012485381600871363), (3117, 0.012483493539865368), (3614, 0.012476820775939085), (3932, 0.012469926429451016), (1387, 0.012463882961143207), (3222, 0.012458874302031025), (441, 0.012458673526886217), (2457, 0.012454850486975352), (601, 0.012452720393909503), (2065, 0.012446958360221139), (1745, 0.012439773233164978), (3960, 0.012436968885249677), (1453, 0.012429169423410746), (497, 0.012427388504040422), (1200, 0.012419402159268346), (3713, 0.012394857863745763), (2608, 0.012394543022906932), (4610, 0.012390538109681453), (563, 0.012380245512217444), (1317, 0.012378847423642028), (2789, 0.012377314450441955), (3344, 0.012377094010641755), (2985, 0.012359800787377173), (3657, 0.012351756356649882), (3164, 0.012346281817805355), (2043, 0.012336527801622223), (640, 0.012325113178077753), (3980, 0.012322917396352641), (1950, 0.012302543849000015), (136, 0.012294541069348398), (2665, 0.012287145585083885), (2822, 0.01227548375004241), (1038, 0.01227319445762789), (2159, 0.01226362468699524), (839, 0.012256695088309363), (1606, 0.01224693490074472), (3254, 0.012246658615454117), (158, 0.012235295130690677), (2318, 0.012234199547760997), (810, 0.012221660358356859), (1149, 0.012203470056721014), (3485, 0.01217446517369815), (3924, 0.01216685315162351), (302, 0.01213771477552194), (4626, 0.012137664654613623), (1763, 0.012130732699069086), (1309, 0.012125311940817247), (1409, 0.012118834430418094), (1301, 0.012104942854303632), (2507, 0.012083967192489015), (4079, 0.012081493667716405), (2263, 0.012051370293706338), (234, 0.01205016948249641), (314, 0.012030594629289574), (725, 0.011985641528561929), (2654, 0.011985336624389156), (1563, 0.011970806756253652), (412, 0.01197069559727406), (1679, 0.011966131256212976), (639, 0.011960622698418313), (3529, 0.01193810760051821), (2761, 0.011906052170432651), (2196, 0.011903399195875313), (3393, 0.011889166332336673), (2104, 0.011886495994452056), (2776, 0.011883182825981624), (1144, 0.01187477161356592), (617, 0.011868986981056324), (4232, 0.011868491236789692), (2817, 0.01186061905035264), (2053, 0.011860038452646106), (376, 0.011844280276399763), (4551, 0.011829112231083742), (792, 0.011826811339848406), (3430, 0.011817799418135908), (3229, 0.011807389080895774), (168, 0.01180202744450268), (1356, 0.01179897724844671), (2753, 0.011788826317469659), (3113, 0.011761797359501995), (70, 0.01175683775191335), (2996, 0.011743830576229243), (3678, 0.01171995849608263), (1040, 0.011704083745107676), (3224, 0.011683878986976643), (2809, 0.011676623882803999), (2296, 0.0116696702179539), (1695, 0.01166786792653363), (239, 0.011667631848093472), (469, 0.011667563166558901), (16, 0.011655124983975204), (2010, 0.011630792064821455), (4420, 0.01161710705975197), (4378, 0.011617036120610044), (1747, 0.011616765288135152), (289, 0.01159961968752947), (430, 0.011597728384945459), (2842, 0.011580847406808292), (2460, 0.011577273214506821), (3144, 0.011562635114519172), (1886, 0.011558993227137025), (1859, 0.011550665942125709), (3316, 0.011518662009390593), (4756, 0.011480146525303804), (1777, 0.011471980166702993), (4677, 0.01140525638624869), (2617, 0.0113967144468616), (3882, 0.011393129085996304), (4744, 0.011378161583753633), (853, 0.011368836793228518), (3585, 0.011365352602151239), (1411, 0.011361242031495513), (2132, 0.01134825191191063), (4241, 0.011295153719790051), (2813, 0.011282714634090873), (807, 0.011282232647135987), (1574, 0.011236710445408757), (4567, 0.011195863721024312), (1100, 0.011190308140022864), (3538, 0.01113137360416759), (4736, 0.01111802584022513), (404, 0.011105574610380774), (2122, 0.011101861579532272), (494, 0.011100334736193113), (414, 0.011093885783728741), (3452, 0.011078871686138247), (2912, 0.011062674213437103), (3966, 0.011047129687282121), (2550, 0.01103772963497678), (1804, 0.01102700928197539), (3746, 0.01102499873688768), (1561, 0.01102044292200371), (4623, 0.011016256235544475), (3195, 0.011003388762755051), (2663, 0.011000187098635955), (1133, 0.010975951349624676), (2329, 0.010940951968390431), (1431, 0.010926455327278825), (3665, 0.010925827701095377), (3487, 0.010925506788985663), (3439, 0.010917697031841863), (1651, 0.010904870793799435), (223, 0.010894006101764714), (2324, 0.01088975680683914), (2064, 0.010836672232379932), (1306, 0.010818444882882635), (3010, 0.010805007388018617), (790, 0.010751582310086025), (1130, 0.01074661589123277), (3014, 0.010729177660333019), (837, 0.010712171850830598), (1404, 0.010649011663899921), (2829, 0.010646186868567924), (3338, 0.010633616802019547), (3412, 0.010627503455580622), (132, 0.010625342512606727), (1632, 0.010624060723878136), (2100, 0.010614254660729147), (1451, 0.010562148811393468), (2327, 0.010559451297306304), (167, 0.01055369314922916), (4374, 0.010525118186230822), (972, 0.010521684938226613), (240, 0.010506844781324975), (3370, 0.01050287012308499), (1210, 0.010488680555415275), (4155, 0.010487777695759377), (2347, 0.01048560904169762), (1029, 0.01046309453401049), (243, 0.010459642141075299), (2311, 0.010455137209929778), (311, 0.010435980439020864), (3854, 0.010418773949970673), (4441, 0.01040625706139891), (829, 0.010398965278714969), (940, 0.010344149489930603), (3705, 0.010303462483320107), (4418, 0.010296322296280908), (3120, 0.010288228965552752), (1584, 0.010252715672007258), (2514, 0.010243710696090817), (352, 0.010243451958179807), (4455, 0.010215153302498073), (2525, 0.010200075068979748), (1392, 0.010182930441747636), (4143, 0.010180575500774842), (3411, 0.01016496552791495), (1865, 0.010160128451756786), (3716, 0.010152918671064912), (2262, 0.010150658967057016), (1008, 0.010145043420809354), (647, 0.01014257110047206), (285, 0.010136638311275294), (2845, 0.01011924215602099), (2686, 0.010119090936144933), (4426, 0.010114724708809768), (2636, 0.010112602411343555), (3578, 0.010100374491331636), (4109, 0.010083472684289458), (1816, 0.01007194358630536), (1506, 0.010066115491347448), (1652, 0.01002745737902604), (1362, 0.010006674700703736), (1213, 0.009964044420322718), (4074, 0.009963489341590363), (2580, 0.009946417217230519), (912, 0.009936729043665082), (1569, 0.009895560757573368), (1978, 0.009844808604662976), (2801, 0.00982139707748854), (3638, 0.009754609914759418), (1559, 0.009660627799241818), (3835, 0.009659445151197406), (1051, 0.009643647617283445), (3674, 0.009633675760680515), (1925, 0.009629221189432446), (2927, 0.009622094663082018), (2204, 0.009601563673381166), (1042, 0.009558572249828787), (129, 0.009465059925603465), (751, 0.009443728259769147), (2326, 0.009442920184684117), (3223, 0.009417837580734634), (3377, 0.0094091818908589), (2532, 0.009407971625698607), (419, 0.009380599482729126), (4516, 0.009341598092061235), (368, 0.00929157815491621), (4705, 0.009275700084516404), (24, 0.009268258574446908), (4269, 0.00924911155139221), (1344, 0.009227921444479098), (3328, 0.009227801585332145), (4086, 0.00922349576454042), (461, 0.009221074712124534), (2806, 0.009213546548163637), (1586, 0.009176396296216732), (1758, 0.009140995938664628), (1646, 0.00912796541787881), (4160, 0.00912224060292485), (4118, 0.009088067726907914), (440, 0.009081028894765572), (1601, 0.009073701678674762), (4535, 0.009048460132249535), (365, 0.009011917409845461), (4491, 0.009007138024914886), (4130, 0.009005594325026811), (686, 0.008999060822849538), (1999, 0.008985900302127647), (4031, 0.008976096928602705), (4034, 0.00895564090436613), (3877, 0.008929491685139903), (351, 0.008906538120838584), (3628, 0.00890546916627811), (2755, 0.008875782727657081), (3703, 0.00887076894727756), (1277, 0.008870699570796677), (1474, 0.008857868972457258), (4323, 0.008854849012633687), (591, 0.008814766283454428), (4454, 0.008808835467531428), (2960, 0.0088060574020403), (3444, 0.00879062199978038), (3587, 0.008768722120087998), (881, 0.008761072453055702), (3115, 0.00872441641511571), (2220, 0.008719218668475274), (3185, 0.008658626266252648), (1955, 0.008654378737229023), (1844, 0.008651795499374958), (2337, 0.008645512631741322), (2451, 0.008623220031714231), (947, 0.008616732563307137), (3461, 0.008608801336671428), (1932, 0.008593594837292272), (2671, 0.008585512130020016), (1333, 0.008582801348673478), (1731, 0.008578312384626474), (4445, 0.008577222121540063), (4478, 0.008575640284975785), (903, 0.008575230097159367), (1388, 0.008570553998024776), (3208, 0.008538098142317846), (1324, 0.00852148578865597), (4202, 0.008512357735395682), (297, 0.00849071298687151), (401, 0.008474305580222228), (17, 0.008473757950284856), (4703, 0.008470402669691861), (2609, 0.008460215151785161), (1013, 0.008456797252647827), (361, 0.008435840003928571), (4492, 0.008435128618919605), (4288, 0.008430549014723414), (1389, 0.008418544566854841), (603, 0.008410808862626034), (3735, 0.00841015916603417), (2504, 0.00839666117765916), (2667, 0.008377685968614058), (2725, 0.008376831355669545), (2283, 0.008371178784589818), (219, 0.008369431317508457), (4347, 0.008352441982469493), (4457, 0.008350092718608012), (4168, 0.008345943420000041), (3482, 0.008344561972019469), (2569, 0.008305607112923873), (996, 0.008297925118046296), (1889, 0.00829488571741568), (1965, 0.008284988490250134), (2768, 0.00827399531444524), (2657, 0.00824354636209539), (2659, 0.008236410975335555), (3871, 0.008233242670100734), (3805, 0.008219299288943238), (1351, 0.008202547232610198), (3917, 0.008200966241111461), (27, 0.008190464605814057), (2641, 0.008179758887739239), (55, 0.008177094565446992), (54, 0.008172065856393193), (3058, 0.008149476528923198), (299, 0.008138888675053815), (2887, 0.008132764063855635), (1459, 0.008114140293508706), (720, 0.008108818805842006), (4218, 0.008099034101947247), (909, 0.008098390415511046), (4195, 0.008091027390290483), (610, 0.008079841632498022), (1287, 0.008066526265197558), (3715, 0.008053246646541128), (3492, 0.008051013659194792), (724, 0.008045614181921294), (4428, 0.008028454388663103), (2275, 0.008023576538123597), (3635, 0.00801832102107296), (1373, 0.008008480589027249), (1022, 0.007999653953016753), (4036, 0.00799888165430027), (3641, 0.007989067453126115), (2450, 0.007962119723903965), (3685, 0.007960118943717637), (2922, 0.007951050403530514), (241, 0.007929717174568869), (1738, 0.007925495418402434), (2763, 0.00792260168469007), (1566, 0.007914049039930393), (1272, 0.00791331686479598), (171, 0.007910155961974117), (3397, 0.007897557348627153), (3472, 0.00789483619896509), (1598, 0.007879218087548637), (2590, 0.00786646664036732), (1490, 0.007855071745833593), (4709, 0.00785068021950716), (2600, 0.007830681355177244), (852, 0.00781985440136393), (3141, 0.007818312899885183), (3454, 0.007803040233158232), (4482, 0.00780017980681102), (935, 0.007795328299851932), (4588, 0.007793191259788499), (4152, 0.007766246544564418), (2795, 0.007765213833994033), (2645, 0.007758903766502861), (1358, 0.007745980973862032), (3991, 0.0077392612275527), (2521, 0.007717484915869377), (1607, 0.007713030888476747), (179, 0.007708276859423625), (1855, 0.007683686767426178), (409, 0.007661879584790866), (3726, 0.007644189765939382), (2415, 0.007633570652727953), (4723, 0.007628304770592356), (2363, 0.007627125229247165), (546, 0.007625642909026067), (45, 0.007605658437489771), (4569, 0.00760116994704846), (4631, 0.007584689332836829), (4221, 0.007580849036855447), (53, 0.007573798035090499), (2183, 0.0075475352028083345), (608, 0.007512445523428251), (3718, 0.007488529896736225), (2741, 0.007474355499293885), (1067, 0.00746431214630051), (2864, 0.007462321562721649), (1079, 0.007457925138736984), (920, 0.007457760907966703), (4698, 0.0074445775563605834), (1521, 0.0074355513357616644), (3275, 0.007412988653804261), (202, 0.007374554864876798), (904, 0.00733477492507263), (37, 0.00733380022447263), (951, 0.007330861858479258), (457, 0.0073128410557513285), (2778, 0.00730446319307405), (4490, 0.0073015962266890925), (1258, 0.0073010863410772195), (3785, 0.0072940206669525895), (2581, 0.0072687722457802206), (3168, 0.007257654441966652), (1288, 0.007256591969977463), (4519, 0.007234763936374599), (364, 0.007230685711013987), (4477, 0.007221644170674015), (3327, 0.007220878598839213), (257, 0.007211865533700107), (4619, 0.007203770939839496), (2077, 0.0071911556888635654), (1050, 0.007174334761850807), (3588, 0.00716660895374616), (699, 0.007165025356012731), (4653, 0.007149621623326427), (2352, 0.0071483388680223135), (3165, 0.007118339660492347), (2468, 0.007116308052369472), (3947, 0.0071141272819489456), (4244, 0.007097007430823377), (3383, 0.007094987095660907), (3708, 0.007075475221823141), (91, 0.007064916784942512), (2188, 0.007060478453273552), (4589, 0.007053064628373453), (3394, 0.007028055915358357), (3064, 0.007018949608371457), (1540, 0.007002869648859577), (2459, 0.007002836506323883), (3263, 0.007000156697501576), (4293, 0.00698825604883545), (4285, 0.006979376268984562), (2006, 0.006959757890520987), (795, 0.006958324016514891), (4642, 0.006948504064241245), (58, 0.006945823346976657), (1941, 0.00692729531422827), (2676, 0.006913529849635236), (2810, 0.006913446802123182), (3453, 0.006900618163661769), (3022, 0.006899131718696215), (1581, 0.006897805998099057), (1815, 0.006894910178352467), (2881, 0.0068906506207588505), (2670, 0.006884821216037999), (2034, 0.0068796642047118965), (3059, 0.0068748170354423245), (4276, 0.006868991072715813), (2127, 0.006865511491666424), (905, 0.006855284971381035), (2364, 0.006847099448661776), (4131, 0.006844757246388108), (726, 0.006824436313582263), (2476, 0.00682202410665009), (3440, 0.0068215625637665644), (512, 0.006820934647949438), (3869, 0.006819386992197524), (2720, 0.006818657114671635), (2180, 0.006815647841463725), (1560, 0.00681258067241318), (458, 0.006807744701170634), (753, 0.006806608766456976), (4453, 0.006798713737035707), (4121, 0.006775848997674813), (3312, 0.006773276450182107), (682, 0.006770361277836229), (2493, 0.0067572516450919145), (1591, 0.00675703188516963), (1681, 0.00674775394847517), (2754, 0.00674060828652088), (2082, 0.00673882476423678), (2576, 0.006730588766585523), (2943, 0.006717729734904664), (2947, 0.006705856735227789), (1968, 0.006703696483472458), (2012, 0.006691245652338351), (3468, 0.006690885427407123), (2710, 0.006687665933625928), (3846, 0.006685015654876537), (2840, 0.006682587694409901), (38, 0.006682554744361549), (128, 0.0066464097989245765), (139, 0.006637047962245751), (48, 0.0066328944681947645), (1091, 0.006601518191566928), (2383, 0.006594520577672978), (4116, 0.006583105108377958), (3191, 0.006574281215071673), (2021, 0.006564918577377408), (1989, 0.006563191144805098), (2361, 0.006563152946077865), (688, 0.0065615216355668), (1822, 0.006559336771774541), (2243, 0.006547901350964319), (210, 0.006540212192036407), (3593, 0.006530010357941584), (1894, 0.006529795426671316), (729, 0.006522677475385551), (1883, 0.0065209092332078646), (3112, 0.006519232817955565), (3862, 0.006513705548178156), (1976, 0.006512290541539456), (2880, 0.00650121903456247), (1511, 0.006499902788816495), (3676, 0.006492671761890295), (4384, 0.0064812380749501505), (4119, 0.006477947067760003), (4249, 0.006474790393513819), (10, 0.0064708139503917685), (180, 0.006470330419540936), (2819, 0.006470265677079369), (1687, 0.006469471236514425), (3438, 0.006458335753931826), (1513, 0.006447699298086423), (4630, 0.006447151827181265), (2626, 0.0064456466753389985), (4046, 0.006434669478201725), (1736, 0.006434335107904666), (2811, 0.0064339611694783656), (1537, 0.006431820316305151), (992, 0.006426186162711941), (3310, 0.006419317947213375), (673, 0.006412971499181377), (1432, 0.0064071612383695895), (4312, 0.0064017953036980295), (3210, 0.00639686790606324), (1174, 0.006396773444623926), (986, 0.006395691752684475), (2714, 0.00639560949665895), (1659, 0.006393900858937966), (926, 0.006389899760821247), (848, 0.006383792503102433), (595, 0.0063822127617815545), (4586, 0.006381554004684985), (3259, 0.006378726776731803), (123, 0.006378408948406624), (4094, 0.006377097549201475), (3771, 0.006375728599461866), (1454, 0.006374371530700602), (3374, 0.006374063354172074), (2044, 0.006373878863008013), (4430, 0.00636644080669501), (2959, 0.006361681587639028), (728, 0.006359006389757773), (1727, 0.006358730716987108), (891, 0.006354102418109452), (1732, 0.006354006830660074), (2963, 0.006353727676312378), (3710, 0.006349570720729593), (513, 0.00634877244147912), (4005, 0.006342268098396579), (4038, 0.006341354688535587), (3451, 0.0063411259619748864), (3798, 0.006339851584741659), (1735, 0.00633828289532959), (3724, 0.0063359752153068615), (4629, 0.0063276357339793685), (1853, 0.006310346683958684), (4379, 0.006307077725134961), (913, 0.006302119151451547), (3907, 0.00630210475696043), (1516, 0.00629827061143686), (2233, 0.006292723346268974), (3591, 0.006291822576591244), (4390, 0.006289615203275001), (1734, 0.00628423199728343), (4435, 0.0062769079927871415), (4100, 0.006272790420278575), (1031, 0.0062703995125810204), (3227, 0.006268999112549243), (2083, 0.006264378474616925), (1024, 0.0062626746639577), (2091, 0.006249510862267305), (4045, 0.006243938483242227), (3642, 0.00624075180954155), (3507, 0.006234250555791684), (1949, 0.006233096519850975), (3514, 0.0062321762252843475), (3432, 0.00623197423762267), (3603, 0.006231527525991578), (2081, 0.0062292683614383285), (2910, 0.006229118749860303), (3241, 0.006221282389278528), (3908, 0.006219605109670321), (220, 0.006217923869228349), (3486, 0.0062119334505257515), (908, 0.0061984480377893945), (3516, 0.006191376475375675), (1122, 0.006186564000338382), (3464, 0.006180650828078877), (1056, 0.006169549023025705), (845, 0.006161327038585389), (4456, 0.006160549826951452), (244, 0.006160225725145527), (3513, 0.006158774795687674), (1484, 0.006156651965800086), (1502, 0.0061563959668921205), (994, 0.006149575014283554), (3332, 0.006147384312287039), (375, 0.006140578064008373), (2217, 0.006131649404221573), (4248, 0.006129074865854187), (1504, 0.006128583025656732), (1335, 0.006128203913351411), (2788, 0.006120849290342493), (1469, 0.006115215397838486), (644, 0.006114231792466763), (4684, 0.006110376659623076), (3131, 0.006105288145988031), (3546, 0.006100445722353904), (560, 0.006095647637641431), (3169, 0.00609220294577476), (3814, 0.006079603787927015), (3297, 0.0060725744051961334), (3937, 0.0060706735637408756), (1252, 0.006069733576675542), (3807, 0.006066562811685363), (1127, 0.006055102674667055), (259, 0.0060536323834488115), (3445, 0.006052253868352994), (825, 0.006050488045216818), (1740, 0.006041503628552896), (869, 0.006039339846278548), (1536, 0.006033773274181843), (2212, 0.0060259543137436995), (516, 0.00602226814843427), (3441, 0.006003339649324584), (4224, 0.006000617583765753), (3955, 0.005999127078707158), (749, 0.005990374965101099), (3978, 0.0059851063030866795), (1338, 0.005981519425984275), (1653, 0.0059810866585251424), (4068, 0.005980903029969452), (1406, 0.005957939079417682), (135, 0.005956608539773932), (1151, 0.005947498323732266), (3555, 0.005943812091990103), (4543, 0.005937826668136652), (2024, 0.005936102513295804), (4503, 0.005935592172821738), (1138, 0.005932989063703966), (3531, 0.005925670291538975), (3126, 0.005925432851147818), (2885, 0.005924558043028233), (4037, 0.005916217655763472), (4310, 0.005915744532115522), (3720, 0.005908413413836186), (4012, 0.005902703991401449), (2178, 0.005901272591898718), (1483, 0.0058997102106407235), (4148, 0.005897518544309137), (2787, 0.00589738278651176), (1337, 0.005895534096304092), (1527, 0.00589551088877236), (1442, 0.00588993838959901), (554, 0.005884773777887513), (2825, 0.0058821559972186644), (4264, 0.0058786261020912145), (451, 0.005877618869774444), (727, 0.005870040591621653), (3605, 0.005867631848043539), (39, 0.005864540698261529), (3343, 0.005863550840371348), (1749, 0.005859451911275547), (2232, 0.005857095946488916), (1044, 0.005846671385519017), (4044, 0.005843942851550496), (619, 0.005839717250490249), (4039, 0.005826814604912771), (1657, 0.005820381741611884), (854, 0.00582030222765307), (4509, 0.0058166270019486006), (2634, 0.005813376758334478), (4673, 0.005812016185756433), (1063, 0.005808019272897424), (3595, 0.005804567976583265), (4481, 0.005802690561305646), (4328, 0.0058023526831147065), (2184, 0.0058007571592195144), (1274, 0.00579466766032016), (4600, 0.0057945729584567935), (690, 0.005790136312452577), (1544, 0.005786656800846132), (1230, 0.005781584368012804), (2674, 0.005765954005460975), (1545, 0.0057624905862562826), (2429, 0.0057591145213248185), (2166, 0.0057556636843034675), (1665, 0.005755607338398345), (2791, 0.005755532624187237), (4591, 0.00574620519932882), (84, 0.0057449567013297485), (1154, 0.005738004263943784), (1796, 0.005733041111724563), (1183, 0.005728509132913336), (1082, 0.005725863733858461), (3660, 0.0057224437069690395), (500, 0.005714544312935534), (866, 0.0057046484545604705), (3465, 0.005697612236573031), (1973, 0.005689298748212804), (827, 0.005686297378550537), (2711, 0.005679041368052247), (492, 0.005664993409451592), (974, 0.005664838535469267), (2862, 0.00566464144821702), (1066, 0.005658761012357282), (4553, 0.005657590055663188), (2971, 0.00565520952890151), (4690, 0.005635825454340063), (2424, 0.005635793547606249), (2899, 0.005618801387054057), (170, 0.0056137912251659995), (4450, 0.005612263226527331), (3466, 0.005609008422497618), (1065, 0.005597707097046139), (1680, 0.005595702807424214), (1076, 0.0055903876297280905), (4608, 0.005586970994637938), (2224, 0.005580968069960118), (3267, 0.005580564761320894), (3993, 0.005577471693401374), (397, 0.005573442766415036), (632, 0.00556638734713102), (382, 0.005551442912681534), (1054, 0.005542576881216598), (548, 0.005526397257509348), (3070, 0.005523285855528545), (515, 0.005521878082753425), (2718, 0.005513361823807368), (3306, 0.005503876812942219), (3193, 0.005501023366817609), (3738, 0.0054894827499978455), (2315, 0.005484461111430229), (3860, 0.005482255976382464), (3143, 0.005479684918534007), (3525, 0.005470511795430769), (495, 0.005468316856185768), (4429, 0.005464494407001984), (1627, 0.005457908916475637), (1092, 0.0054546190055627455), (997, 0.00545115003285056), (3247, 0.005446644079491547), (1384, 0.005440437688346503), (851, 0.0054256451900453195), (148, 0.005421322175758168), (1281, 0.00541863910090323), (2274, 0.005399006668143002), (379, 0.005388874140037368), (1348, 0.00538790462089538), (3693, 0.005384971717731629), (1546, 0.005379343292797261), (2033, 0.005347526778892214), (1971, 0.0053469956906394885), (1290, 0.00534526814728739), (1164, 0.005343194583127354), (803, 0.005336066768097829), (3336, 0.005327522790704206), (333, 0.00531727468032544), (779, 0.005288850898498607), (4733, 0.005279253996502936), (653, 0.005278178035258261), (3776, 0.005261642078942845), (2913, 0.005223685425420327), (165, 0.005221495744710503), (4432, 0.005219730148540356), (3339, 0.005202222016578229), (1241, 0.005179875552138312), (4114, 0.00517967733279767), (2412, 0.005179615037219406), (1212, 0.0051545807705148374), (3684, 0.005147235284288453), (1828, 0.005134110134560873), (723, 0.00510294527208314), (2025, 0.005100053655284603), (1535, 0.005079070422309499), (1530, 0.005077755296097931), (2622, 0.005077326924591317), (1781, 0.005043605732040914), (1010, 0.0050429187171683355), (3213, 0.005039172877393779), (2573, 0.005023292225849006), (394, 0.005003440808128347), (3645, 0.004996845039261343), (1728, 0.004977473700773624), (1320, 0.004959897108447825), (1137, 0.004872372984094609), (2078, 0.00485422693241729), (668, 0.0047918702464777654), (294, 0.004754329341549746), (1276, 0.00452119543563), (1153, 0.004466342352899981), (4261, 0.004457471692522565), (3429, 0.004343904047728098), (3365, 0.004338507166978959), (2544, 0.0041467429413015065), (4, 0.0), (5, 0.0), (8, 0.0), (11, 0.0), (12, 0.0), (13, 0.0), (14, 0.0), (20, 0.0), (21, 0.0), (23, 0.0), (26, 0.0), (28, 0.0), (30, 0.0), (42, 0.0), (47, 0.0), (49, 0.0), (50, 0.0), (51, 0.0), (52, 0.0), (61, 0.0), (64, 0.0), (66, 0.0), (72, 0.0), (74, 0.0), (77, 0.0), (81, 0.0), (89, 0.0), (97, 0.0), (98, 0.0), (99, 0.0), (100, 0.0), (103, 0.0), (107, 0.0), (110, 0.0), (111, 0.0), (112, 0.0), (115, 0.0), (117, 0.0), (120, 0.0), (126, 0.0), (127, 0.0), (133, 0.0), (134, 0.0), (140, 0.0), (141, 0.0), (145, 0.0), (146, 0.0), (149, 0.0), (154, 0.0), (157, 0.0), (166, 0.0), (172, 0.0), (176, 0.0), (187, 0.0), (188, 0.0), (190, 0.0), (195, 0.0), (196, 0.0), (200, 0.0), (205, 0.0), (207, 0.0), (213, 0.0), (214, 0.0), (215, 0.0), (221, 0.0), (226, 0.0), (227, 0.0), (228, 0.0), (235, 0.0), (236, 0.0), (238, 0.0), (246, 0.0), (249, 0.0), (250, 0.0), (253, 0.0), (255, 0.0), (256, 0.0), (262, 0.0), (265, 0.0), (267, 0.0), (268, 0.0), (270, 0.0), (272, 0.0), (281, 0.0), (291, 0.0), (293, 0.0), (304, 0.0), (308, 0.0), (312, 0.0), (318, 0.0), (326, 0.0), (331, 0.0), (335, 0.0), (344, 0.0), (347, 0.0), (348, 0.0), (349, 0.0), (357, 0.0), (360, 0.0), (366, 0.0), (367, 0.0), (369, 0.0), (370, 0.0), (371, 0.0), (372, 0.0), (378, 0.0), (380, 0.0), (384, 0.0), (387, 0.0), (388, 0.0), (389, 0.0), (393, 0.0), (395, 0.0), (396, 0.0), (398, 0.0), (405, 0.0), (408, 0.0), (410, 0.0), (411, 0.0), (415, 0.0), (416, 0.0), (420, 0.0), (421, 0.0), (422, 0.0), (423, 0.0), (427, 0.0), (429, 0.0), (431, 0.0), (432, 0.0), (436, 0.0), (438, 0.0), (439, 0.0), (443, 0.0), (444, 0.0), (447, 0.0), (450, 0.0), (453, 0.0), (454, 0.0), (459, 0.0), (460, 0.0), (462, 0.0), (473, 0.0), (474, 0.0), (479, 0.0), (481, 0.0), (483, 0.0), (484, 0.0), (486, 0.0), (488, 0.0), (489, 0.0), (502, 0.0), (503, 0.0), (504, 0.0), (505, 0.0), (507, 0.0), (509, 0.0), (510, 0.0), (518, 0.0), (520, 0.0), (526, 0.0), (531, 0.0), (535, 0.0), (536, 0.0), (541, 0.0), (543, 0.0), (544, 0.0), (552, 0.0), (556, 0.0), (557, 0.0), (558, 0.0), (559, 0.0), (564, 0.0), (571, 0.0), (573, 0.0), (574, 0.0), (575, 0.0), (576, 0.0), (578, 0.0), (580, 0.0), (581, 0.0), (584, 0.0), (585, 0.0), (586, 0.0), (587, 0.0), (588, 0.0), (593, 0.0), (596, 0.0), (606, 0.0), (607, 0.0), (611, 0.0), (624, 0.0), (625, 0.0), (626, 0.0), (627, 0.0), (628, 0.0), (633, 0.0), (636, 0.0), (638, 0.0), (642, 0.0), (645, 0.0), (646, 0.0), (649, 0.0), (650, 0.0), (652, 0.0), (654, 0.0), (655, 0.0), (658, 0.0), (659, 0.0), (662, 0.0), (667, 0.0), (675, 0.0), (677, 0.0), (678, 0.0), (679, 0.0), (680, 0.0), (685, 0.0), (694, 0.0), (695, 0.0), (696, 0.0), (702, 0.0), (703, 0.0), (704, 0.0), (708, 0.0), (709, 0.0), (711, 0.0), (712, 0.0), (718, 0.0), (721, 0.0), (722, 0.0), (731, 0.0), (733, 0.0), (735, 0.0), (736, 0.0), (739, 0.0), (740, 0.0), (743, 0.0), (746, 0.0), (747, 0.0), (754, 0.0), (760, 0.0), (761, 0.0), (764, 0.0), (767, 0.0), (768, 0.0), (770, 0.0), (771, 0.0), (777, 0.0), (781, 0.0), (783, 0.0), (784, 0.0), (785, 0.0), (786, 0.0), (789, 0.0), (791, 0.0), (796, 0.0), (797, 0.0), (798, 0.0), (799, 0.0), (801, 0.0), (802, 0.0), (805, 0.0), (813, 0.0), (815, 0.0), (816, 0.0), (818, 0.0), (819, 0.0), (820, 0.0), (828, 0.0), (830, 0.0), (831, 0.0), (836, 0.0), (841, 0.0), (855, 0.0), (857, 0.0), (858, 0.0), (860, 0.0), (862, 0.0), (863, 0.0), (873, 0.0), (876, 0.0), (877, 0.0), (879, 0.0), (882, 0.0), (884, 0.0), (885, 0.0), (886, 0.0), (887, 0.0), (888, 0.0), (889, 0.0), (893, 0.0), (894, 0.0), (896, 0.0), (898, 0.0), (901, 0.0), (907, 0.0), (910, 0.0), (923, 0.0), (925, 0.0), (927, 0.0), (930, 0.0), (932, 0.0), (933, 0.0), (937, 0.0), (941, 0.0), (942, 0.0), (943, 0.0), (950, 0.0), (953, 0.0), (955, 0.0), (959, 0.0), (960, 0.0), (961, 0.0), (964, 0.0), (967, 0.0), (976, 0.0), (977, 0.0), (978, 0.0), (980, 0.0), (982, 0.0), (983, 0.0), (984, 0.0), (985, 0.0), (987, 0.0), (989, 0.0), (991, 0.0), (993, 0.0), (1002, 0.0), (1003, 0.0), (1004, 0.0), (1027, 0.0), (1028, 0.0), (1030, 0.0), (1032, 0.0), (1034, 0.0), (1035, 0.0), (1036, 0.0), (1039, 0.0), (1041, 0.0), (1047, 0.0), (1049, 0.0), (1052, 0.0), (1053, 0.0), (1055, 0.0), (1057, 0.0), (1058, 0.0), (1059, 0.0), (1060, 0.0), (1062, 0.0), (1064, 0.0), (1070, 0.0), (1071, 0.0), (1072, 0.0), (1073, 0.0), (1078, 0.0), (1080, 0.0), (1083, 0.0), (1084, 0.0), (1085, 0.0), (1086, 0.0), (1088, 0.0), (1097, 0.0), (1098, 0.0), (1101, 0.0), (1102, 0.0), (1103, 0.0), (1104, 0.0), (1106, 0.0), (1107, 0.0), (1110, 0.0), (1112, 0.0), (1119, 0.0), (1120, 0.0), (1125, 0.0), (1131, 0.0), (1139, 0.0), (1140, 0.0), (1142, 0.0), (1143, 0.0), (1145, 0.0), (1147, 0.0), (1152, 0.0), (1156, 0.0), (1158, 0.0), (1159, 0.0), (1160, 0.0), (1161, 0.0), (1163, 0.0), (1167, 0.0), (1168, 0.0), (1169, 0.0), (1170, 0.0), (1176, 0.0), (1177, 0.0), (1180, 0.0), (1181, 0.0), (1184, 0.0), (1186, 0.0), (1187, 0.0), (1188, 0.0), (1189, 0.0), (1190, 0.0), (1191, 0.0), (1193, 0.0), (1196, 0.0), (1197, 0.0), (1201, 0.0), (1202, 0.0), (1203, 0.0), (1204, 0.0), (1205, 0.0), (1208, 0.0), (1217, 0.0), (1218, 0.0), (1221, 0.0), (1222, 0.0), (1223, 0.0), (1224, 0.0), (1231, 0.0), (1232, 0.0), (1233, 0.0), (1243, 0.0), (1246, 0.0), (1248, 0.0), (1251, 0.0), (1260, 0.0), (1261, 0.0), (1264, 0.0), (1271, 0.0), (1282, 0.0), (1284, 0.0), (1286, 0.0), (1289, 0.0), (1294, 0.0), (1297, 0.0), (1298, 0.0), (1300, 0.0), (1303, 0.0), (1304, 0.0), (1305, 0.0), (1311, 0.0), (1313, 0.0), (1318, 0.0), (1319, 0.0), (1323, 0.0), (1325, 0.0), (1330, 0.0), (1331, 0.0), (1339, 0.0), (1340, 0.0), (1342, 0.0), (1343, 0.0), (1347, 0.0), (1349, 0.0), (1353, 0.0), (1360, 0.0), (1361, 0.0), (1370, 0.0), (1371, 0.0), (1372, 0.0), (1375, 0.0), (1378, 0.0), (1390, 0.0), (1391, 0.0), (1394, 0.0), (1395, 0.0), (1399, 0.0), (1400, 0.0), (1402, 0.0), (1405, 0.0), (1410, 0.0), (1414, 0.0), (1415, 0.0), (1416, 0.0), (1421, 0.0), (1422, 0.0), (1424, 0.0), (1427, 0.0), (1428, 0.0), (1429, 0.0), (1434, 0.0), (1435, 0.0), (1439, 0.0), (1441, 0.0), (1444, 0.0), (1448, 0.0), (1449, 0.0), (1450, 0.0), (1452, 0.0), (1457, 0.0), (1462, 0.0), (1463, 0.0), (1472, 0.0), (1473, 0.0), (1476, 0.0), (1480, 0.0), (1481, 0.0), (1482, 0.0), (1485, 0.0), (1487, 0.0), (1488, 0.0), (1489, 0.0), (1491, 0.0), (1498, 0.0), (1499, 0.0), (1518, 0.0), (1520, 0.0), (1523, 0.0), (1525, 0.0), (1528, 0.0), (1532, 0.0), (1533, 0.0), (1534, 0.0), (1541, 0.0), (1542, 0.0), (1548, 0.0), (1556, 0.0), (1557, 0.0), (1562, 0.0), (1565, 0.0), (1568, 0.0), (1573, 0.0), (1578, 0.0), (1582, 0.0), (1588, 0.0), (1590, 0.0), (1593, 0.0), (1594, 0.0), (1595, 0.0), (1596, 0.0), (1597, 0.0), (1602, 0.0), (1605, 0.0), (1608, 0.0), (1609, 0.0), (1610, 0.0), (1613, 0.0), (1614, 0.0), (1615, 0.0), (1617, 0.0), (1618, 0.0), (1620, 0.0), (1622, 0.0), (1623, 0.0), (1624, 0.0), (1625, 0.0), (1626, 0.0), (1628, 0.0), (1630, 0.0), (1631, 0.0), (1633, 0.0), (1634, 0.0), (1635, 0.0), (1636, 0.0), (1637, 0.0), (1638, 0.0), (1639, 0.0), (1641, 0.0), (1642, 0.0), (1643, 0.0), (1656, 0.0), (1660, 0.0), (1661, 0.0), (1663, 0.0), (1667, 0.0), (1668, 0.0), (1670, 0.0), (1671, 0.0), (1672, 0.0), (1673, 0.0), (1674, 0.0), (1676, 0.0), (1683, 0.0), (1691, 0.0), (1694, 0.0), (1699, 0.0), (1702, 0.0), (1704, 0.0), (1711, 0.0), (1716, 0.0), (1717, 0.0), (1719, 0.0), (1720, 0.0), (1725, 0.0), (1726, 0.0), (1733, 0.0), (1739, 0.0), (1741, 0.0), (1742, 0.0), (1744, 0.0), (1748, 0.0), (1750, 0.0), (1751, 0.0), (1752, 0.0), (1753, 0.0), (1754, 0.0), (1755, 0.0), (1756, 0.0), (1759, 0.0), (1760, 0.0), (1765, 0.0), (1766, 0.0), (1767, 0.0), (1768, 0.0), (1775, 0.0), (1780, 0.0), (1783, 0.0), (1786, 0.0), (1792, 0.0), (1794, 0.0), (1795, 0.0), (1800, 0.0), (1801, 0.0), (1803, 0.0), (1805, 0.0), (1811, 0.0), (1813, 0.0), (1814, 0.0), (1817, 0.0), (1820, 0.0), (1823, 0.0), (1825, 0.0), (1826, 0.0), (1829, 0.0), (1830, 0.0), (1832, 0.0), (1834, 0.0), (1835, 0.0), (1836, 0.0), (1837, 0.0), (1838, 0.0), (1840, 0.0), (1854, 0.0), (1856, 0.0), (1858, 0.0), (1862, 0.0), (1866, 0.0), (1868, 0.0), (1872, 0.0), (1874, 0.0), (1877, 0.0), (1879, 0.0), (1882, 0.0), (1884, 0.0), (1885, 0.0), (1887, 0.0), (1891, 0.0), (1892, 0.0), (1893, 0.0), (1896, 0.0), (1899, 0.0), (1900, 0.0), (1905, 0.0), (1906, 0.0), (1907, 0.0), (1909, 0.0), (1912, 0.0), (1914, 0.0), (1915, 0.0), (1916, 0.0), (1917, 0.0), (1922, 0.0), (1923, 0.0), (1924, 0.0), (1927, 0.0), (1928, 0.0), (1930, 0.0), (1933, 0.0), (1938, 0.0), (1940, 0.0), (1943, 0.0), (1944, 0.0), (1946, 0.0), (1947, 0.0), (1952, 0.0), (1953, 0.0), (1956, 0.0), (1958, 0.0), (1959, 0.0), (1960, 0.0), (1962, 0.0), (1963, 0.0), (1966, 0.0), (1969, 0.0), (1970, 0.0), (1972, 0.0), (1974, 0.0), (1975, 0.0), (1979, 0.0), (1980, 0.0), (1981, 0.0), (1983, 0.0), (1984, 0.0), (1990, 0.0), (1993, 0.0), (1995, 0.0), (1996, 0.0), (1997, 0.0), (1998, 0.0), (2001, 0.0), (2002, 0.0), (2003, 0.0), (2009, 0.0), (2017, 0.0), (2018, 0.0), (2023, 0.0), (2026, 0.0), (2029, 0.0), (2030, 0.0), (2031, 0.0), (2032, 0.0), (2038, 0.0), (2039, 0.0), (2041, 0.0), (2042, 0.0), (2046, 0.0), (2047, 0.0), (2054, 0.0), (2057, 0.0), (2059, 0.0), (2060, 0.0), (2063, 0.0), (2069, 0.0), (2071, 0.0), (2072, 0.0), (2073, 0.0), (2079, 0.0), (2080, 0.0), (2084, 0.0), (2086, 0.0), (2089, 0.0), (2090, 0.0), (2092, 0.0), (2097, 0.0), (2099, 0.0), (2105, 0.0), (2106, 0.0), (2108, 0.0), (2115, 0.0), (2120, 0.0), (2126, 0.0), (2128, 0.0), (2129, 0.0), (2130, 0.0), (2133, 0.0), (2134, 0.0), (2135, 0.0), (2137, 0.0), (2138, 0.0), (2141, 0.0), (2142, 0.0), (2146, 0.0), (2147, 0.0), (2148, 0.0), (2151, 0.0), (2152, 0.0), (2157, 0.0), (2162, 0.0), (2163, 0.0), (2165, 0.0), (2168, 0.0), (2169, 0.0), (2170, 0.0), (2172, 0.0), (2173, 0.0), (2176, 0.0), (2182, 0.0), (2186, 0.0), (2189, 0.0), (2192, 0.0), (2194, 0.0), (2195, 0.0), (2199, 0.0), (2200, 0.0), (2201, 0.0), (2213, 0.0), (2214, 0.0), (2215, 0.0), (2216, 0.0), (2218, 0.0), (2219, 0.0), (2222, 0.0), (2223, 0.0), (2225, 0.0), (2228, 0.0), (2229, 0.0), (2230, 0.0), (2231, 0.0), (2238, 0.0), (2240, 0.0), (2241, 0.0), (2242, 0.0), (2245, 0.0), (2246, 0.0), (2247, 0.0), (2248, 0.0), (2251, 0.0), (2252, 0.0), (2253, 0.0), (2255, 0.0), (2256, 0.0), (2257, 0.0), (2260, 0.0), (2261, 0.0), (2264, 0.0), (2266, 0.0), (2267, 0.0), (2269, 0.0), (2271, 0.0), (2272, 0.0), (2273, 0.0), (2278, 0.0), (2280, 0.0), (2281, 0.0), (2282, 0.0), (2286, 0.0), (2288, 0.0), (2289, 0.0), (2293, 0.0), (2295, 0.0), (2297, 0.0), (2299, 0.0), (2300, 0.0), (2302, 0.0), (2304, 0.0), (2305, 0.0), (2307, 0.0), (2308, 0.0), (2310, 0.0), (2312, 0.0), (2314, 0.0), (2319, 0.0), (2320, 0.0), (2321, 0.0), (2322, 0.0), (2323, 0.0), (2325, 0.0), (2328, 0.0), (2331, 0.0), (2332, 0.0), (2333, 0.0), (2334, 0.0), (2336, 0.0), (2338, 0.0), (2340, 0.0), (2341, 0.0), (2343, 0.0), (2344, 0.0), (2345, 0.0), (2346, 0.0), (2348, 0.0), (2349, 0.0), (2350, 0.0), (2357, 0.0), (2358, 0.0), (2365, 0.0), (2366, 0.0), (2369, 0.0), (2370, 0.0), (2371, 0.0), (2372, 0.0), (2373, 0.0), (2374, 0.0), (2375, 0.0), (2377, 0.0), (2379, 0.0), (2380, 0.0), (2384, 0.0), (2385, 0.0), (2386, 0.0), (2388, 0.0), (2390, 0.0), (2391, 0.0), (2392, 0.0), (2394, 0.0), (2395, 0.0), (2396, 0.0), (2400, 0.0), (2401, 0.0), (2402, 0.0), (2404, 0.0), (2406, 0.0), (2407, 0.0), (2408, 0.0), (2410, 0.0), (2414, 0.0), (2419, 0.0), (2420, 0.0), (2423, 0.0), (2425, 0.0), (2431, 0.0), (2434, 0.0), (2435, 0.0), (2438, 0.0), (2440, 0.0), (2441, 0.0), (2445, 0.0), (2446, 0.0), (2447, 0.0), (2448, 0.0), (2449, 0.0), (2452, 0.0), (2453, 0.0), (2454, 0.0), (2455, 0.0), (2456, 0.0), (2458, 0.0), (2462, 0.0), (2464, 0.0), (2465, 0.0), (2466, 0.0), (2467, 0.0), (2470, 0.0), (2475, 0.0), (2477, 0.0), (2478, 0.0), (2482, 0.0), (2483, 0.0), (2484, 0.0), (2485, 0.0), (2486, 0.0), (2488, 0.0), (2490, 0.0), (2492, 0.0), (2495, 0.0), (2497, 0.0), (2498, 0.0), (2499, 0.0), (2500, 0.0), (2502, 0.0), (2508, 0.0), (2511, 0.0), (2512, 0.0), (2515, 0.0), (2516, 0.0), (2518, 0.0), (2519, 0.0), (2523, 0.0), (2526, 0.0), (2527, 0.0), (2528, 0.0), (2529, 0.0), (2531, 0.0), (2534, 0.0), (2535, 0.0), (2536, 0.0), (2537, 0.0), (2543, 0.0), (2547, 0.0), (2556, 0.0), (2557, 0.0), (2558, 0.0), (2561, 0.0), (2564, 0.0), (2566, 0.0), (2570, 0.0), (2571, 0.0), (2575, 0.0), (2577, 0.0), (2578, 0.0), (2579, 0.0), (2583, 0.0), (2585, 0.0), (2586, 0.0), (2589, 0.0), (2591, 0.0), (2592, 0.0), (2593, 0.0), (2595, 0.0), (2596, 0.0), (2597, 0.0), (2599, 0.0), (2602, 0.0), (2606, 0.0), (2610, 0.0), (2611, 0.0), (2612, 0.0), (2613, 0.0), (2618, 0.0), (2619, 0.0), (2620, 0.0), (2623, 0.0), (2627, 0.0), (2630, 0.0), (2631, 0.0), (2635, 0.0), (2639, 0.0), (2643, 0.0), (2648, 0.0), (2649, 0.0), (2650, 0.0), (2652, 0.0), (2655, 0.0), (2656, 0.0), (2658, 0.0), (2661, 0.0), (2662, 0.0), (2664, 0.0), (2669, 0.0), (2673, 0.0), (2675, 0.0), (2677, 0.0), (2678, 0.0), (2679, 0.0), (2681, 0.0), (2683, 0.0), (2685, 0.0), (2690, 0.0), (2695, 0.0), (2699, 0.0), (2700, 0.0), (2701, 0.0), (2702, 0.0), (2705, 0.0), (2709, 0.0), (2716, 0.0), (2717, 0.0), (2719, 0.0), (2721, 0.0), (2722, 0.0), (2723, 0.0), (2724, 0.0), (2727, 0.0), (2728, 0.0), (2731, 0.0), (2733, 0.0), (2735, 0.0), (2737, 0.0), (2738, 0.0), (2739, 0.0), (2743, 0.0), (2745, 0.0), (2746, 0.0), (2747, 0.0), (2748, 0.0), (2750, 0.0), (2756, 0.0), (2757, 0.0), (2758, 0.0), (2760, 0.0), (2762, 0.0), (2764, 0.0), (2770, 0.0), (2773, 0.0), (2775, 0.0), (2782, 0.0), (2783, 0.0), (2784, 0.0), (2785, 0.0), (2786, 0.0), (2792, 0.0), (2793, 0.0), (2794, 0.0), (2796, 0.0), (2797, 0.0), (2799, 0.0), (2800, 0.0), (2805, 0.0), (2807, 0.0), (2814, 0.0), (2818, 0.0), (2821, 0.0), (2823, 0.0), (2824, 0.0), (2827, 0.0), (2828, 0.0), (2832, 0.0), (2833, 0.0), (2835, 0.0), (2836, 0.0), (2837, 0.0), (2838, 0.0), (2839, 0.0), (2846, 0.0), (2848, 0.0), (2849, 0.0), (2851, 0.0), (2855, 0.0), (2856, 0.0), (2857, 0.0), (2858, 0.0), (2861, 0.0), (2863, 0.0), (2865, 0.0), (2866, 0.0), (2869, 0.0), (2870, 0.0), (2871, 0.0), (2872, 0.0), (2876, 0.0), (2877, 0.0), (2879, 0.0), (2882, 0.0), (2883, 0.0), (2884, 0.0), (2886, 0.0), (2889, 0.0), (2890, 0.0), (2891, 0.0), (2892, 0.0), (2893, 0.0), (2894, 0.0), (2897, 0.0), (2900, 0.0), (2901, 0.0), (2903, 0.0), (2905, 0.0), (2906, 0.0), (2907, 0.0), (2909, 0.0), (2914, 0.0), (2916, 0.0), (2919, 0.0), (2921, 0.0), (2923, 0.0), (2924, 0.0), (2925, 0.0), (2926, 0.0), (2928, 0.0), (2930, 0.0), (2932, 0.0), (2934, 0.0), (2938, 0.0), (2939, 0.0), (2941, 0.0), (2945, 0.0), (2946, 0.0), (2948, 0.0), (2949, 0.0), (2951, 0.0), (2952, 0.0), (2953, 0.0), (2954, 0.0), (2956, 0.0), (2958, 0.0), (2961, 0.0), (2965, 0.0), (2966, 0.0), (2967, 0.0), (2968, 0.0), (2970, 0.0), (2972, 0.0), (2973, 0.0), (2974, 0.0), (2976, 0.0), (2978, 0.0), (2979, 0.0), (2983, 0.0), (2984, 0.0), (2986, 0.0), (2987, 0.0), (2989, 0.0), (2991, 0.0), (2993, 0.0), (2994, 0.0), (2997, 0.0), (2999, 0.0), (3001, 0.0), (3002, 0.0), (3003, 0.0), (3004, 0.0), (3005, 0.0), (3006, 0.0), (3007, 0.0), (3009, 0.0), (3011, 0.0), (3012, 0.0), (3015, 0.0), (3016, 0.0), (3017, 0.0), (3018, 0.0), (3019, 0.0), (3020, 0.0), (3021, 0.0), (3025, 0.0), (3026, 0.0), (3028, 0.0), (3029, 0.0), (3030, 0.0), (3032, 0.0), (3034, 0.0), (3035, 0.0), (3036, 0.0), (3037, 0.0), (3038, 0.0), (3040, 0.0), (3041, 0.0), (3042, 0.0), (3048, 0.0), (3050, 0.0), (3051, 0.0), (3052, 0.0), (3053, 0.0), (3054, 0.0), (3055, 0.0), (3056, 0.0), (3060, 0.0), (3063, 0.0), (3068, 0.0), (3071, 0.0), (3072, 0.0), (3073, 0.0), (3074, 0.0), (3075, 0.0), (3076, 0.0), (3079, 0.0), (3080, 0.0), (3081, 0.0), (3082, 0.0), (3084, 0.0), (3086, 0.0), (3087, 0.0), (3088, 0.0), (3089, 0.0), (3092, 0.0), (3093, 0.0), (3101, 0.0), (3102, 0.0), (3103, 0.0), (3106, 0.0), (3107, 0.0), (3109, 0.0), (3110, 0.0), (3118, 0.0), (3119, 0.0), (3122, 0.0), (3123, 0.0), (3125, 0.0), (3127, 0.0), (3128, 0.0), (3137, 0.0), (3138, 0.0), (3139, 0.0), (3142, 0.0), (3145, 0.0), (3146, 0.0), (3148, 0.0), (3150, 0.0), (3153, 0.0), (3154, 0.0), (3155, 0.0), (3158, 0.0), (3159, 0.0), (3160, 0.0), (3162, 0.0), (3166, 0.0), (3167, 0.0), (3170, 0.0), (3171, 0.0), (3173, 0.0), (3176, 0.0), (3178, 0.0), (3179, 0.0), (3180, 0.0), (3182, 0.0), (3187, 0.0), (3188, 0.0), (3192, 0.0), (3194, 0.0), (3196, 0.0), (3197, 0.0), (3198, 0.0), (3199, 0.0), (3200, 0.0), (3203, 0.0), (3204, 0.0), (3211, 0.0), (3212, 0.0), (3214, 0.0), (3216, 0.0), (3217, 0.0), (3219, 0.0), (3220, 0.0), (3230, 0.0), (3233, 0.0), (3234, 0.0), (3239, 0.0), (3243, 0.0), (3245, 0.0), (3248, 0.0), (3249, 0.0), (3250, 0.0), (3251, 0.0), (3255, 0.0), (3257, 0.0), (3258, 0.0), (3260, 0.0), (3261, 0.0), (3262, 0.0), (3266, 0.0), (3268, 0.0), (3269, 0.0), (3271, 0.0), (3274, 0.0), (3277, 0.0), (3278, 0.0), (3279, 0.0), (3280, 0.0), (3281, 0.0), (3282, 0.0), (3283, 0.0), (3285, 0.0), (3287, 0.0), (3289, 0.0), (3290, 0.0), (3291, 0.0), (3292, 0.0), (3295, 0.0), (3296, 0.0), (3298, 0.0), (3300, 0.0), (3301, 0.0), (3305, 0.0), (3307, 0.0), (3313, 0.0), (3317, 0.0), (3318, 0.0), (3319, 0.0), (3321, 0.0), (3322, 0.0), (3324, 0.0), (3325, 0.0), (3326, 0.0), (3331, 0.0), (3333, 0.0), (3334, 0.0), (3337, 0.0), (3340, 0.0), (3341, 0.0), (3345, 0.0), (3347, 0.0), (3348, 0.0), (3349, 0.0), (3350, 0.0), (3352, 0.0), (3354, 0.0), (3355, 0.0), (3356, 0.0), (3357, 0.0), (3358, 0.0), (3359, 0.0), (3363, 0.0), (3364, 0.0), (3371, 0.0), (3372, 0.0), (3375, 0.0), (3378, 0.0), (3379, 0.0), (3380, 0.0), (3381, 0.0), (3382, 0.0), (3388, 0.0), (3390, 0.0), (3391, 0.0), (3396, 0.0), (3398, 0.0), (3400, 0.0), (3401, 0.0), (3402, 0.0), (3406, 0.0), (3413, 0.0), (3414, 0.0), (3415, 0.0), (3418, 0.0), (3421, 0.0), (3422, 0.0), (3425, 0.0), (3428, 0.0), (3431, 0.0), (3433, 0.0), (3435, 0.0), (3436, 0.0), (3437, 0.0), (3442, 0.0), (3446, 0.0), (3455, 0.0), (3459, 0.0), (3460, 0.0), (3462, 0.0), (3470, 0.0), (3471, 0.0), (3475, 0.0), (3476, 0.0), (3477, 0.0), (3478, 0.0), (3480, 0.0), (3481, 0.0), (3484, 0.0), (3488, 0.0), (3489, 0.0), (3490, 0.0), (3491, 0.0), (3493, 0.0), (3494, 0.0), (3495, 0.0), (3496, 0.0), (3498, 0.0), (3499, 0.0), (3501, 0.0), (3502, 0.0), (3505, 0.0), (3506, 0.0), (3510, 0.0), (3512, 0.0), (3519, 0.0), (3521, 0.0), (3523, 0.0), (3526, 0.0), (3527, 0.0), (3528, 0.0), (3530, 0.0), (3533, 0.0), (3534, 0.0), (3535, 0.0), (3537, 0.0), (3539, 0.0), (3540, 0.0), (3542, 0.0), (3543, 0.0), (3544, 0.0), (3545, 0.0), (3547, 0.0), (3548, 0.0), (3549, 0.0), (3551, 0.0), (3552, 0.0), (3557, 0.0), (3561, 0.0), (3563, 0.0), (3564, 0.0), (3565, 0.0), (3567, 0.0), (3570, 0.0), (3571, 0.0), (3572, 0.0), (3573, 0.0), (3575, 0.0), (3576, 0.0), (3577, 0.0), (3580, 0.0), (3581, 0.0), (3583, 0.0), (3590, 0.0), (3592, 0.0), (3601, 0.0), (3606, 0.0), (3608, 0.0), (3609, 0.0), (3610, 0.0), (3611, 0.0), (3613, 0.0), (3616, 0.0), (3617, 0.0), (3618, 0.0), (3619, 0.0), (3620, 0.0), (3621, 0.0), (3622, 0.0), (3624, 0.0), (3625, 0.0), (3626, 0.0), (3627, 0.0), (3631, 0.0), (3633, 0.0), (3636, 0.0), (3639, 0.0), (3640, 0.0), (3647, 0.0), (3649, 0.0), (3650, 0.0), (3652, 0.0), (3653, 0.0), (3662, 0.0), (3663, 0.0), (3664, 0.0), (3666, 0.0), (3669, 0.0), (3670, 0.0), (3671, 0.0), (3672, 0.0), (3673, 0.0), (3675, 0.0), (3677, 0.0), (3679, 0.0), (3682, 0.0), (3683, 0.0), (3686, 0.0), (3687, 0.0), (3688, 0.0), (3691, 0.0), (3696, 0.0), (3699, 0.0), (3702, 0.0), (3704, 0.0), (3707, 0.0), (3712, 0.0), (3717, 0.0), (3719, 0.0), (3722, 0.0), (3725, 0.0), (3727, 0.0), (3729, 0.0), (3730, 0.0), (3736, 0.0), (3737, 0.0), (3739, 0.0), (3745, 0.0), (3749, 0.0), (3750, 0.0), (3753, 0.0), (3755, 0.0), (3756, 0.0), (3757, 0.0), (3759, 0.0), (3760, 0.0), (3761, 0.0), (3762, 0.0), (3763, 0.0), (3764, 0.0), (3765, 0.0), (3768, 0.0), (3769, 0.0), (3772, 0.0), (3774, 0.0), (3775, 0.0), (3777, 0.0), (3778, 0.0), (3779, 0.0), (3788, 0.0), (3789, 0.0), (3791, 0.0), (3792, 0.0), (3793, 0.0), (3796, 0.0), (3799, 0.0), (3800, 0.0), (3804, 0.0), (3806, 0.0), (3808, 0.0), (3809, 0.0), (3810, 0.0), (3812, 0.0), (3815, 0.0), (3816, 0.0), (3818, 0.0), (3819, 0.0), (3820, 0.0), (3823, 0.0), (3824, 0.0), (3827, 0.0), (3828, 0.0), (3830, 0.0), (3831, 0.0), (3832, 0.0), (3833, 0.0), (3836, 0.0), (3837, 0.0), (3838, 0.0), (3841, 0.0), (3842, 0.0), (3843, 0.0), (3844, 0.0), (3847, 0.0), (3848, 0.0), (3851, 0.0), (3852, 0.0), (3855, 0.0), (3856, 0.0), (3857, 0.0), (3858, 0.0), (3859, 0.0), (3861, 0.0), (3863, 0.0), (3866, 0.0), (3868, 0.0), (3872, 0.0), (3873, 0.0), (3874, 0.0), (3881, 0.0), (3885, 0.0), (3886, 0.0), (3887, 0.0), (3889, 0.0), (3890, 0.0), (3891, 0.0), (3892, 0.0), (3893, 0.0), (3895, 0.0), (3896, 0.0), (3898, 0.0), (3899, 0.0), (3900, 0.0), (3901, 0.0), (3902, 0.0), (3904, 0.0), (3905, 0.0), (3906, 0.0), (3911, 0.0), (3912, 0.0), (3914, 0.0), (3918, 0.0), (3920, 0.0), (3921, 0.0), (3922, 0.0), (3925, 0.0), (3928, 0.0), (3929, 0.0), (3930, 0.0), (3931, 0.0), (3934, 0.0), (3935, 0.0), (3936, 0.0), (3939, 0.0), (3941, 0.0), (3942, 0.0), (3944, 0.0), (3945, 0.0), (3948, 0.0), (3952, 0.0), (3953, 0.0), (3956, 0.0), (3958, 0.0), (3959, 0.0), (3961, 0.0), (3962, 0.0), (3964, 0.0), (3967, 0.0), (3969, 0.0), (3971, 0.0), (3974, 0.0), (3975, 0.0), (3976, 0.0), (3981, 0.0), (3984, 0.0), (3985, 0.0), (3986, 0.0), (3987, 0.0), (3988, 0.0), (3989, 0.0), (3992, 0.0), (3994, 0.0), (3995, 0.0), (3996, 0.0), (4000, 0.0), (4002, 0.0), (4006, 0.0), (4011, 0.0), (4014, 0.0), (4016, 0.0), (4018, 0.0), (4021, 0.0), (4022, 0.0), (4024, 0.0), (4026, 0.0), (4027, 0.0), (4028, 0.0), (4029, 0.0), (4030, 0.0), (4040, 0.0), (4042, 0.0), (4043, 0.0), (4047, 0.0), (4048, 0.0), (4049, 0.0), (4050, 0.0), (4051, 0.0), (4059, 0.0), (4063, 0.0), (4064, 0.0), (4065, 0.0), (4066, 0.0), (4067, 0.0), (4069, 0.0), (4072, 0.0), (4073, 0.0), (4080, 0.0), (4081, 0.0), (4082, 0.0), (4083, 0.0), (4084, 0.0), (4085, 0.0), (4087, 0.0), (4088, 0.0), (4089, 0.0), (4090, 0.0), (4092, 0.0), (4096, 0.0), (4097, 0.0), (4102, 0.0), (4104, 0.0), (4105, 0.0), (4107, 0.0), (4108, 0.0), (4111, 0.0), (4113, 0.0), (4115, 0.0), (4120, 0.0), (4123, 0.0), (4124, 0.0), (4126, 0.0), (4127, 0.0), (4129, 0.0), (4133, 0.0), (4135, 0.0), (4137, 0.0), (4138, 0.0), (4140, 0.0), (4145, 0.0), (4146, 0.0), (4149, 0.0), (4150, 0.0), (4151, 0.0), (4154, 0.0), (4161, 0.0), (4162, 0.0), (4163, 0.0), (4166, 0.0), (4167, 0.0), (4170, 0.0), (4172, 0.0), (4175, 0.0), (4176, 0.0), (4178, 0.0), (4179, 0.0), (4180, 0.0), (4184, 0.0), (4185, 0.0), (4187, 0.0), (4190, 0.0), (4191, 0.0), (4192, 0.0), (4197, 0.0), (4198, 0.0), (4201, 0.0), (4204, 0.0), (4206, 0.0), (4207, 0.0), (4208, 0.0), (4212, 0.0), (4213, 0.0), (4214, 0.0), (4215, 0.0), (4216, 0.0), (4219, 0.0), (4222, 0.0), (4223, 0.0), (4225, 0.0), (4227, 0.0), (4228, 0.0), (4229, 0.0), (4230, 0.0), (4231, 0.0), (4234, 0.0), (4235, 0.0), (4237, 0.0), (4239, 0.0), (4243, 0.0), (4246, 0.0), (4247, 0.0), (4250, 0.0), (4251, 0.0), (4252, 0.0), (4254, 0.0), (4259, 0.0), (4260, 0.0), (4262, 0.0), (4263, 0.0), (4265, 0.0), (4266, 0.0), (4267, 0.0), (4271, 0.0), (4273, 0.0), (4275, 0.0), (4277, 0.0), (4278, 0.0), (4279, 0.0), (4280, 0.0), (4281, 0.0), (4282, 0.0), (4284, 0.0), (4290, 0.0), (4291, 0.0), (4296, 0.0), (4297, 0.0), (4299, 0.0), (4300, 0.0), (4301, 0.0), (4302, 0.0), (4304, 0.0), (4305, 0.0), (4306, 0.0), (4309, 0.0), (4311, 0.0), (4315, 0.0), (4317, 0.0), (4318, 0.0), (4321, 0.0), (4322, 0.0), (4326, 0.0), (4327, 0.0), (4329, 0.0), (4331, 0.0), (4332, 0.0), (4333, 0.0), (4334, 0.0), (4335, 0.0), (4339, 0.0), (4340, 0.0), (4341, 0.0), (4345, 0.0), (4346, 0.0), (4348, 0.0), (4349, 0.0), (4352, 0.0), (4354, 0.0), (4356, 0.0), (4358, 0.0), (4359, 0.0), (4360, 0.0), (4361, 0.0), (4362, 0.0), (4363, 0.0), (4365, 0.0), (4372, 0.0), (4375, 0.0), (4376, 0.0), (4377, 0.0), (4380, 0.0), (4381, 0.0), (4383, 0.0), (4386, 0.0), (4387, 0.0), (4389, 0.0), (4391, 0.0), (4393, 0.0), (4394, 0.0), (4395, 0.0), (4396, 0.0), (4397, 0.0), (4398, 0.0), (4399, 0.0), (4400, 0.0), (4402, 0.0), (4403, 0.0), (4404, 0.0), (4407, 0.0), (4408, 0.0), (4411, 0.0), (4412, 0.0), (4413, 0.0), (4414, 0.0), (4416, 0.0), (4417, 0.0), (4421, 0.0), (4422, 0.0), (4423, 0.0), (4424, 0.0), (4425, 0.0), (4427, 0.0), (4431, 0.0), (4433, 0.0), (4434, 0.0), (4437, 0.0), (4438, 0.0), (4442, 0.0), (4446, 0.0), (4448, 0.0), (4449, 0.0), (4452, 0.0), (4458, 0.0), (4461, 0.0), (4462, 0.0), (4463, 0.0), (4465, 0.0), (4468, 0.0), (4469, 0.0), (4470, 0.0), (4471, 0.0), (4472, 0.0), (4473, 0.0), (4474, 0.0), (4476, 0.0), (4480, 0.0), (4483, 0.0), (4484, 0.0), (4485, 0.0), (4487, 0.0), (4488, 0.0), (4489, 0.0), (4494, 0.0), (4495, 0.0), (4497, 0.0), (4499, 0.0), (4500, 0.0), (4504, 0.0), (4505, 0.0), (4506, 0.0), (4507, 0.0), (4508, 0.0), (4510, 0.0), (4512, 0.0), (4513, 0.0), (4514, 0.0), (4515, 0.0), (4517, 0.0), (4520, 0.0), (4521, 0.0), (4522, 0.0), (4526, 0.0), (4527, 0.0), (4528, 0.0), (4529, 0.0), (4530, 0.0), (4532, 0.0), (4536, 0.0), (4537, 0.0), (4538, 0.0), (4539, 0.0), (4540, 0.0), (4541, 0.0), (4542, 0.0), (4545, 0.0), (4546, 0.0), (4547, 0.0), (4549, 0.0), (4552, 0.0), (4555, 0.0), (4556, 0.0), (4558, 0.0), (4559, 0.0), (4560, 0.0), (4561, 0.0), (4562, 0.0), (4565, 0.0), (4568, 0.0), (4570, 0.0), (4571, 0.0), (4572, 0.0), (4573, 0.0), (4575, 0.0), (4577, 0.0), (4578, 0.0), (4579, 0.0), (4583, 0.0), (4585, 0.0), (4592, 0.0), (4593, 0.0), (4594, 0.0), (4595, 0.0), (4597, 0.0), (4598, 0.0), (4599, 0.0), (4601, 0.0), (4602, 0.0), (4604, 0.0), (4611, 0.0), (4612, 0.0), (4614, 0.0), (4615, 0.0), (4616, 0.0), (4617, 0.0), (4618, 0.0), (4620, 0.0), (4622, 0.0), (4624, 0.0), (4625, 0.0), (4633, 0.0), (4634, 0.0), (4635, 0.0), (4636, 0.0), (4637, 0.0), (4638, 0.0), (4640, 0.0), (4641, 0.0), (4644, 0.0), (4645, 0.0), (4648, 0.0), (4651, 0.0), (4654, 0.0), (4655, 0.0), (4656, 0.0), (4657, 0.0), (4659, 0.0), (4660, 0.0), (4664, 0.0), (4665, 0.0), (4666, 0.0), (4667, 0.0), (4669, 0.0), (4670, 0.0), (4671, 0.0), (4672, 0.0), (4675, 0.0), (4678, 0.0), (4679, 0.0), (4680, 0.0), (4681, 0.0), (4683, 0.0), (4686, 0.0), (4689, 0.0), (4691, 0.0), (4692, 0.0), (4693, 0.0), (4694, 0.0), (4696, 0.0), (4697, 0.0), (4699, 0.0), (4700, 0.0), (4701, 0.0), (4702, 0.0), (4704, 0.0), (4706, 0.0), (4707, 0.0), (4710, 0.0), (4711, 0.0), (4712, 0.0), (4713, 0.0), (4714, 0.0), (4715, 0.0), (4716, 0.0), (4717, 0.0), (4718, 0.0), (4719, 0.0), (4720, 0.0), (4721, 0.0), (4722, 0.0), (4724, 0.0), (4727, 0.0), (4728, 0.0), (4729, 0.0), (4730, 0.0), (4731, 0.0), (4734, 0.0), (4735, 0.0), (4737, 0.0), (4740, 0.0), (4745, 0.0), (4746, 0.0), (4749, 0.0), (4750, 0.0), (4751, 0.0), (4753, 0.0), (4755, 0.0), (4757, 0.0), (4758, 0.0), (4759, 0.0)]\n"
          ]
        }
      ]
    },
    {
      "cell_type": "code",
      "source": [
        "print('Top 30 Movies Suggested for you : \\n')\n",
        "i=1\n",
        "for movie in Sorted_Similar_Movies:\n",
        "  index = movie[0]\n",
        "  title_from_index = df[df.index==index]['Movie_Title'].values[0]\n",
        "  if(i<31):\n",
        "    print(i, '.', title_from_index)\n",
        "    i+=1"
      ],
      "metadata": {
        "colab": {
          "base_uri": "https://localhost:8080/"
        },
        "id": "r1IFF4_ZOMae",
        "outputId": "de5b34fa-af6a-448d-cd0b-faeec8c2b02d"
      },
      "execution_count": 29,
      "outputs": [
        {
          "output_type": "stream",
          "name": "stdout",
          "text": [
            "Top 30 Movies Suggested for you : \n",
            "\n",
            "1 . Spider-Man 2\n",
            "2 . Spider-Man 3\n",
            "3 . Spider-Man\n",
            "4 . Deadpool\n",
            "5 . Frida\n",
            "6 . The Good German\n",
            "7 . The Hoax\n",
            "8 . Abduction\n",
            "9 . Crazy/Beautiful\n",
            "10 . The Mask\n",
            "11 . Dudley Do-Right\n",
            "12 . Midnight Special\n",
            "13 . Iron Man 2\n",
            "14 . Brothers\n",
            "15 . 30 Minutes or Less\n",
            "16 . Watchmen\n",
            "17 . X-Men: Days of Future Past\n",
            "18 . X-Men\n",
            "19 . Thor\n",
            "20 . The Amazing Spider-Man 2\n",
            "21 . X-Men: The Last Stand\n",
            "22 . Fear and Loathing in Las Vegas\n",
            "23 . The Company\n",
            "24 . Wimbledon\n",
            "25 . Sexy Beast\n",
            "26 . Elizabethtown\n",
            "27 . Kick-Ass 2\n",
            "28 . The Virgin Suicides\n",
            "29 . My Best Friend's Wedding\n",
            "30 . Swelter\n"
          ]
        }
      ]
    },
    {
      "cell_type": "markdown",
      "source": [
        "#Top 10 Movie Recommendation System"
      ],
      "metadata": {
        "id": "5_uDf1PDLNDF"
      }
    },
    {
      "cell_type": "code",
      "source": [
        "Movie_Name = input ('Enter your favourite movie name : ')\n",
        "list_of_all_titles = df['Movie_Title'].tolist()\n",
        "Find_Close_Match = difflib.get_close_matches(Movie_Name, list_of_all_titles)\n",
        "Close_Match = Find_Close_Match[0]\n",
        "Index_of_Movie = df[df.Movie_Title == Close_Match]['Movie_ID'].values[0]\n",
        "Recommendation_Score = list(enumerate(Similarity_Score[Index_of_Movie]))\n",
        "Sorted_Similar_movies = sorted(Recommendation_Score, key = lambda x:x[1], reverse= True)\n",
        "print('Top 10 Movies suggested for you : \\n')\n",
        "i=1\n",
        "for movie in Sorted_Similar_movies:\n",
        "  index = movie[0]\n",
        "  title_from_index = df[df.Movie_ID==index]['Movie_Title'].values\n",
        "  if (i<11):\n",
        "    print(i,'.',title_from_index)\n",
        "    i+=1\n"
      ],
      "metadata": {
        "colab": {
          "base_uri": "https://localhost:8080/"
        },
        "id": "kN9GMVlZPTL_",
        "outputId": "22266c6f-b8f6-4675-9007-5ef6c88499e3"
      },
      "execution_count": 30,
      "outputs": [
        {
          "output_type": "stream",
          "name": "stdout",
          "text": [
            "Enter your favourite movie name : spidreman\n",
            "Top 10 Movies suggested for you : \n",
            "\n",
            "1 . ['Spider-Man']\n",
            "2 . ['Spider-Man 2']\n",
            "3 . ['Fight Club']\n",
            "4 . ['Wolves']\n",
            "5 . ['American Psycho']\n",
            "6 . ['Minority Report']\n",
            "7 . ['Wrong Turn']\n",
            "8 . ['The Inkwell']\n",
            "9 . ['The Watcher']\n",
            "10 . ['Enemy at the Gates']\n"
          ]
        }
      ]
    }
  ]
}